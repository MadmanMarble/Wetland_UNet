{
  "cells": [
    {
      "cell_type": "code",
      "source": [
        "# make sure we have the most current version of github repo\n",
        "%cd Wetland_Unet/azure/scv\n",
        "!git pull\n",
        "%cd .."
      ],
      "outputs": [
        {
          "output_type": "stream",
          "name": "stdout",
          "text": "/mnt/batch/tasks/shared/LS_root/mounts/clusters/wetlandsbasiccpu/code/Users/mevans/Satellite_ComputerVision\nremote: Enumerating objects: 28, done.\u001b[K\nremote: Counting objects: 100% (28/28), done.\u001b[K\nremote: Compressing objects: 100% (5/5), done.\u001b[K\nremote: Total 20 (delta 16), reused 19 (delta 15), pack-reused 0\u001b[K\nUnpacking objects: 100% (20/20), 5.52 KiB | 2.00 KiB/s, done.\nFrom https://github.com/mjevans26/Satellite_ComputerVision\n   164ff20..ce176df  master     -> origin/master\nUpdating 164ff20..ce176df\nFast-forward\n .spyproject/workspace.ini |   2 \u001b[32m+\u001b[m\u001b[31m-\u001b[m\n azure/retrain_wetland.py  | 232 \u001b[32m++++++++++++++++++++++++++++++++++++++++++++++\u001b[m\n azure/train_acd.py        |   4 \u001b[32m+\u001b[m\u001b[31m-\u001b[m\n azure/train_wetland.py    |  48 \u001b[32m+++++\u001b[m\u001b[31m-----\u001b[m\n utils/model_tools.py      |  18 \u001b[32m++\u001b[m\u001b[31m--\u001b[m\n utils/prediction_tools.py |   4 \u001b[32m+\u001b[m\u001b[31m-\u001b[m\n 6 files changed, 276 insertions(+), 32 deletions(-)\n create mode 100644 azure/retrain_wetland.py\n/mnt/batch/tasks/shared/LS_root/mounts/clusters/wetlandsbasiccpu/code/Users/mevans\n"
        }
      ],
      "execution_count": 155,
      "metadata": {
        "collapsed": true,
        "jupyter": {
          "source_hidden": false,
          "outputs_hidden": false
        },
        "nteract": {
          "transient": {
            "deleting": false
          }
        },
        "gather": {
          "logged": 1624570403521
        }
      }
    },
    {
      "cell_type": "code",
      "source": [
        "from azureml.tensorboard import Tensorboard\n",
        "from azureml.core import Experiment, Environment, Workspace, Datastore, Dataset, Model, ScriptRunConfig\n",
        "import os\n",
        "import glob\n",
        "# get the current workspace\n",
        "ws = Workspace.from_config()"
      ],
      "outputs": [],
      "execution_count": 1,
      "metadata": {
        "gather": {
          "logged": 1648748087668
        }
      }
    },
    {
      "cell_type": "code",
      "source": [
        "# access our registered data share containing image data in this workspace\n",
        "datastore = Datastore.get(workspace = ws, datastore_name = 'wetlanddatastore')\n",
        "\n",
        "train_path = (datastore, 'summerReplicated/training/')\n",
        "eval_path = (datastore, 'summerReplicated/eval/')\n",
        "\n",
        "test_path = (datastore, 'summerReplicated/predict/test_aoi_Kumar_LES')\n",
        "\n",
        "train_dataset = Dataset.File.from_files(path = [train_path])\n",
        "eval_dataset = Dataset.File.from_files(path = [eval_path])\n",
        "test_dataset = Dataset.File.from_files(path = [test_path])"
      ],
      "outputs": [],
      "execution_count": 2,
      "metadata": {
        "collapsed": true,
        "jupyter": {
          "source_hidden": false,
          "outputs_hidden": false
        },
        "nteract": {
          "transient": {
            "deleting": false
          }
        },
        "gather": {
          "logged": 1648748094048
        }
      }
    },
    {
      "cell_type": "code",
      "source": [
        "# FInd the run corresponding to the model we want to register\n",
        "run_id = 'wetland-unet-les_1648603447_6a7d97c7'\n",
        "\n",
        "run = ws.get_run(run_id)\n",
        "\n",
        "run.tags"
      ],
      "outputs": [
        {
          "output_type": "execute_result",
          "execution_count": 3,
          "data": {
            "text/plain": "{'splits': 'None',\n 'one_hot': 'geomorphons',\n 'model': 'Unet',\n 'normalization': 'pixel',\n 'features': 'full',\n 'epochs': '150-200',\n 'weight': '5',\n '_aml_system_ComputeTargetStatus': '{\"AllocationState\":\"steady\",\"PreparingNodeCount\":0,\"RunningNodeCount\":0,\"CurrentNodeCount\":1}'}"
          },
          "metadata": {}
        }
      ],
      "execution_count": 3,
      "metadata": {
        "collapsed": true,
        "jupyter": {
          "source_hidden": false,
          "outputs_hidden": false
        },
        "nteract": {
          "transient": {
            "deleting": false
          }
        },
        "gather": {
          "logged": 1648748100307
        }
      }
    },
    {
      "cell_type": "code",
      "source": [
        "model_name = 'wetland-unet-full-LES'"
      ],
      "outputs": [],
      "execution_count": 4,
      "metadata": {
        "collapsed": true,
        "jupyter": {
          "source_hidden": false,
          "outputs_hidden": false
        },
        "nteract": {
          "transient": {
            "deleting": false
          }
        },
        "gather": {
          "logged": 1648748102298
        }
      }
    },
    {
      "cell_type": "code",
      "source": [
        "# if we haven't already registered our model\n",
        "model = run.register_model(model_name= model_name,\n",
        "                           tags=run.tags,\n",
        "                           description = 'UNET model delineating wetlands using Sentinel-2, NAIP data from LES',\n",
        "                           model_path='outputs/',\n",
        "                           model_framework = 'Tensorflow',\n",
        "                           model_framework_version= '2.0',\n",
        "                           datasets = [('training', train_dataset), ('evaluation', eval_dataset), ('testing', test_dataset)])\n",
        "print(model.name, model.id, model.version, sep='\\t')"
      ],
      "outputs": [
        {
          "output_type": "stream",
          "name": "stdout",
          "text": "wetland-unet-basic-LES\twetland-unet-basic-LES:2\t2\n"
        }
      ],
      "execution_count": 6,
      "metadata": {
        "collapsed": true,
        "jupyter": {
          "source_hidden": false,
          "outputs_hidden": false
        },
        "nteract": {
          "transient": {
            "deleting": false
          }
        },
        "gather": {
          "logged": 1648736389967
        }
      }
    },
    {
      "cell_type": "code",
      "source": [
        "model_id = model_name\n",
        "model = Model(ws, model_id)\n",
        "model.version\n",
        "model.get_model_path(model_id, _workspace = ws)\n",
        "\n",
        "# model_path = model.get_model_path(model_id, _workspace = ws)\n",
        "# model_path"
      ],
      "outputs": [
        {
          "output_type": "execute_result",
          "execution_count": 6,
          "data": {
            "text/plain": "'azureml-models/wetland-unet-full-LES/3/outputs'"
          },
          "metadata": {}
        }
      ],
      "execution_count": 6,
      "metadata": {
        "collapsed": true,
        "jupyter": {
          "source_hidden": false,
          "outputs_hidden": false
        },
        "nteract": {
          "transient": {
            "deleting": false
          }
        },
        "gather": {
          "logged": 1648748233404
        }
      }
    },
    {
      "cell_type": "code",
      "source": [
        "model.run_id"
      ],
      "outputs": [
        {
          "output_type": "execute_result",
          "execution_count": 7,
          "data": {
            "text/plain": "'wetland-unet-les_1648603447_6a7d97c7'"
          },
          "metadata": {}
        }
      ],
      "execution_count": 7,
      "metadata": {
        "jupyter": {
          "source_hidden": false,
          "outputs_hidden": false
        },
        "nteract": {
          "transient": {
            "deleting": false
          }
        },
        "gather": {
          "logged": 1648748237162
        }
      }
    },
    {
      "cell_type": "code",
      "source": [
        "Model.get_model_path(model_id, _workspace = ws)"
      ],
      "outputs": [],
      "execution_count": null,
      "metadata": {
        "collapsed": true,
        "jupyter": {
          "source_hidden": false,
          "outputs_hidden": false
        },
        "nteract": {
          "transient": {
            "deleting": false
          }
        },
        "gather": {
          "logged": 1624845178668
        }
      }
    },
    {
      "cell_type": "code",
      "source": [
        "# use the azure folder as our script folder\n",
        "script_folder = 'Wetland_UNet/azure'\n",
        "script_file = 'retrain_wetland.py'"
      ],
      "outputs": [],
      "execution_count": 8,
      "metadata": {
        "collapsed": true,
        "jupyter": {
          "source_hidden": false,
          "outputs_hidden": false
        },
        "nteract": {
          "transient": {
            "deleting": false
          }
        },
        "gather": {
          "logged": 1648748241613
        }
      }
    },
    {
      "cell_type": "code",
      "source": [
        "# get our environment\n",
        "envs = Environment.list(workspace = ws)\n",
        "env = envs.get('wetland-training')"
      ],
      "outputs": [],
      "execution_count": 9,
      "metadata": {
        "collapsed": true,
        "jupyter": {
          "source_hidden": false,
          "outputs_hidden": false
        },
        "nteract": {
          "transient": {
            "deleting": false
          }
        },
        "gather": {
          "logged": 1648748243941
        }
      }
    },
    {
      "cell_type": "code",
      "source": [
        "experiment_name = 'wetland-unet-les'\n",
        "exp = Experiment(workspace = ws, name = experiment_name)"
      ],
      "outputs": [],
      "execution_count": 10,
      "metadata": {
        "collapsed": true,
        "jupyter": {
          "source_hidden": false,
          "outputs_hidden": false
        },
        "nteract": {
          "transient": {
            "deleting": false
          }
        },
        "gather": {
          "logged": 1648748245089
        }
      }
    },
    {
      "cell_type": "markdown",
      "source": [
        "## Dataset Metadata\n",
        "We need to calculate, at a minimum, the size of our training dataset to pass to the re-training script"
      ],
      "metadata": {
        "nteract": {
          "transient": {
            "deleting": false
          }
        }
      }
    },
    {
      "cell_type": "code",
      "source": [
        "import sys\n",
        "sys.path.append('/home/azureuser/cloudfiles/code/Users/mevans/Wetland_UNet/azure/scv')"
      ],
      "outputs": [],
      "execution_count": 29,
      "metadata": {
        "jupyter": {
          "source_hidden": false,
          "outputs_hidden": false
        },
        "nteract": {
          "transient": {
            "deleting": false
          }
        },
        "gather": {
          "logged": 1648573914630
        }
      }
    },
    {
      "cell_type": "code",
      "source": [
        "from utils.model_tools import get_binary_model, make_confusion_matrix, weighted_bce\n",
        "from utils.processing import get_training_dataset, get_eval_dataset\n",
        "from utils.prediction_tools import make_pred_dataset, callback_predictions, plot_to_image\n",
        "import tensorflow as tf\n",
        "from os.path import join"
      ],
      "outputs": [],
      "execution_count": 30,
      "metadata": {
        "jupyter": {
          "source_hidden": false,
          "outputs_hidden": false
        },
        "nteract": {
          "transient": {
            "deleting": false
          }
        },
        "gather": {
          "logged": 1648573918786
        }
      }
    },
    {
      "cell_type": "code",
      "source": [
        "# Define some global variabes\n",
        "\n",
        "# specify surface layers\n",
        "lidar = ['lidar_intensity']\n",
        "geomorphon = [\"geomorphons\"]\n",
        "\n",
        "# Specify inputs (Sentinel bands) to the model\n",
        "opticalBands = ['B3', 'B4', 'B5', 'B6']\n",
        "thermalBands = ['B8', 'B11', 'B12']\n",
        "senBands = opticalBands + thermalBands\n",
        "\n",
        "# get band names for three seasons\n",
        "seasonalBands = [[band+'_summer', band + '_fall', band + '_spring'] for band in senBands]\n",
        "\n",
        "\n",
        "# specify NAIP bands\n",
        "naipBands = ['R', 'G', 'B', 'N']\n",
        "\n",
        "BANDS = [item for sublist in seasonalBands for item in sublist] + naipBands\n",
        "MORPHS = lidar + geomorphon\n",
        "RESPONSE = 'wetland'\n",
        "FEATURES = BANDS + MORPHS+ [RESPONSE]\n",
        "print(FEATURES)\n",
        "# Specify the size and shape of patches expected by the model.\n",
        "KERNEL_SIZE = 256\n",
        "KERNEL_SHAPE = [KERNEL_SIZE, KERNEL_SIZE]\n",
        "COLUMNS = [\n",
        "  tf.io.FixedLenFeature(shape=KERNEL_SHAPE, dtype=tf.float32) for k in FEATURES\n",
        "]\n",
        "FEATURES_DICT = dict(zip(FEATURES, COLUMNS))\n",
        "\n"
      ],
      "outputs": [
        {
          "output_type": "stream",
          "name": "stdout",
          "text": "['B3_summer', 'B3_fall', 'B3_spring', 'B4_summer', 'B4_fall', 'B4_spring', 'B5_summer', 'B5_fall', 'B5_spring', 'B6_summer', 'B6_fall', 'B6_spring', 'B8_summer', 'B8_fall', 'B8_spring', 'B11_summer', 'B11_fall', 'B11_spring', 'B12_summer', 'B12_fall', 'B12_spring', 'R', 'G', 'B', 'N', 'lidar_intensity', 'geomorphons', 'wetland']\n"
        }
      ],
      "execution_count": 31,
      "metadata": {
        "jupyter": {
          "source_hidden": false,
          "outputs_hidden": false
        },
        "nteract": {
          "transient": {
            "deleting": false
          }
        },
        "gather": {
          "logged": 1648573967732
        }
      }
    },
    {
      "cell_type": "code",
      "source": [
        "# Create mountcontext and mount the dataset\n",
        "with train_dataset.mount() as train_mount:\n",
        "\n",
        "    # Get the mount point\n",
        "    dataset_mount_folder = train_mount.mount_point\n",
        "    print(dataset_mount_folder)\n",
        "\n",
        "    train_files = []\n",
        "\n",
        "    for root, dirs, files in os.walk(dataset_mount_folder):\n",
        "        for f in files:\n",
        "            if '256wetlandLES' in f:\n",
        "                train_files.append(join(root, f))\n",
        "\n",
        "    training = get_training_dataset(\n",
        "        files = train_files,\n",
        "        ftDict = FEATURES_DICT,\n",
        "        features = naipBands,#BANDS+MORPHS, # reading data can be memory intensive. for the purpose of calculating class weights, we don't need all the predictor variables\n",
        "        response = RESPONSE,\n",
        "        buff = 1,\n",
        "        batch = 1,\n",
        "        repeat = False,\n",
        "        one_hot = None,\n",
        "        splits = None)\n",
        "    \n",
        "    i = 0\n",
        "    # # calculate some summary statistics used in model training\n",
        "    iterator = iter(training)\n",
        "    wetlandPix = 0\n",
        "    nonPix = 0\n",
        "    for example in iterator:\n",
        "        ones = tf.reduce_sum(example[1])\n",
        "        zeroes = (256*256) - ones\n",
        "        wetlandPix += ones\n",
        "        nonPix += zeroes\n",
        "        i += 1\n",
        "    # m = get_binary_model(depth = len(naipBands), optim = tf.keras.optimizers.Adam(learning_rate = 0.001, beta_1=0.9, beta_2=0.999), loss = 'mse', mets = [tf.keras.metrics.categorical_accuracy], bias = None)\n",
        "    # # preds = m.predict(example[0], verbose = 1)\n",
        "    # train_con_mat = make_confusion_matrix(training, m)\n",
        "    # classums = train_con_mat.sum(axis = 1)\n",
        "    # BIAS = np.log(classums[1]/classums[0])\n",
        "    # WEIGHT = classums[0]/classums[1]\n",
        "    # TRAIN_SIZE = train_con_mat.sum()//(256*256)\n",
        "\n",
        "    \n",
        "    \n",
        "print(i)"
      ],
      "outputs": [
        {
          "output_type": "stream",
          "name": "stdout",
          "text": "/tmp/tmpvmk3z1s2\nDownloaded path: /tmp/tmpe3whikq9/c51364d3-fc2f-4a51-8dc9-566f591b2c38/summerReplicated/training/UNET_256wetlandLES10.tfrecord.gz is different from target path: /tmp/tmpe3whikq9/c51364d3-fc2f-4a51-8dc9-566f591b2c38/UNET_256wetlandLES10.tfrecord.gz\nDownloaded path: /tmp/tmpe3whikq9/c51364d3-fc2f-4a51-8dc9-566f591b2c38/summerReplicated/training/UNET_256wetlandLES100.tfrecord.gz is different from target path: /tmp/tmpe3whikq9/c51364d3-fc2f-4a51-8dc9-566f591b2c38/UNET_256wetlandLES100.tfrecord.gz\nDownloaded path: /tmp/tmpe3whikq9/c51364d3-fc2f-4a51-8dc9-566f591b2c38/summerReplicated/training/UNET_256wetlandLES1000.tfrecord.gz is different from target path: /tmp/tmpe3whikq9/c51364d3-fc2f-4a51-8dc9-566f591b2c38/UNET_256wetlandLES1000.tfrecord.gz\nDownloaded path: /tmp/tmpe3whikq9/c51364d3-fc2f-4a51-8dc9-566f591b2c38/summerReplicated/training/UNET_256wetlandLES1005.tfrecord.gz is different from target path: /tmp/tmpe3whikq9/c51364d3-fc2f-4a51-8dc9-566f591b2c38/UNET_256wetlandLES1005.tfrecord.gz\nDownloaded path: /tmp/tmpe3whikq9/c51364d3-fc2f-4a51-8dc9-566f591b2c38/summerReplicated/training/UNET_256wetlandLES1010.tfrecord.gz is different from target path: /tmp/tmpe3whikq9/c51364d3-fc2f-4a51-8dc9-566f591b2c38/UNET_256wetlandLES1010.tfrecord.gz\nDownloaded path: /tmp/tmpe3whikq9/c51364d3-fc2f-4a51-8dc9-566f591b2c38/summerReplicated/training/UNET_256wetlandLES1015.tfrecord.gz is different from target path: /tmp/tmpe3whikq9/c51364d3-fc2f-4a51-8dc9-566f591b2c38/UNET_256wetlandLES1015.tfrecord.gz\nDownloaded path: /tmp/tmpe3whikq9/c51364d3-fc2f-4a51-8dc9-566f591b2c38/summerReplicated/training/UNET_256wetlandLES1020.tfrecord.gz is different from target path: /tmp/tmpe3whikq9/c51364d3-fc2f-4a51-8dc9-566f591b2c38/UNET_256wetlandLES1020.tfrecord.gz\nDownloaded path: /tmp/tmpe3whikq9/c51364d3-fc2f-4a51-8dc9-566f591b2c38/summerReplicated/training/UNET_256wetlandLES1025.tfrecord.gz is different from target path: /tmp/tmpe3whikq9/c51364d3-fc2f-4a51-8dc9-566f591b2c38/UNET_256wetlandLES1025.tfrecord.gz\nDownloaded path: /tmp/tmpe3whikq9/c51364d3-fc2f-4a51-8dc9-566f591b2c38/summerReplicated/training/UNET_256wetlandLES1030.tfrecord.gz is different from target path: /tmp/tmpe3whikq9/c51364d3-fc2f-4a51-8dc9-566f591b2c38/UNET_256wetlandLES1030.tfrecord.gz\nDownloaded path: /tmp/tmpe3whikq9/c51364d3-fc2f-4a51-8dc9-566f591b2c38/summerReplicated/training/UNET_256wetlandLES1035.tfrecord.gz is different from target path: /tmp/tmpe3whikq9/c51364d3-fc2f-4a51-8dc9-566f591b2c38/UNET_256wetlandLES1035.tfrecord.gz\nDownloaded path: /tmp/tmpe3whikq9/c51364d3-fc2f-4a51-8dc9-566f591b2c38/summerReplicated/training/UNET_256wetlandLES1040.tfrecord.gz is different from target path: /tmp/tmpe3whikq9/c51364d3-fc2f-4a51-8dc9-566f591b2c38/UNET_256wetlandLES1040.tfrecord.gz\nDownloaded path: /tmp/tmpe3whikq9/c51364d3-fc2f-4a51-8dc9-566f591b2c38/summerReplicated/training/UNET_256wetlandLES1045.tfrecord.gz is different from target path: /tmp/tmpe3whikq9/c51364d3-fc2f-4a51-8dc9-566f591b2c38/UNET_256wetlandLES1045.tfrecord.gz\nDownloaded path: /tmp/tmpe3whikq9/c51364d3-fc2f-4a51-8dc9-566f591b2c38/summerReplicated/training/UNET_256wetlandLES105.tfrecord.gz is different from target path: /tmp/tmpe3whikq9/c51364d3-fc2f-4a51-8dc9-566f591b2c38/UNET_256wetlandLES105.tfrecord.gz\nDownloaded path: /tmp/tmpe3whikq9/c51364d3-fc2f-4a51-8dc9-566f591b2c38/summerReplicated/training/UNET_256wetlandLES1050.tfrecord.gz is different from target path: /tmp/tmpe3whikq9/c51364d3-fc2f-4a51-8dc9-566f591b2c38/UNET_256wetlandLES1050.tfrecord.gz\nDownloaded path: /tmp/tmpe3whikq9/c51364d3-fc2f-4a51-8dc9-566f591b2c38/summerReplicated/training/UNET_256wetlandLES1055.tfrecord.gz is different from target path: /tmp/tmpe3whikq9/c51364d3-fc2f-4a51-8dc9-566f591b2c38/UNET_256wetlandLES1055.tfrecord.gz\nDownloaded path: /tmp/tmpe3whikq9/c51364d3-fc2f-4a51-8dc9-566f591b2c38/summerReplicated/training/UNET_256wetlandLES1060.tfrecord.gz is different from target path: /tmp/tmpe3whikq9/c51364d3-fc2f-4a51-8dc9-566f591b2c38/UNET_256wetlandLES1060.tfrecord.gz\nDownloaded path: /tmp/tmpe3whikq9/c51364d3-fc2f-4a51-8dc9-566f591b2c38/summerReplicated/training/UNET_256wetlandLES1065.tfrecord.gz is different from target path: /tmp/tmpe3whikq9/c51364d3-fc2f-4a51-8dc9-566f591b2c38/UNET_256wetlandLES1065.tfrecord.gz\nDownloaded path: /tmp/tmpe3whikq9/c51364d3-fc2f-4a51-8dc9-566f591b2c38/summerReplicated/training/UNET_256wetlandLES1070.tfrecord.gz is different from target path: /tmp/tmpe3whikq9/c51364d3-fc2f-4a51-8dc9-566f591b2c38/UNET_256wetlandLES1070.tfrecord.gz\nDownloaded path: /tmp/tmpe3whikq9/c51364d3-fc2f-4a51-8dc9-566f591b2c38/summerReplicated/training/UNET_256wetlandLES1075.tfrecord.gz is different from target path: /tmp/tmpe3whikq9/c51364d3-fc2f-4a51-8dc9-566f591b2c38/UNET_256wetlandLES1075.tfrecord.gz\nDownloaded path: /tmp/tmpe3whikq9/c51364d3-fc2f-4a51-8dc9-566f591b2c38/summerReplicated/training/UNET_256wetlandLES1080.tfrecord.gz is different from target path: /tmp/tmpe3whikq9/c51364d3-fc2f-4a51-8dc9-566f591b2c38/UNET_256wetlandLES1080.tfrecord.gz\nDownloaded path: /tmp/tmpe3whikq9/c51364d3-fc2f-4a51-8dc9-566f591b2c38/summerReplicated/training/UNET_256wetlandLES1085.tfrecord.gz is different from target path: /tmp/tmpe3whikq9/c51364d3-fc2f-4a51-8dc9-566f591b2c38/UNET_256wetlandLES1085.tfrecord.gz\nDownloaded path: /tmp/tmpe3whikq9/c51364d3-fc2f-4a51-8dc9-566f591b2c38/summerReplicated/training/UNET_256wetlandLES1090.tfrecord.gz is different from target path: /tmp/tmpe3whikq9/c51364d3-fc2f-4a51-8dc9-566f591b2c38/UNET_256wetlandLES1090.tfrecord.gz\nDownloaded path: /tmp/tmpe3whikq9/c51364d3-fc2f-4a51-8dc9-566f591b2c38/summerReplicated/training/UNET_256wetlandLES1095.tfrecord.gz is different from target path: /tmp/tmpe3whikq9/c51364d3-fc2f-4a51-8dc9-566f591b2c38/UNET_256wetlandLES1095.tfrecord.gz\nDownloaded path: /tmp/tmpe3whikq9/c51364d3-fc2f-4a51-8dc9-566f591b2c38/summerReplicated/training/UNET_256wetlandLES110.tfrecord.gz is different from target path: /tmp/tmpe3whikq9/c51364d3-fc2f-4a51-8dc9-566f591b2c38/UNET_256wetlandLES110.tfrecord.gz\nDownloaded path: /tmp/tmpe3whikq9/c51364d3-fc2f-4a51-8dc9-566f591b2c38/summerReplicated/training/UNET_256wetlandLES1100.tfrecord.gz is different from target path: /tmp/tmpe3whikq9/c51364d3-fc2f-4a51-8dc9-566f591b2c38/UNET_256wetlandLES1100.tfrecord.gz\nDownloaded path: /tmp/tmpe3whikq9/c51364d3-fc2f-4a51-8dc9-566f591b2c38/summerReplicated/training/UNET_256wetlandLES1105.tfrecord.gz is different from target path: /tmp/tmpe3whikq9/c51364d3-fc2f-4a51-8dc9-566f591b2c38/UNET_256wetlandLES1105.tfrecord.gz\nDownloaded path: /tmp/tmpe3whikq9/c51364d3-fc2f-4a51-8dc9-566f591b2c38/summerReplicated/training/UNET_256wetlandLES1110.tfrecord.gz is different from target path: /tmp/tmpe3whikq9/c51364d3-fc2f-4a51-8dc9-566f591b2c38/UNET_256wetlandLES1110.tfrecord.gz\nDownloaded path: /tmp/tmpe3whikq9/c51364d3-fc2f-4a51-8dc9-566f591b2c38/summerReplicated/training/UNET_256wetlandLES1115.tfrecord.gz is different from target path: /tmp/tmpe3whikq9/c51364d3-fc2f-4a51-8dc9-566f591b2c38/UNET_256wetlandLES1115.tfrecord.gz\nDownloaded path: /tmp/tmpe3whikq9/c51364d3-fc2f-4a51-8dc9-566f591b2c38/summerReplicated/training/UNET_256wetlandLES1120.tfrecord.gz is different from target path: /tmp/tmpe3whikq9/c51364d3-fc2f-4a51-8dc9-566f591b2c38/UNET_256wetlandLES1120.tfrecord.gz\nDownloaded path: /tmp/tmpe3whikq9/c51364d3-fc2f-4a51-8dc9-566f591b2c38/summerReplicated/training/UNET_256wetlandLES1125.tfrecord.gz is different from target path: /tmp/tmpe3whikq9/c51364d3-fc2f-4a51-8dc9-566f591b2c38/UNET_256wetlandLES1125.tfrecord.gz\nDownloaded path: /tmp/tmpe3whikq9/c51364d3-fc2f-4a51-8dc9-566f591b2c38/summerReplicated/training/UNET_256wetlandLES1130.tfrecord.gz is different from target path: /tmp/tmpe3whikq9/c51364d3-fc2f-4a51-8dc9-566f591b2c38/UNET_256wetlandLES1130.tfrecord.gz\nDownloaded path: /tmp/tmpe3whikq9/c51364d3-fc2f-4a51-8dc9-566f591b2c38/summerReplicated/training/UNET_256wetlandLES1135.tfrecord.gz is different from target path: /tmp/tmpe3whikq9/c51364d3-fc2f-4a51-8dc9-566f591b2c38/UNET_256wetlandLES1135.tfrecord.gz\nDownloaded path: /tmp/tmpe3whikq9/c51364d3-fc2f-4a51-8dc9-566f591b2c38/summerReplicated/training/UNET_256wetlandLES1140.tfrecord.gz is different from target path: /tmp/tmpe3whikq9/c51364d3-fc2f-4a51-8dc9-566f591b2c38/UNET_256wetlandLES1140.tfrecord.gz\nDownloaded path: /tmp/tmpe3whikq9/c51364d3-fc2f-4a51-8dc9-566f591b2c38/summerReplicated/training/UNET_256wetlandLES1145.tfrecord.gz is different from target path: /tmp/tmpe3whikq9/c51364d3-fc2f-4a51-8dc9-566f591b2c38/UNET_256wetlandLES1145.tfrecord.gz\nDownloaded path: /tmp/tmpe3whikq9/c51364d3-fc2f-4a51-8dc9-566f591b2c38/summerReplicated/training/UNET_256wetlandLES115.tfrecord.gz is different from target path: /tmp/tmpe3whikq9/c51364d3-fc2f-4a51-8dc9-566f591b2c38/UNET_256wetlandLES115.tfrecord.gz\nDownloaded path: /tmp/tmpe3whikq9/c51364d3-fc2f-4a51-8dc9-566f591b2c38/summerReplicated/training/UNET_256wetlandLES1150.tfrecord.gz is different from target path: /tmp/tmpe3whikq9/c51364d3-fc2f-4a51-8dc9-566f591b2c38/UNET_256wetlandLES1150.tfrecord.gz\nDownloaded path: /tmp/tmpe3whikq9/c51364d3-fc2f-4a51-8dc9-566f591b2c38/summerReplicated/training/UNET_256wetlandLES1155.tfrecord.gz is different from target path: /tmp/tmpe3whikq9/c51364d3-fc2f-4a51-8dc9-566f591b2c38/UNET_256wetlandLES1155.tfrecord.gz\nDownloaded path: /tmp/tmpe3whikq9/c51364d3-fc2f-4a51-8dc9-566f591b2c38/summerReplicated/training/UNET_256wetlandLES1160.tfrecord.gz is different from target path: /tmp/tmpe3whikq9/c51364d3-fc2f-4a51-8dc9-566f591b2c38/UNET_256wetlandLES1160.tfrecord.gz\nDownloaded path: /tmp/tmpe3whikq9/c51364d3-fc2f-4a51-8dc9-566f591b2c38/summerReplicated/training/UNET_256wetlandLES1165.tfrecord.gz is different from target path: /tmp/tmpe3whikq9/c51364d3-fc2f-4a51-8dc9-566f591b2c38/UNET_256wetlandLES1165.tfrecord.gz\nDownloaded path: /tmp/tmpe3whikq9/c51364d3-fc2f-4a51-8dc9-566f591b2c38/summerReplicated/training/UNET_256wetlandLES1170.tfrecord.gz is different from target path: /tmp/tmpe3whikq9/c51364d3-fc2f-4a51-8dc9-566f591b2c38/UNET_256wetlandLES1170.tfrecord.gz\nDownloaded path: /tmp/tmpe3whikq9/c51364d3-fc2f-4a51-8dc9-566f591b2c38/summerReplicated/training/UNET_256wetlandLES1175.tfrecord.gz is different from target path: /tmp/tmpe3whikq9/c51364d3-fc2f-4a51-8dc9-566f591b2c38/UNET_256wetlandLES1175.tfrecord.gz\nDownloaded path: /tmp/tmpe3whikq9/c51364d3-fc2f-4a51-8dc9-566f591b2c38/summerReplicated/training/UNET_256wetlandLES1180.tfrecord.gz is different from target path: /tmp/tmpe3whikq9/c51364d3-fc2f-4a51-8dc9-566f591b2c38/UNET_256wetlandLES1180.tfrecord.gz\nDownloaded path: /tmp/tmpe3whikq9/c51364d3-fc2f-4a51-8dc9-566f591b2c38/summerReplicated/training/UNET_256wetlandLES1185.tfrecord.gz is different from target path: /tmp/tmpe3whikq9/c51364d3-fc2f-4a51-8dc9-566f591b2c38/UNET_256wetlandLES1185.tfrecord.gz\nDownloaded path: /tmp/tmpe3whikq9/c51364d3-fc2f-4a51-8dc9-566f591b2c38/summerReplicated/training/UNET_256wetlandLES1190.tfrecord.gz is different from target path: /tmp/tmpe3whikq9/c51364d3-fc2f-4a51-8dc9-566f591b2c38/UNET_256wetlandLES1190.tfrecord.gz\nDownloaded path: /tmp/tmpe3whikq9/c51364d3-fc2f-4a51-8dc9-566f591b2c38/summerReplicated/training/UNET_256wetlandLES1195.tfrecord.gz is different from target path: /tmp/tmpe3whikq9/c51364d3-fc2f-4a51-8dc9-566f591b2c38/UNET_256wetlandLES1195.tfrecord.gz\nDownloaded path: /tmp/tmpe3whikq9/c51364d3-fc2f-4a51-8dc9-566f591b2c38/summerReplicated/training/UNET_256wetlandLES120.tfrecord.gz is different from target path: /tmp/tmpe3whikq9/c51364d3-fc2f-4a51-8dc9-566f591b2c38/UNET_256wetlandLES120.tfrecord.gz\nDownloaded path: /tmp/tmpe3whikq9/c51364d3-fc2f-4a51-8dc9-566f591b2c38/summerReplicated/training/UNET_256wetlandLES1200.tfrecord.gz is different from target path: /tmp/tmpe3whikq9/c51364d3-fc2f-4a51-8dc9-566f591b2c38/UNET_256wetlandLES1200.tfrecord.gz\nDownloaded path: /tmp/tmpe3whikq9/c51364d3-fc2f-4a51-8dc9-566f591b2c38/summerReplicated/training/UNET_256wetlandLES1205.tfrecord.gz is different from target path: /tmp/tmpe3whikq9/c51364d3-fc2f-4a51-8dc9-566f591b2c38/UNET_256wetlandLES1205.tfrecord.gz\nDownloaded path: /tmp/tmpe3whikq9/c51364d3-fc2f-4a51-8dc9-566f591b2c38/summerReplicated/training/UNET_256wetlandLES1210.tfrecord.gz is different from target path: /tmp/tmpe3whikq9/c51364d3-fc2f-4a51-8dc9-566f591b2c38/UNET_256wetlandLES1210.tfrecord.gz\nDownloaded path: /tmp/tmpe3whikq9/c51364d3-fc2f-4a51-8dc9-566f591b2c38/summerReplicated/training/UNET_256wetlandLES1215.tfrecord.gz is different from target path: /tmp/tmpe3whikq9/c51364d3-fc2f-4a51-8dc9-566f591b2c38/UNET_256wetlandLES1215.tfrecord.gz\nDownloaded path: /tmp/tmpe3whikq9/c51364d3-fc2f-4a51-8dc9-566f591b2c38/summerReplicated/training/UNET_256wetlandLES1220.tfrecord.gz is different from target path: /tmp/tmpe3whikq9/c51364d3-fc2f-4a51-8dc9-566f591b2c38/UNET_256wetlandLES1220.tfrecord.gz\nDownloaded path: /tmp/tmpe3whikq9/c51364d3-fc2f-4a51-8dc9-566f591b2c38/summerReplicated/training/UNET_256wetlandLES1225.tfrecord.gz is different from target path: /tmp/tmpe3whikq9/c51364d3-fc2f-4a51-8dc9-566f591b2c38/UNET_256wetlandLES1225.tfrecord.gz\nDownloaded path: /tmp/tmpe3whikq9/c51364d3-fc2f-4a51-8dc9-566f591b2c38/summerReplicated/training/UNET_256wetlandLES1230.tfrecord.gz is different from target path: /tmp/tmpe3whikq9/c51364d3-fc2f-4a51-8dc9-566f591b2c38/UNET_256wetlandLES1230.tfrecord.gz\nDownloaded path: /tmp/tmpe3whikq9/c51364d3-fc2f-4a51-8dc9-566f591b2c38/summerReplicated/training/UNET_256wetlandLES1235.tfrecord.gz is different from target path: /tmp/tmpe3whikq9/c51364d3-fc2f-4a51-8dc9-566f591b2c38/UNET_256wetlandLES1235.tfrecord.gz\nDownloaded path: /tmp/tmpe3whikq9/c51364d3-fc2f-4a51-8dc9-566f591b2c38/summerReplicated/training/UNET_256wetlandLES1240.tfrecord.gz is different from target path: /tmp/tmpe3whikq9/c51364d3-fc2f-4a51-8dc9-566f591b2c38/UNET_256wetlandLES1240.tfrecord.gz\nDownloaded path: /tmp/tmpe3whikq9/c51364d3-fc2f-4a51-8dc9-566f591b2c38/summerReplicated/training/UNET_256wetlandLES1245.tfrecord.gz is different from target path: /tmp/tmpe3whikq9/c51364d3-fc2f-4a51-8dc9-566f591b2c38/UNET_256wetlandLES1245.tfrecord.gz\nDownloaded path: /tmp/tmpe3whikq9/c51364d3-fc2f-4a51-8dc9-566f591b2c38/summerReplicated/training/UNET_256wetlandLES125.tfrecord.gz is different from target path: /tmp/tmpe3whikq9/c51364d3-fc2f-4a51-8dc9-566f591b2c38/UNET_256wetlandLES125.tfrecord.gz\nDownloaded path: /tmp/tmpe3whikq9/c51364d3-fc2f-4a51-8dc9-566f591b2c38/summerReplicated/training/UNET_256wetlandLES1250.tfrecord.gz is different from target path: /tmp/tmpe3whikq9/c51364d3-fc2f-4a51-8dc9-566f591b2c38/UNET_256wetlandLES1250.tfrecord.gz\nDownloaded path: /tmp/tmpe3whikq9/c51364d3-fc2f-4a51-8dc9-566f591b2c38/summerReplicated/training/UNET_256wetlandLES1255.tfrecord.gz is different from target path: /tmp/tmpe3whikq9/c51364d3-fc2f-4a51-8dc9-566f591b2c38/UNET_256wetlandLES1255.tfrecord.gz\nDownloaded path: /tmp/tmpe3whikq9/c51364d3-fc2f-4a51-8dc9-566f591b2c38/summerReplicated/training/UNET_256wetlandLES1260.tfrecord.gz is different from target path: /tmp/tmpe3whikq9/c51364d3-fc2f-4a51-8dc9-566f591b2c38/UNET_256wetlandLES1260.tfrecord.gz\nDownloaded path: /tmp/tmpe3whikq9/c51364d3-fc2f-4a51-8dc9-566f591b2c38/summerReplicated/training/UNET_256wetlandLES1265.tfrecord.gz is different from target path: /tmp/tmpe3whikq9/c51364d3-fc2f-4a51-8dc9-566f591b2c38/UNET_256wetlandLES1265.tfrecord.gz\nDownloaded path: /tmp/tmpe3whikq9/c51364d3-fc2f-4a51-8dc9-566f591b2c38/summerReplicated/training/UNET_256wetlandLES1270.tfrecord.gz is different from target path: /tmp/tmpe3whikq9/c51364d3-fc2f-4a51-8dc9-566f591b2c38/UNET_256wetlandLES1270.tfrecord.gz\nDownloaded path: /tmp/tmpe3whikq9/c51364d3-fc2f-4a51-8dc9-566f591b2c38/summerReplicated/training/UNET_256wetlandLES1275.tfrecord.gz is different from target path: /tmp/tmpe3whikq9/c51364d3-fc2f-4a51-8dc9-566f591b2c38/UNET_256wetlandLES1275.tfrecord.gz\nDownloaded path: /tmp/tmpe3whikq9/c51364d3-fc2f-4a51-8dc9-566f591b2c38/summerReplicated/training/UNET_256wetlandLES1280.tfrecord.gz is different from target path: /tmp/tmpe3whikq9/c51364d3-fc2f-4a51-8dc9-566f591b2c38/UNET_256wetlandLES1280.tfrecord.gz\nDownloaded path: /tmp/tmpe3whikq9/c51364d3-fc2f-4a51-8dc9-566f591b2c38/summerReplicated/training/UNET_256wetlandLES1285.tfrecord.gz is different from target path: /tmp/tmpe3whikq9/c51364d3-fc2f-4a51-8dc9-566f591b2c38/UNET_256wetlandLES1285.tfrecord.gz\nDownloaded path: /tmp/tmpe3whikq9/c51364d3-fc2f-4a51-8dc9-566f591b2c38/summerReplicated/training/UNET_256wetlandLES1290.tfrecord.gz is different from target path: /tmp/tmpe3whikq9/c51364d3-fc2f-4a51-8dc9-566f591b2c38/UNET_256wetlandLES1290.tfrecord.gz\nDownloaded path: /tmp/tmpe3whikq9/c51364d3-fc2f-4a51-8dc9-566f591b2c38/summerReplicated/training/UNET_256wetlandLES1295.tfrecord.gz is different from target path: /tmp/tmpe3whikq9/c51364d3-fc2f-4a51-8dc9-566f591b2c38/UNET_256wetlandLES1295.tfrecord.gz\nDownloaded path: /tmp/tmpe3whikq9/c51364d3-fc2f-4a51-8dc9-566f591b2c38/summerReplicated/training/UNET_256wetlandLES130.tfrecord.gz is different from target path: /tmp/tmpe3whikq9/c51364d3-fc2f-4a51-8dc9-566f591b2c38/UNET_256wetlandLES130.tfrecord.gz\nDownloaded path: /tmp/tmpe3whikq9/c51364d3-fc2f-4a51-8dc9-566f591b2c38/summerReplicated/training/UNET_256wetlandLES1300.tfrecord.gz is different from target path: /tmp/tmpe3whikq9/c51364d3-fc2f-4a51-8dc9-566f591b2c38/UNET_256wetlandLES1300.tfrecord.gz\nDownloaded path: /tmp/tmpe3whikq9/c51364d3-fc2f-4a51-8dc9-566f591b2c38/summerReplicated/training/UNET_256wetlandLES1305.tfrecord.gz is different from target path: /tmp/tmpe3whikq9/c51364d3-fc2f-4a51-8dc9-566f591b2c38/UNET_256wetlandLES1305.tfrecord.gz\nDownloaded path: /tmp/tmpe3whikq9/c51364d3-fc2f-4a51-8dc9-566f591b2c38/summerReplicated/training/UNET_256wetlandLES1310.tfrecord.gz is different from target path: /tmp/tmpe3whikq9/c51364d3-fc2f-4a51-8dc9-566f591b2c38/UNET_256wetlandLES1310.tfrecord.gz\nDownloaded path: /tmp/tmpe3whikq9/c51364d3-fc2f-4a51-8dc9-566f591b2c38/summerReplicated/training/UNET_256wetlandLES1315.tfrecord.gz is different from target path: /tmp/tmpe3whikq9/c51364d3-fc2f-4a51-8dc9-566f591b2c38/UNET_256wetlandLES1315.tfrecord.gz\nDownloaded path: /tmp/tmpe3whikq9/c51364d3-fc2f-4a51-8dc9-566f591b2c38/summerReplicated/training/UNET_256wetlandLES1320.tfrecord.gz is different from target path: /tmp/tmpe3whikq9/c51364d3-fc2f-4a51-8dc9-566f591b2c38/UNET_256wetlandLES1320.tfrecord.gz\nDownloaded path: /tmp/tmpe3whikq9/c51364d3-fc2f-4a51-8dc9-566f591b2c38/summerReplicated/training/UNET_256wetlandLES1325.tfrecord.gz is different from target path: /tmp/tmpe3whikq9/c51364d3-fc2f-4a51-8dc9-566f591b2c38/UNET_256wetlandLES1325.tfrecord.gz\nDownloaded path: /tmp/tmpe3whikq9/c51364d3-fc2f-4a51-8dc9-566f591b2c38/summerReplicated/training/UNET_256wetlandLES1330.tfrecord.gz is different from target path: /tmp/tmpe3whikq9/c51364d3-fc2f-4a51-8dc9-566f591b2c38/UNET_256wetlandLES1330.tfrecord.gz\nDownloaded path: /tmp/tmpe3whikq9/c51364d3-fc2f-4a51-8dc9-566f591b2c38/summerReplicated/training/UNET_256wetlandLES1335.tfrecord.gz is different from target path: /tmp/tmpe3whikq9/c51364d3-fc2f-4a51-8dc9-566f591b2c38/UNET_256wetlandLES1335.tfrecord.gz\nDownloaded path: /tmp/tmpe3whikq9/c51364d3-fc2f-4a51-8dc9-566f591b2c38/summerReplicated/training/UNET_256wetlandLES1340.tfrecord.gz is different from target path: /tmp/tmpe3whikq9/c51364d3-fc2f-4a51-8dc9-566f591b2c38/UNET_256wetlandLES1340.tfrecord.gz\nDownloaded path: /tmp/tmpe3whikq9/c51364d3-fc2f-4a51-8dc9-566f591b2c38/summerReplicated/training/UNET_256wetlandLES1345.tfrecord.gz is different from target path: /tmp/tmpe3whikq9/c51364d3-fc2f-4a51-8dc9-566f591b2c38/UNET_256wetlandLES1345.tfrecord.gz\nDownloaded path: /tmp/tmpe3whikq9/c51364d3-fc2f-4a51-8dc9-566f591b2c38/summerReplicated/training/UNET_256wetlandLES135.tfrecord.gz is different from target path: /tmp/tmpe3whikq9/c51364d3-fc2f-4a51-8dc9-566f591b2c38/UNET_256wetlandLES135.tfrecord.gz\nDownloaded path: /tmp/tmpe3whikq9/c51364d3-fc2f-4a51-8dc9-566f591b2c38/summerReplicated/training/UNET_256wetlandLES1350.tfrecord.gz is different from target path: /tmp/tmpe3whikq9/c51364d3-fc2f-4a51-8dc9-566f591b2c38/UNET_256wetlandLES1350.tfrecord.gz\nDownloaded path: /tmp/tmpe3whikq9/c51364d3-fc2f-4a51-8dc9-566f591b2c38/summerReplicated/training/UNET_256wetlandLES1355.tfrecord.gz is different from target path: /tmp/tmpe3whikq9/c51364d3-fc2f-4a51-8dc9-566f591b2c38/UNET_256wetlandLES1355.tfrecord.gz\nDownloaded path: /tmp/tmpe3whikq9/c51364d3-fc2f-4a51-8dc9-566f591b2c38/summerReplicated/training/UNET_256wetlandLES1360.tfrecord.gz is different from target path: /tmp/tmpe3whikq9/c51364d3-fc2f-4a51-8dc9-566f591b2c38/UNET_256wetlandLES1360.tfrecord.gz\nDownloaded path: /tmp/tmpe3whikq9/c51364d3-fc2f-4a51-8dc9-566f591b2c38/summerReplicated/training/UNET_256wetlandLES1365.tfrecord.gz is different from target path: /tmp/tmpe3whikq9/c51364d3-fc2f-4a51-8dc9-566f591b2c38/UNET_256wetlandLES1365.tfrecord.gz\nDownloaded path: /tmp/tmpe3whikq9/c51364d3-fc2f-4a51-8dc9-566f591b2c38/summerReplicated/training/UNET_256wetlandLES1370.tfrecord.gz is different from target path: /tmp/tmpe3whikq9/c51364d3-fc2f-4a51-8dc9-566f591b2c38/UNET_256wetlandLES1370.tfrecord.gz\nDownloaded path: /tmp/tmpe3whikq9/c51364d3-fc2f-4a51-8dc9-566f591b2c38/summerReplicated/training/UNET_256wetlandLES1375.tfrecord.gz is different from target path: /tmp/tmpe3whikq9/c51364d3-fc2f-4a51-8dc9-566f591b2c38/UNET_256wetlandLES1375.tfrecord.gz\nDownloaded path: /tmp/tmpe3whikq9/c51364d3-fc2f-4a51-8dc9-566f591b2c38/summerReplicated/training/UNET_256wetlandLES1380.tfrecord.gz is different from target path: /tmp/tmpe3whikq9/c51364d3-fc2f-4a51-8dc9-566f591b2c38/UNET_256wetlandLES1380.tfrecord.gz\nDownloaded path: /tmp/tmpe3whikq9/c51364d3-fc2f-4a51-8dc9-566f591b2c38/summerReplicated/training/UNET_256wetlandLES1385.tfrecord.gz is different from target path: /tmp/tmpe3whikq9/c51364d3-fc2f-4a51-8dc9-566f591b2c38/UNET_256wetlandLES1385.tfrecord.gz\nDownloaded path: /tmp/tmpe3whikq9/c51364d3-fc2f-4a51-8dc9-566f591b2c38/summerReplicated/training/UNET_256wetlandLES1390.tfrecord.gz is different from target path: /tmp/tmpe3whikq9/c51364d3-fc2f-4a51-8dc9-566f591b2c38/UNET_256wetlandLES1390.tfrecord.gz\nDownloaded path: /tmp/tmpe3whikq9/c51364d3-fc2f-4a51-8dc9-566f591b2c38/summerReplicated/training/UNET_256wetlandLES1395.tfrecord.gz is different from target path: /tmp/tmpe3whikq9/c51364d3-fc2f-4a51-8dc9-566f591b2c38/UNET_256wetlandLES1395.tfrecord.gz\nDownloaded path: /tmp/tmpe3whikq9/c51364d3-fc2f-4a51-8dc9-566f591b2c38/summerReplicated/training/UNET_256wetlandLES140.tfrecord.gz is different from target path: /tmp/tmpe3whikq9/c51364d3-fc2f-4a51-8dc9-566f591b2c38/UNET_256wetlandLES140.tfrecord.gz\nDownloaded path: /tmp/tmpe3whikq9/c51364d3-fc2f-4a51-8dc9-566f591b2c38/summerReplicated/training/UNET_256wetlandLES1400.tfrecord.gz is different from target path: /tmp/tmpe3whikq9/c51364d3-fc2f-4a51-8dc9-566f591b2c38/UNET_256wetlandLES1400.tfrecord.gz\nDownloaded path: /tmp/tmpe3whikq9/c51364d3-fc2f-4a51-8dc9-566f591b2c38/summerReplicated/training/UNET_256wetlandLES1405.tfrecord.gz is different from target path: /tmp/tmpe3whikq9/c51364d3-fc2f-4a51-8dc9-566f591b2c38/UNET_256wetlandLES1405.tfrecord.gz\nDownloaded path: /tmp/tmpe3whikq9/c51364d3-fc2f-4a51-8dc9-566f591b2c38/summerReplicated/training/UNET_256wetlandLES1410.tfrecord.gz is different from target path: /tmp/tmpe3whikq9/c51364d3-fc2f-4a51-8dc9-566f591b2c38/UNET_256wetlandLES1410.tfrecord.gz\nDownloaded path: /tmp/tmpe3whikq9/c51364d3-fc2f-4a51-8dc9-566f591b2c38/summerReplicated/training/UNET_256wetlandLES1415.tfrecord.gz is different from target path: /tmp/tmpe3whikq9/c51364d3-fc2f-4a51-8dc9-566f591b2c38/UNET_256wetlandLES1415.tfrecord.gz\nDownloaded path: /tmp/tmpe3whikq9/c51364d3-fc2f-4a51-8dc9-566f591b2c38/summerReplicated/training/UNET_256wetlandLES1420.tfrecord.gz is different from target path: /tmp/tmpe3whikq9/c51364d3-fc2f-4a51-8dc9-566f591b2c38/UNET_256wetlandLES1420.tfrecord.gz\nDownloaded path: /tmp/tmpe3whikq9/c51364d3-fc2f-4a51-8dc9-566f591b2c38/summerReplicated/training/UNET_256wetlandLES1425.tfrecord.gz is different from target path: /tmp/tmpe3whikq9/c51364d3-fc2f-4a51-8dc9-566f591b2c38/UNET_256wetlandLES1425.tfrecord.gz\nDownloaded path: /tmp/tmpe3whikq9/c51364d3-fc2f-4a51-8dc9-566f591b2c38/summerReplicated/training/UNET_256wetlandLES1430.tfrecord.gz is different from target path: /tmp/tmpe3whikq9/c51364d3-fc2f-4a51-8dc9-566f591b2c38/UNET_256wetlandLES1430.tfrecord.gz\nDownloaded path: /tmp/tmpe3whikq9/c51364d3-fc2f-4a51-8dc9-566f591b2c38/summerReplicated/training/UNET_256wetlandLES1435.tfrecord.gz is different from target path: /tmp/tmpe3whikq9/c51364d3-fc2f-4a51-8dc9-566f591b2c38/UNET_256wetlandLES1435.tfrecord.gz\nDownloaded path: /tmp/tmpe3whikq9/c51364d3-fc2f-4a51-8dc9-566f591b2c38/summerReplicated/training/UNET_256wetlandLES1440.tfrecord.gz is different from target path: /tmp/tmpe3whikq9/c51364d3-fc2f-4a51-8dc9-566f591b2c38/UNET_256wetlandLES1440.tfrecord.gz\nDownloaded path: /tmp/tmpe3whikq9/c51364d3-fc2f-4a51-8dc9-566f591b2c38/summerReplicated/training/UNET_256wetlandLES1445.tfrecord.gz is different from target path: /tmp/tmpe3whikq9/c51364d3-fc2f-4a51-8dc9-566f591b2c38/UNET_256wetlandLES1445.tfrecord.gz\nDownloaded path: /tmp/tmpe3whikq9/c51364d3-fc2f-4a51-8dc9-566f591b2c38/summerReplicated/training/UNET_256wetlandLES145.tfrecord.gz is different from target path: /tmp/tmpe3whikq9/c51364d3-fc2f-4a51-8dc9-566f591b2c38/UNET_256wetlandLES145.tfrecord.gz\nDownloaded path: /tmp/tmpe3whikq9/c51364d3-fc2f-4a51-8dc9-566f591b2c38/summerReplicated/training/UNET_256wetlandLES1450.tfrecord.gz is different from target path: /tmp/tmpe3whikq9/c51364d3-fc2f-4a51-8dc9-566f591b2c38/UNET_256wetlandLES1450.tfrecord.gz\nDownloaded path: /tmp/tmpe3whikq9/c51364d3-fc2f-4a51-8dc9-566f591b2c38/summerReplicated/training/UNET_256wetlandLES1455.tfrecord.gz is different from target path: /tmp/tmpe3whikq9/c51364d3-fc2f-4a51-8dc9-566f591b2c38/UNET_256wetlandLES1455.tfrecord.gz\nDownloaded path: /tmp/tmpe3whikq9/c51364d3-fc2f-4a51-8dc9-566f591b2c38/summerReplicated/training/UNET_256wetlandLES1460.tfrecord.gz is different from target path: /tmp/tmpe3whikq9/c51364d3-fc2f-4a51-8dc9-566f591b2c38/UNET_256wetlandLES1460.tfrecord.gz\nDownloaded path: /tmp/tmpe3whikq9/c51364d3-fc2f-4a51-8dc9-566f591b2c38/summerReplicated/training/UNET_256wetlandLES1465.tfrecord.gz is different from target path: /tmp/tmpe3whikq9/c51364d3-fc2f-4a51-8dc9-566f591b2c38/UNET_256wetlandLES1465.tfrecord.gz\nDownloaded path: /tmp/tmpe3whikq9/c51364d3-fc2f-4a51-8dc9-566f591b2c38/summerReplicated/training/UNET_256wetlandLES1470.tfrecord.gz is different from target path: /tmp/tmpe3whikq9/c51364d3-fc2f-4a51-8dc9-566f591b2c38/UNET_256wetlandLES1470.tfrecord.gz\nDownloaded path: /tmp/tmpe3whikq9/c51364d3-fc2f-4a51-8dc9-566f591b2c38/summerReplicated/training/UNET_256wetlandLES1475.tfrecord.gz is different from target path: /tmp/tmpe3whikq9/c51364d3-fc2f-4a51-8dc9-566f591b2c38/UNET_256wetlandLES1475.tfrecord.gz\nDownloaded path: /tmp/tmpe3whikq9/c51364d3-fc2f-4a51-8dc9-566f591b2c38/summerReplicated/training/UNET_256wetlandLES1480.tfrecord.gz is different from target path: /tmp/tmpe3whikq9/c51364d3-fc2f-4a51-8dc9-566f591b2c38/UNET_256wetlandLES1480.tfrecord.gz\nDownloaded path: /tmp/tmpe3whikq9/c51364d3-fc2f-4a51-8dc9-566f591b2c38/summerReplicated/training/UNET_256wetlandLES1485.tfrecord.gz is different from target path: /tmp/tmpe3whikq9/c51364d3-fc2f-4a51-8dc9-566f591b2c38/UNET_256wetlandLES1485.tfrecord.gz\nDownloaded path: /tmp/tmpe3whikq9/c51364d3-fc2f-4a51-8dc9-566f591b2c38/summerReplicated/training/UNET_256wetlandLES1490.tfrecord.gz is different from target path: /tmp/tmpe3whikq9/c51364d3-fc2f-4a51-8dc9-566f591b2c38/UNET_256wetlandLES1490.tfrecord.gz\nDownloaded path: /tmp/tmpe3whikq9/c51364d3-fc2f-4a51-8dc9-566f591b2c38/summerReplicated/training/UNET_256wetlandLES1495.tfrecord.gz is different from target path: /tmp/tmpe3whikq9/c51364d3-fc2f-4a51-8dc9-566f591b2c38/UNET_256wetlandLES1495.tfrecord.gz\nDownloaded path: /tmp/tmpe3whikq9/c51364d3-fc2f-4a51-8dc9-566f591b2c38/summerReplicated/training/UNET_256wetlandLES15.tfrecord.gz is different from target path: /tmp/tmpe3whikq9/c51364d3-fc2f-4a51-8dc9-566f591b2c38/UNET_256wetlandLES15.tfrecord.gz\nDownloaded path: /tmp/tmpe3whikq9/c51364d3-fc2f-4a51-8dc9-566f591b2c38/summerReplicated/training/UNET_256wetlandLES150.tfrecord.gz is different from target path: /tmp/tmpe3whikq9/c51364d3-fc2f-4a51-8dc9-566f591b2c38/UNET_256wetlandLES150.tfrecord.gz\nDownloaded path: /tmp/tmpe3whikq9/c51364d3-fc2f-4a51-8dc9-566f591b2c38/summerReplicated/training/UNET_256wetlandLES1500.tfrecord.gz is different from target path: /tmp/tmpe3whikq9/c51364d3-fc2f-4a51-8dc9-566f591b2c38/UNET_256wetlandLES1500.tfrecord.gz\nDownloaded path: /tmp/tmpe3whikq9/c51364d3-fc2f-4a51-8dc9-566f591b2c38/summerReplicated/training/UNET_256wetlandLES1505.tfrecord.gz is different from target path: /tmp/tmpe3whikq9/c51364d3-fc2f-4a51-8dc9-566f591b2c38/UNET_256wetlandLES1505.tfrecord.gz\nDownloaded path: /tmp/tmpe3whikq9/c51364d3-fc2f-4a51-8dc9-566f591b2c38/summerReplicated/training/UNET_256wetlandLES1510.tfrecord.gz is different from target path: /tmp/tmpe3whikq9/c51364d3-fc2f-4a51-8dc9-566f591b2c38/UNET_256wetlandLES1510.tfrecord.gz\nDownloaded path: /tmp/tmpe3whikq9/c51364d3-fc2f-4a51-8dc9-566f591b2c38/summerReplicated/training/UNET_256wetlandLES1515.tfrecord.gz is different from target path: /tmp/tmpe3whikq9/c51364d3-fc2f-4a51-8dc9-566f591b2c38/UNET_256wetlandLES1515.tfrecord.gz\nDownloaded path: /tmp/tmpe3whikq9/c51364d3-fc2f-4a51-8dc9-566f591b2c38/summerReplicated/training/UNET_256wetlandLES1520.tfrecord.gz is different from target path: /tmp/tmpe3whikq9/c51364d3-fc2f-4a51-8dc9-566f591b2c38/UNET_256wetlandLES1520.tfrecord.gz\nDownloaded path: /tmp/tmpe3whikq9/c51364d3-fc2f-4a51-8dc9-566f591b2c38/summerReplicated/training/UNET_256wetlandLES1525.tfrecord.gz is different from target path: /tmp/tmpe3whikq9/c51364d3-fc2f-4a51-8dc9-566f591b2c38/UNET_256wetlandLES1525.tfrecord.gz\nDownloaded path: /tmp/tmpe3whikq9/c51364d3-fc2f-4a51-8dc9-566f591b2c38/summerReplicated/training/UNET_256wetlandLES1530.tfrecord.gz is different from target path: /tmp/tmpe3whikq9/c51364d3-fc2f-4a51-8dc9-566f591b2c38/UNET_256wetlandLES1530.tfrecord.gz\nDownloaded path: /tmp/tmpe3whikq9/c51364d3-fc2f-4a51-8dc9-566f591b2c38/summerReplicated/training/UNET_256wetlandLES1535.tfrecord.gz is different from target path: /tmp/tmpe3whikq9/c51364d3-fc2f-4a51-8dc9-566f591b2c38/UNET_256wetlandLES1535.tfrecord.gz\nDownloaded path: /tmp/tmpe3whikq9/c51364d3-fc2f-4a51-8dc9-566f591b2c38/summerReplicated/training/UNET_256wetlandLES1540.tfrecord.gz is different from target path: /tmp/tmpe3whikq9/c51364d3-fc2f-4a51-8dc9-566f591b2c38/UNET_256wetlandLES1540.tfrecord.gz\nDownloaded path: /tmp/tmpe3whikq9/c51364d3-fc2f-4a51-8dc9-566f591b2c38/summerReplicated/training/UNET_256wetlandLES1545.tfrecord.gz is different from target path: /tmp/tmpe3whikq9/c51364d3-fc2f-4a51-8dc9-566f591b2c38/UNET_256wetlandLES1545.tfrecord.gz\nDownloaded path: /tmp/tmpe3whikq9/c51364d3-fc2f-4a51-8dc9-566f591b2c38/summerReplicated/training/UNET_256wetlandLES155.tfrecord.gz is different from target path: /tmp/tmpe3whikq9/c51364d3-fc2f-4a51-8dc9-566f591b2c38/UNET_256wetlandLES155.tfrecord.gz\nDownloaded path: /tmp/tmpe3whikq9/c51364d3-fc2f-4a51-8dc9-566f591b2c38/summerReplicated/training/UNET_256wetlandLES1550.tfrecord.gz is different from target path: /tmp/tmpe3whikq9/c51364d3-fc2f-4a51-8dc9-566f591b2c38/UNET_256wetlandLES1550.tfrecord.gz\nDownloaded path: /tmp/tmpe3whikq9/c51364d3-fc2f-4a51-8dc9-566f591b2c38/summerReplicated/training/UNET_256wetlandLES1555.tfrecord.gz is different from target path: /tmp/tmpe3whikq9/c51364d3-fc2f-4a51-8dc9-566f591b2c38/UNET_256wetlandLES1555.tfrecord.gz\nDownloaded path: /tmp/tmpe3whikq9/c51364d3-fc2f-4a51-8dc9-566f591b2c38/summerReplicated/training/UNET_256wetlandLES1560.tfrecord.gz is different from target path: /tmp/tmpe3whikq9/c51364d3-fc2f-4a51-8dc9-566f591b2c38/UNET_256wetlandLES1560.tfrecord.gz\nDownloaded path: /tmp/tmpe3whikq9/c51364d3-fc2f-4a51-8dc9-566f591b2c38/summerReplicated/training/UNET_256wetlandLES1565.tfrecord.gz is different from target path: /tmp/tmpe3whikq9/c51364d3-fc2f-4a51-8dc9-566f591b2c38/UNET_256wetlandLES1565.tfrecord.gz\nDownloaded path: /tmp/tmpe3whikq9/c51364d3-fc2f-4a51-8dc9-566f591b2c38/summerReplicated/training/UNET_256wetlandLES1570.tfrecord.gz is different from target path: /tmp/tmpe3whikq9/c51364d3-fc2f-4a51-8dc9-566f591b2c38/UNET_256wetlandLES1570.tfrecord.gz\nDownloaded path: /tmp/tmpe3whikq9/c51364d3-fc2f-4a51-8dc9-566f591b2c38/summerReplicated/training/UNET_256wetlandLES1575.tfrecord.gz is different from target path: /tmp/tmpe3whikq9/c51364d3-fc2f-4a51-8dc9-566f591b2c38/UNET_256wetlandLES1575.tfrecord.gz\nDownloaded path: /tmp/tmpe3whikq9/c51364d3-fc2f-4a51-8dc9-566f591b2c38/summerReplicated/training/UNET_256wetlandLES1580.tfrecord.gz is different from target path: /tmp/tmpe3whikq9/c51364d3-fc2f-4a51-8dc9-566f591b2c38/UNET_256wetlandLES1580.tfrecord.gz\nDownloaded path: /tmp/tmpe3whikq9/c51364d3-fc2f-4a51-8dc9-566f591b2c38/summerReplicated/training/UNET_256wetlandLES1585.tfrecord.gz is different from target path: /tmp/tmpe3whikq9/c51364d3-fc2f-4a51-8dc9-566f591b2c38/UNET_256wetlandLES1585.tfrecord.gz\nDownloaded path: /tmp/tmpe3whikq9/c51364d3-fc2f-4a51-8dc9-566f591b2c38/summerReplicated/training/UNET_256wetlandLES1590.tfrecord.gz is different from target path: /tmp/tmpe3whikq9/c51364d3-fc2f-4a51-8dc9-566f591b2c38/UNET_256wetlandLES1590.tfrecord.gz\nDownloaded path: /tmp/tmpe3whikq9/c51364d3-fc2f-4a51-8dc9-566f591b2c38/summerReplicated/training/UNET_256wetlandLES1595.tfrecord.gz is different from target path: /tmp/tmpe3whikq9/c51364d3-fc2f-4a51-8dc9-566f591b2c38/UNET_256wetlandLES1595.tfrecord.gz\nDownloaded path: /tmp/tmpe3whikq9/c51364d3-fc2f-4a51-8dc9-566f591b2c38/summerReplicated/training/UNET_256wetlandLES160.tfrecord.gz is different from target path: /tmp/tmpe3whikq9/c51364d3-fc2f-4a51-8dc9-566f591b2c38/UNET_256wetlandLES160.tfrecord.gz\nDownloaded path: /tmp/tmpe3whikq9/c51364d3-fc2f-4a51-8dc9-566f591b2c38/summerReplicated/training/UNET_256wetlandLES1600.tfrecord.gz is different from target path: /tmp/tmpe3whikq9/c51364d3-fc2f-4a51-8dc9-566f591b2c38/UNET_256wetlandLES1600.tfrecord.gz\nDownloaded path: /tmp/tmpe3whikq9/c51364d3-fc2f-4a51-8dc9-566f591b2c38/summerReplicated/training/UNET_256wetlandLES1605.tfrecord.gz is different from target path: /tmp/tmpe3whikq9/c51364d3-fc2f-4a51-8dc9-566f591b2c38/UNET_256wetlandLES1605.tfrecord.gz\nDownloaded path: /tmp/tmpe3whikq9/c51364d3-fc2f-4a51-8dc9-566f591b2c38/summerReplicated/training/UNET_256wetlandLES1610.tfrecord.gz is different from target path: /tmp/tmpe3whikq9/c51364d3-fc2f-4a51-8dc9-566f591b2c38/UNET_256wetlandLES1610.tfrecord.gz\nDownloaded path: /tmp/tmpe3whikq9/c51364d3-fc2f-4a51-8dc9-566f591b2c38/summerReplicated/training/UNET_256wetlandLES1615.tfrecord.gz is different from target path: /tmp/tmpe3whikq9/c51364d3-fc2f-4a51-8dc9-566f591b2c38/UNET_256wetlandLES1615.tfrecord.gz\nDownloaded path: /tmp/tmpe3whikq9/c51364d3-fc2f-4a51-8dc9-566f591b2c38/summerReplicated/training/UNET_256wetlandLES1620.tfrecord.gz is different from target path: /tmp/tmpe3whikq9/c51364d3-fc2f-4a51-8dc9-566f591b2c38/UNET_256wetlandLES1620.tfrecord.gz\nDownloaded path: /tmp/tmpe3whikq9/c51364d3-fc2f-4a51-8dc9-566f591b2c38/summerReplicated/training/UNET_256wetlandLES1625.tfrecord.gz is different from target path: /tmp/tmpe3whikq9/c51364d3-fc2f-4a51-8dc9-566f591b2c38/UNET_256wetlandLES1625.tfrecord.gz\nDownloaded path: /tmp/tmpe3whikq9/c51364d3-fc2f-4a51-8dc9-566f591b2c38/summerReplicated/training/UNET_256wetlandLES1630.tfrecord.gz is different from target path: /tmp/tmpe3whikq9/c51364d3-fc2f-4a51-8dc9-566f591b2c38/UNET_256wetlandLES1630.tfrecord.gz\nDownloaded path: /tmp/tmpe3whikq9/c51364d3-fc2f-4a51-8dc9-566f591b2c38/summerReplicated/training/UNET_256wetlandLES1635.tfrecord.gz is different from target path: /tmp/tmpe3whikq9/c51364d3-fc2f-4a51-8dc9-566f591b2c38/UNET_256wetlandLES1635.tfrecord.gz\nDownloaded path: /tmp/tmpe3whikq9/c51364d3-fc2f-4a51-8dc9-566f591b2c38/summerReplicated/training/UNET_256wetlandLES1640.tfrecord.gz is different from target path: /tmp/tmpe3whikq9/c51364d3-fc2f-4a51-8dc9-566f591b2c38/UNET_256wetlandLES1640.tfrecord.gz\nDownloaded path: /tmp/tmpe3whikq9/c51364d3-fc2f-4a51-8dc9-566f591b2c38/summerReplicated/training/UNET_256wetlandLES1645.tfrecord.gz is different from target path: /tmp/tmpe3whikq9/c51364d3-fc2f-4a51-8dc9-566f591b2c38/UNET_256wetlandLES1645.tfrecord.gz\nDownloaded path: /tmp/tmpe3whikq9/c51364d3-fc2f-4a51-8dc9-566f591b2c38/summerReplicated/training/UNET_256wetlandLES165.tfrecord.gz is different from target path: /tmp/tmpe3whikq9/c51364d3-fc2f-4a51-8dc9-566f591b2c38/UNET_256wetlandLES165.tfrecord.gz\nDownloaded path: /tmp/tmpe3whikq9/c51364d3-fc2f-4a51-8dc9-566f591b2c38/summerReplicated/training/UNET_256wetlandLES1650.tfrecord.gz is different from target path: /tmp/tmpe3whikq9/c51364d3-fc2f-4a51-8dc9-566f591b2c38/UNET_256wetlandLES1650.tfrecord.gz\nDownloaded path: /tmp/tmpe3whikq9/c51364d3-fc2f-4a51-8dc9-566f591b2c38/summerReplicated/training/UNET_256wetlandLES1655.tfrecord.gz is different from target path: /tmp/tmpe3whikq9/c51364d3-fc2f-4a51-8dc9-566f591b2c38/UNET_256wetlandLES1655.tfrecord.gz\nDownloaded path: /tmp/tmpe3whikq9/c51364d3-fc2f-4a51-8dc9-566f591b2c38/summerReplicated/training/UNET_256wetlandLES1660.tfrecord.gz is different from target path: /tmp/tmpe3whikq9/c51364d3-fc2f-4a51-8dc9-566f591b2c38/UNET_256wetlandLES1660.tfrecord.gz\nDownloaded path: /tmp/tmpe3whikq9/c51364d3-fc2f-4a51-8dc9-566f591b2c38/summerReplicated/training/UNET_256wetlandLES1665.tfrecord.gz is different from target path: /tmp/tmpe3whikq9/c51364d3-fc2f-4a51-8dc9-566f591b2c38/UNET_256wetlandLES1665.tfrecord.gz\nDownloaded path: /tmp/tmpe3whikq9/c51364d3-fc2f-4a51-8dc9-566f591b2c38/summerReplicated/training/UNET_256wetlandLES1670.tfrecord.gz is different from target path: /tmp/tmpe3whikq9/c51364d3-fc2f-4a51-8dc9-566f591b2c38/UNET_256wetlandLES1670.tfrecord.gz\nDownloaded path: /tmp/tmpe3whikq9/c51364d3-fc2f-4a51-8dc9-566f591b2c38/summerReplicated/training/UNET_256wetlandLES1675.tfrecord.gz is different from target path: /tmp/tmpe3whikq9/c51364d3-fc2f-4a51-8dc9-566f591b2c38/UNET_256wetlandLES1675.tfrecord.gz\nDownloaded path: /tmp/tmpe3whikq9/c51364d3-fc2f-4a51-8dc9-566f591b2c38/summerReplicated/training/UNET_256wetlandLES1680.tfrecord.gz is different from target path: /tmp/tmpe3whikq9/c51364d3-fc2f-4a51-8dc9-566f591b2c38/UNET_256wetlandLES1680.tfrecord.gz\nDownloaded path: /tmp/tmpe3whikq9/c51364d3-fc2f-4a51-8dc9-566f591b2c38/summerReplicated/training/UNET_256wetlandLES1685.tfrecord.gz is different from target path: /tmp/tmpe3whikq9/c51364d3-fc2f-4a51-8dc9-566f591b2c38/UNET_256wetlandLES1685.tfrecord.gz\nDownloaded path: /tmp/tmpe3whikq9/c51364d3-fc2f-4a51-8dc9-566f591b2c38/summerReplicated/training/UNET_256wetlandLES1690.tfrecord.gz is different from target path: /tmp/tmpe3whikq9/c51364d3-fc2f-4a51-8dc9-566f591b2c38/UNET_256wetlandLES1690.tfrecord.gz\nDownloaded path: /tmp/tmpe3whikq9/c51364d3-fc2f-4a51-8dc9-566f591b2c38/summerReplicated/training/UNET_256wetlandLES1695.tfrecord.gz is different from target path: /tmp/tmpe3whikq9/c51364d3-fc2f-4a51-8dc9-566f591b2c38/UNET_256wetlandLES1695.tfrecord.gz\nDownloaded path: /tmp/tmpe3whikq9/c51364d3-fc2f-4a51-8dc9-566f591b2c38/summerReplicated/training/UNET_256wetlandLES170.tfrecord.gz is different from target path: /tmp/tmpe3whikq9/c51364d3-fc2f-4a51-8dc9-566f591b2c38/UNET_256wetlandLES170.tfrecord.gz\nDownloaded path: /tmp/tmpe3whikq9/c51364d3-fc2f-4a51-8dc9-566f591b2c38/summerReplicated/training/UNET_256wetlandLES1700.tfrecord.gz is different from target path: /tmp/tmpe3whikq9/c51364d3-fc2f-4a51-8dc9-566f591b2c38/UNET_256wetlandLES1700.tfrecord.gz\nDownloaded path: /tmp/tmpe3whikq9/c51364d3-fc2f-4a51-8dc9-566f591b2c38/summerReplicated/training/UNET_256wetlandLES1705.tfrecord.gz is different from target path: /tmp/tmpe3whikq9/c51364d3-fc2f-4a51-8dc9-566f591b2c38/UNET_256wetlandLES1705.tfrecord.gz\nDownloaded path: /tmp/tmpe3whikq9/c51364d3-fc2f-4a51-8dc9-566f591b2c38/summerReplicated/training/UNET_256wetlandLES1710.tfrecord.gz is different from target path: /tmp/tmpe3whikq9/c51364d3-fc2f-4a51-8dc9-566f591b2c38/UNET_256wetlandLES1710.tfrecord.gz\nDownloaded path: /tmp/tmpe3whikq9/c51364d3-fc2f-4a51-8dc9-566f591b2c38/summerReplicated/training/UNET_256wetlandLES1715.tfrecord.gz is different from target path: /tmp/tmpe3whikq9/c51364d3-fc2f-4a51-8dc9-566f591b2c38/UNET_256wetlandLES1715.tfrecord.gz\nDownloaded path: /tmp/tmpe3whikq9/c51364d3-fc2f-4a51-8dc9-566f591b2c38/summerReplicated/training/UNET_256wetlandLES1720.tfrecord.gz is different from target path: /tmp/tmpe3whikq9/c51364d3-fc2f-4a51-8dc9-566f591b2c38/UNET_256wetlandLES1720.tfrecord.gz\nDownloaded path: /tmp/tmpe3whikq9/c51364d3-fc2f-4a51-8dc9-566f591b2c38/summerReplicated/training/UNET_256wetlandLES1725.tfrecord.gz is different from target path: /tmp/tmpe3whikq9/c51364d3-fc2f-4a51-8dc9-566f591b2c38/UNET_256wetlandLES1725.tfrecord.gz\nDownloaded path: /tmp/tmpe3whikq9/c51364d3-fc2f-4a51-8dc9-566f591b2c38/summerReplicated/training/UNET_256wetlandLES1730.tfrecord.gz is different from target path: /tmp/tmpe3whikq9/c51364d3-fc2f-4a51-8dc9-566f591b2c38/UNET_256wetlandLES1730.tfrecord.gz\nDownloaded path: /tmp/tmpe3whikq9/c51364d3-fc2f-4a51-8dc9-566f591b2c38/summerReplicated/training/UNET_256wetlandLES1735.tfrecord.gz is different from target path: /tmp/tmpe3whikq9/c51364d3-fc2f-4a51-8dc9-566f591b2c38/UNET_256wetlandLES1735.tfrecord.gz\nDownloaded path: /tmp/tmpe3whikq9/c51364d3-fc2f-4a51-8dc9-566f591b2c38/summerReplicated/training/UNET_256wetlandLES1740.tfrecord.gz is different from target path: /tmp/tmpe3whikq9/c51364d3-fc2f-4a51-8dc9-566f591b2c38/UNET_256wetlandLES1740.tfrecord.gz\nDownloaded path: /tmp/tmpe3whikq9/c51364d3-fc2f-4a51-8dc9-566f591b2c38/summerReplicated/training/UNET_256wetlandLES1745.tfrecord.gz is different from target path: /tmp/tmpe3whikq9/c51364d3-fc2f-4a51-8dc9-566f591b2c38/UNET_256wetlandLES1745.tfrecord.gz\nDownloaded path: /tmp/tmpe3whikq9/c51364d3-fc2f-4a51-8dc9-566f591b2c38/summerReplicated/training/UNET_256wetlandLES175.tfrecord.gz is different from target path: /tmp/tmpe3whikq9/c51364d3-fc2f-4a51-8dc9-566f591b2c38/UNET_256wetlandLES175.tfrecord.gz\nDownloaded path: /tmp/tmpe3whikq9/c51364d3-fc2f-4a51-8dc9-566f591b2c38/summerReplicated/training/UNET_256wetlandLES1750.tfrecord.gz is different from target path: /tmp/tmpe3whikq9/c51364d3-fc2f-4a51-8dc9-566f591b2c38/UNET_256wetlandLES1750.tfrecord.gz\nDownloaded path: /tmp/tmpe3whikq9/c51364d3-fc2f-4a51-8dc9-566f591b2c38/summerReplicated/training/UNET_256wetlandLES1755.tfrecord.gz is different from target path: /tmp/tmpe3whikq9/c51364d3-fc2f-4a51-8dc9-566f591b2c38/UNET_256wetlandLES1755.tfrecord.gz\nDownloaded path: /tmp/tmpe3whikq9/c51364d3-fc2f-4a51-8dc9-566f591b2c38/summerReplicated/training/UNET_256wetlandLES1760.tfrecord.gz is different from target path: /tmp/tmpe3whikq9/c51364d3-fc2f-4a51-8dc9-566f591b2c38/UNET_256wetlandLES1760.tfrecord.gz\nDownloaded path: /tmp/tmpe3whikq9/c51364d3-fc2f-4a51-8dc9-566f591b2c38/summerReplicated/training/UNET_256wetlandLES1765.tfrecord.gz is different from target path: /tmp/tmpe3whikq9/c51364d3-fc2f-4a51-8dc9-566f591b2c38/UNET_256wetlandLES1765.tfrecord.gz\nDownloaded path: /tmp/tmpe3whikq9/c51364d3-fc2f-4a51-8dc9-566f591b2c38/summerReplicated/training/UNET_256wetlandLES1770.tfrecord.gz is different from target path: /tmp/tmpe3whikq9/c51364d3-fc2f-4a51-8dc9-566f591b2c38/UNET_256wetlandLES1770.tfrecord.gz\nDownloaded path: /tmp/tmpe3whikq9/c51364d3-fc2f-4a51-8dc9-566f591b2c38/summerReplicated/training/UNET_256wetlandLES1775.tfrecord.gz is different from target path: /tmp/tmpe3whikq9/c51364d3-fc2f-4a51-8dc9-566f591b2c38/UNET_256wetlandLES1775.tfrecord.gz\nDownloaded path: /tmp/tmpe3whikq9/c51364d3-fc2f-4a51-8dc9-566f591b2c38/summerReplicated/training/UNET_256wetlandLES1780.tfrecord.gz is different from target path: /tmp/tmpe3whikq9/c51364d3-fc2f-4a51-8dc9-566f591b2c38/UNET_256wetlandLES1780.tfrecord.gz\nDownloaded path: /tmp/tmpe3whikq9/c51364d3-fc2f-4a51-8dc9-566f591b2c38/summerReplicated/training/UNET_256wetlandLES1785.tfrecord.gz is different from target path: /tmp/tmpe3whikq9/c51364d3-fc2f-4a51-8dc9-566f591b2c38/UNET_256wetlandLES1785.tfrecord.gz\nDownloaded path: /tmp/tmpe3whikq9/c51364d3-fc2f-4a51-8dc9-566f591b2c38/summerReplicated/training/UNET_256wetlandLES1790.tfrecord.gz is different from target path: /tmp/tmpe3whikq9/c51364d3-fc2f-4a51-8dc9-566f591b2c38/UNET_256wetlandLES1790.tfrecord.gz\nDownloaded path: /tmp/tmpe3whikq9/c51364d3-fc2f-4a51-8dc9-566f591b2c38/summerReplicated/training/UNET_256wetlandLES1795.tfrecord.gz is different from target path: /tmp/tmpe3whikq9/c51364d3-fc2f-4a51-8dc9-566f591b2c38/UNET_256wetlandLES1795.tfrecord.gz\nDownloaded path: /tmp/tmpe3whikq9/c51364d3-fc2f-4a51-8dc9-566f591b2c38/summerReplicated/training/UNET_256wetlandLES180.tfrecord.gz is different from target path: /tmp/tmpe3whikq9/c51364d3-fc2f-4a51-8dc9-566f591b2c38/UNET_256wetlandLES180.tfrecord.gz\nDownloaded path: /tmp/tmpe3whikq9/c51364d3-fc2f-4a51-8dc9-566f591b2c38/summerReplicated/training/UNET_256wetlandLES1800.tfrecord.gz is different from target path: /tmp/tmpe3whikq9/c51364d3-fc2f-4a51-8dc9-566f591b2c38/UNET_256wetlandLES1800.tfrecord.gz\nDownloaded path: /tmp/tmpe3whikq9/c51364d3-fc2f-4a51-8dc9-566f591b2c38/summerReplicated/training/UNET_256wetlandLES1805.tfrecord.gz is different from target path: /tmp/tmpe3whikq9/c51364d3-fc2f-4a51-8dc9-566f591b2c38/UNET_256wetlandLES1805.tfrecord.gz\nDownloaded path: /tmp/tmpe3whikq9/c51364d3-fc2f-4a51-8dc9-566f591b2c38/summerReplicated/training/UNET_256wetlandLES1810.tfrecord.gz is different from target path: /tmp/tmpe3whikq9/c51364d3-fc2f-4a51-8dc9-566f591b2c38/UNET_256wetlandLES1810.tfrecord.gz\nDownloaded path: /tmp/tmpe3whikq9/c51364d3-fc2f-4a51-8dc9-566f591b2c38/summerReplicated/training/UNET_256wetlandLES1815.tfrecord.gz is different from target path: /tmp/tmpe3whikq9/c51364d3-fc2f-4a51-8dc9-566f591b2c38/UNET_256wetlandLES1815.tfrecord.gz\nDownloaded path: /tmp/tmpe3whikq9/c51364d3-fc2f-4a51-8dc9-566f591b2c38/summerReplicated/training/UNET_256wetlandLES1820.tfrecord.gz is different from target path: /tmp/tmpe3whikq9/c51364d3-fc2f-4a51-8dc9-566f591b2c38/UNET_256wetlandLES1820.tfrecord.gz\nDownloaded path: /tmp/tmpe3whikq9/c51364d3-fc2f-4a51-8dc9-566f591b2c38/summerReplicated/training/UNET_256wetlandLES1825.tfrecord.gz is different from target path: /tmp/tmpe3whikq9/c51364d3-fc2f-4a51-8dc9-566f591b2c38/UNET_256wetlandLES1825.tfrecord.gz\nDownloaded path: /tmp/tmpe3whikq9/c51364d3-fc2f-4a51-8dc9-566f591b2c38/summerReplicated/training/UNET_256wetlandLES1830.tfrecord.gz is different from target path: /tmp/tmpe3whikq9/c51364d3-fc2f-4a51-8dc9-566f591b2c38/UNET_256wetlandLES1830.tfrecord.gz\nDownloaded path: /tmp/tmpe3whikq9/c51364d3-fc2f-4a51-8dc9-566f591b2c38/summerReplicated/training/UNET_256wetlandLES1835.tfrecord.gz is different from target path: /tmp/tmpe3whikq9/c51364d3-fc2f-4a51-8dc9-566f591b2c38/UNET_256wetlandLES1835.tfrecord.gz\nDownloaded path: /tmp/tmpe3whikq9/c51364d3-fc2f-4a51-8dc9-566f591b2c38/summerReplicated/training/UNET_256wetlandLES1840.tfrecord.gz is different from target path: /tmp/tmpe3whikq9/c51364d3-fc2f-4a51-8dc9-566f591b2c38/UNET_256wetlandLES1840.tfrecord.gz\nDownloaded path: /tmp/tmpe3whikq9/c51364d3-fc2f-4a51-8dc9-566f591b2c38/summerReplicated/training/UNET_256wetlandLES1845.tfrecord.gz is different from target path: /tmp/tmpe3whikq9/c51364d3-fc2f-4a51-8dc9-566f591b2c38/UNET_256wetlandLES1845.tfrecord.gz\nDownloaded path: /tmp/tmpe3whikq9/c51364d3-fc2f-4a51-8dc9-566f591b2c38/summerReplicated/training/UNET_256wetlandLES185.tfrecord.gz is different from target path: /tmp/tmpe3whikq9/c51364d3-fc2f-4a51-8dc9-566f591b2c38/UNET_256wetlandLES185.tfrecord.gz\nDownloaded path: /tmp/tmpe3whikq9/c51364d3-fc2f-4a51-8dc9-566f591b2c38/summerReplicated/training/UNET_256wetlandLES1850.tfrecord.gz is different from target path: /tmp/tmpe3whikq9/c51364d3-fc2f-4a51-8dc9-566f591b2c38/UNET_256wetlandLES1850.tfrecord.gz\nDownloaded path: /tmp/tmpe3whikq9/c51364d3-fc2f-4a51-8dc9-566f591b2c38/summerReplicated/training/UNET_256wetlandLES1855.tfrecord.gz is different from target path: /tmp/tmpe3whikq9/c51364d3-fc2f-4a51-8dc9-566f591b2c38/UNET_256wetlandLES1855.tfrecord.gz\nDownloaded path: /tmp/tmpe3whikq9/c51364d3-fc2f-4a51-8dc9-566f591b2c38/summerReplicated/training/UNET_256wetlandLES1860.tfrecord.gz is different from target path: /tmp/tmpe3whikq9/c51364d3-fc2f-4a51-8dc9-566f591b2c38/UNET_256wetlandLES1860.tfrecord.gz\nDownloaded path: /tmp/tmpe3whikq9/c51364d3-fc2f-4a51-8dc9-566f591b2c38/summerReplicated/training/UNET_256wetlandLES1865.tfrecord.gz is different from target path: /tmp/tmpe3whikq9/c51364d3-fc2f-4a51-8dc9-566f591b2c38/UNET_256wetlandLES1865.tfrecord.gz\nDownloaded path: /tmp/tmpe3whikq9/c51364d3-fc2f-4a51-8dc9-566f591b2c38/summerReplicated/training/UNET_256wetlandLES1870.tfrecord.gz is different from target path: /tmp/tmpe3whikq9/c51364d3-fc2f-4a51-8dc9-566f591b2c38/UNET_256wetlandLES1870.tfrecord.gz\nDownloaded path: /tmp/tmpe3whikq9/c51364d3-fc2f-4a51-8dc9-566f591b2c38/summerReplicated/training/UNET_256wetlandLES1875.tfrecord.gz is different from target path: /tmp/tmpe3whikq9/c51364d3-fc2f-4a51-8dc9-566f591b2c38/UNET_256wetlandLES1875.tfrecord.gz\nDownloaded path: /tmp/tmpe3whikq9/c51364d3-fc2f-4a51-8dc9-566f591b2c38/summerReplicated/training/UNET_256wetlandLES1880.tfrecord.gz is different from target path: /tmp/tmpe3whikq9/c51364d3-fc2f-4a51-8dc9-566f591b2c38/UNET_256wetlandLES1880.tfrecord.gz\nDownloaded path: /tmp/tmpe3whikq9/c51364d3-fc2f-4a51-8dc9-566f591b2c38/summerReplicated/training/UNET_256wetlandLES1885.tfrecord.gz is different from target path: /tmp/tmpe3whikq9/c51364d3-fc2f-4a51-8dc9-566f591b2c38/UNET_256wetlandLES1885.tfrecord.gz\nDownloaded path: /tmp/tmpe3whikq9/c51364d3-fc2f-4a51-8dc9-566f591b2c38/summerReplicated/training/UNET_256wetlandLES1890.tfrecord.gz is different from target path: /tmp/tmpe3whikq9/c51364d3-fc2f-4a51-8dc9-566f591b2c38/UNET_256wetlandLES1890.tfrecord.gz\nDownloaded path: /tmp/tmpe3whikq9/c51364d3-fc2f-4a51-8dc9-566f591b2c38/summerReplicated/training/UNET_256wetlandLES1895.tfrecord.gz is different from target path: /tmp/tmpe3whikq9/c51364d3-fc2f-4a51-8dc9-566f591b2c38/UNET_256wetlandLES1895.tfrecord.gz\nDownloaded path: /tmp/tmpe3whikq9/c51364d3-fc2f-4a51-8dc9-566f591b2c38/summerReplicated/training/UNET_256wetlandLES190.tfrecord.gz is different from target path: /tmp/tmpe3whikq9/c51364d3-fc2f-4a51-8dc9-566f591b2c38/UNET_256wetlandLES190.tfrecord.gz\nDownloaded path: /tmp/tmpe3whikq9/c51364d3-fc2f-4a51-8dc9-566f591b2c38/summerReplicated/training/UNET_256wetlandLES1900.tfrecord.gz is different from target path: /tmp/tmpe3whikq9/c51364d3-fc2f-4a51-8dc9-566f591b2c38/UNET_256wetlandLES1900.tfrecord.gz\nDownloaded path: /tmp/tmpe3whikq9/c51364d3-fc2f-4a51-8dc9-566f591b2c38/summerReplicated/training/UNET_256wetlandLES1905.tfrecord.gz is different from target path: /tmp/tmpe3whikq9/c51364d3-fc2f-4a51-8dc9-566f591b2c38/UNET_256wetlandLES1905.tfrecord.gz\nDownloaded path: /tmp/tmpe3whikq9/c51364d3-fc2f-4a51-8dc9-566f591b2c38/summerReplicated/training/UNET_256wetlandLES1910.tfrecord.gz is different from target path: /tmp/tmpe3whikq9/c51364d3-fc2f-4a51-8dc9-566f591b2c38/UNET_256wetlandLES1910.tfrecord.gz\nDownloaded path: /tmp/tmpe3whikq9/c51364d3-fc2f-4a51-8dc9-566f591b2c38/summerReplicated/training/UNET_256wetlandLES1915.tfrecord.gz is different from target path: /tmp/tmpe3whikq9/c51364d3-fc2f-4a51-8dc9-566f591b2c38/UNET_256wetlandLES1915.tfrecord.gz\nDownloaded path: /tmp/tmpe3whikq9/c51364d3-fc2f-4a51-8dc9-566f591b2c38/summerReplicated/training/UNET_256wetlandLES1920.tfrecord.gz is different from target path: /tmp/tmpe3whikq9/c51364d3-fc2f-4a51-8dc9-566f591b2c38/UNET_256wetlandLES1920.tfrecord.gz\nDownloaded path: /tmp/tmpe3whikq9/c51364d3-fc2f-4a51-8dc9-566f591b2c38/summerReplicated/training/UNET_256wetlandLES1925.tfrecord.gz is different from target path: /tmp/tmpe3whikq9/c51364d3-fc2f-4a51-8dc9-566f591b2c38/UNET_256wetlandLES1925.tfrecord.gz\nDownloaded path: /tmp/tmpe3whikq9/c51364d3-fc2f-4a51-8dc9-566f591b2c38/summerReplicated/training/UNET_256wetlandLES1930.tfrecord.gz is different from target path: /tmp/tmpe3whikq9/c51364d3-fc2f-4a51-8dc9-566f591b2c38/UNET_256wetlandLES1930.tfrecord.gz\nDownloaded path: /tmp/tmpe3whikq9/c51364d3-fc2f-4a51-8dc9-566f591b2c38/summerReplicated/training/UNET_256wetlandLES1935.tfrecord.gz is different from target path: /tmp/tmpe3whikq9/c51364d3-fc2f-4a51-8dc9-566f591b2c38/UNET_256wetlandLES1935.tfrecord.gz\nDownloaded path: /tmp/tmpe3whikq9/c51364d3-fc2f-4a51-8dc9-566f591b2c38/summerReplicated/training/UNET_256wetlandLES1940.tfrecord.gz is different from target path: /tmp/tmpe3whikq9/c51364d3-fc2f-4a51-8dc9-566f591b2c38/UNET_256wetlandLES1940.tfrecord.gz\nDownloaded path: /tmp/tmpe3whikq9/c51364d3-fc2f-4a51-8dc9-566f591b2c38/summerReplicated/training/UNET_256wetlandLES1945.tfrecord.gz is different from target path: /tmp/tmpe3whikq9/c51364d3-fc2f-4a51-8dc9-566f591b2c38/UNET_256wetlandLES1945.tfrecord.gz\nDownloaded path: /tmp/tmpe3whikq9/c51364d3-fc2f-4a51-8dc9-566f591b2c38/summerReplicated/training/UNET_256wetlandLES195.tfrecord.gz is different from target path: /tmp/tmpe3whikq9/c51364d3-fc2f-4a51-8dc9-566f591b2c38/UNET_256wetlandLES195.tfrecord.gz\nDownloaded path: /tmp/tmpe3whikq9/c51364d3-fc2f-4a51-8dc9-566f591b2c38/summerReplicated/training/UNET_256wetlandLES1950.tfrecord.gz is different from target path: /tmp/tmpe3whikq9/c51364d3-fc2f-4a51-8dc9-566f591b2c38/UNET_256wetlandLES1950.tfrecord.gz\nDownloaded path: /tmp/tmpe3whikq9/c51364d3-fc2f-4a51-8dc9-566f591b2c38/summerReplicated/training/UNET_256wetlandLES1955.tfrecord.gz is different from target path: /tmp/tmpe3whikq9/c51364d3-fc2f-4a51-8dc9-566f591b2c38/UNET_256wetlandLES1955.tfrecord.gz\nDownloaded path: /tmp/tmpe3whikq9/c51364d3-fc2f-4a51-8dc9-566f591b2c38/summerReplicated/training/UNET_256wetlandLES1960.tfrecord.gz is different from target path: /tmp/tmpe3whikq9/c51364d3-fc2f-4a51-8dc9-566f591b2c38/UNET_256wetlandLES1960.tfrecord.gz\nDownloaded path: /tmp/tmpe3whikq9/c51364d3-fc2f-4a51-8dc9-566f591b2c38/summerReplicated/training/UNET_256wetlandLES1965.tfrecord.gz is different from target path: /tmp/tmpe3whikq9/c51364d3-fc2f-4a51-8dc9-566f591b2c38/UNET_256wetlandLES1965.tfrecord.gz\nDownloaded path: /tmp/tmpe3whikq9/c51364d3-fc2f-4a51-8dc9-566f591b2c38/summerReplicated/training/UNET_256wetlandLES1970.tfrecord.gz is different from target path: /tmp/tmpe3whikq9/c51364d3-fc2f-4a51-8dc9-566f591b2c38/UNET_256wetlandLES1970.tfrecord.gz\nDownloaded path: /tmp/tmpe3whikq9/c51364d3-fc2f-4a51-8dc9-566f591b2c38/summerReplicated/training/UNET_256wetlandLES1975.tfrecord.gz is different from target path: /tmp/tmpe3whikq9/c51364d3-fc2f-4a51-8dc9-566f591b2c38/UNET_256wetlandLES1975.tfrecord.gz\nDownloaded path: /tmp/tmpe3whikq9/c51364d3-fc2f-4a51-8dc9-566f591b2c38/summerReplicated/training/UNET_256wetlandLES1980.tfrecord.gz is different from target path: /tmp/tmpe3whikq9/c51364d3-fc2f-4a51-8dc9-566f591b2c38/UNET_256wetlandLES1980.tfrecord.gz\nDownloaded path: /tmp/tmpe3whikq9/c51364d3-fc2f-4a51-8dc9-566f591b2c38/summerReplicated/training/UNET_256wetlandLES1985.tfrecord.gz is different from target path: /tmp/tmpe3whikq9/c51364d3-fc2f-4a51-8dc9-566f591b2c38/UNET_256wetlandLES1985.tfrecord.gz\nDownloaded path: /tmp/tmpe3whikq9/c51364d3-fc2f-4a51-8dc9-566f591b2c38/summerReplicated/training/UNET_256wetlandLES1990.tfrecord.gz is different from target path: /tmp/tmpe3whikq9/c51364d3-fc2f-4a51-8dc9-566f591b2c38/UNET_256wetlandLES1990.tfrecord.gz\nDownloaded path: /tmp/tmpe3whikq9/c51364d3-fc2f-4a51-8dc9-566f591b2c38/summerReplicated/training/UNET_256wetlandLES1995.tfrecord.gz is different from target path: /tmp/tmpe3whikq9/c51364d3-fc2f-4a51-8dc9-566f591b2c38/UNET_256wetlandLES1995.tfrecord.gz\nDownloaded path: /tmp/tmpe3whikq9/c51364d3-fc2f-4a51-8dc9-566f591b2c38/summerReplicated/training/UNET_256wetlandLES20.tfrecord.gz is different from target path: /tmp/tmpe3whikq9/c51364d3-fc2f-4a51-8dc9-566f591b2c38/UNET_256wetlandLES20.tfrecord.gz\nDownloaded path: /tmp/tmpe3whikq9/c51364d3-fc2f-4a51-8dc9-566f591b2c38/summerReplicated/training/UNET_256wetlandLES200.tfrecord.gz is different from target path: /tmp/tmpe3whikq9/c51364d3-fc2f-4a51-8dc9-566f591b2c38/UNET_256wetlandLES200.tfrecord.gz\nDownloaded path: /tmp/tmpe3whikq9/c51364d3-fc2f-4a51-8dc9-566f591b2c38/summerReplicated/training/UNET_256wetlandLES2000.tfrecord.gz is different from target path: /tmp/tmpe3whikq9/c51364d3-fc2f-4a51-8dc9-566f591b2c38/UNET_256wetlandLES2000.tfrecord.gz\nDownloaded path: /tmp/tmpe3whikq9/c51364d3-fc2f-4a51-8dc9-566f591b2c38/summerReplicated/training/UNET_256wetlandLES2005.tfrecord.gz is different from target path: /tmp/tmpe3whikq9/c51364d3-fc2f-4a51-8dc9-566f591b2c38/UNET_256wetlandLES2005.tfrecord.gz\nDownloaded path: /tmp/tmpe3whikq9/c51364d3-fc2f-4a51-8dc9-566f591b2c38/summerReplicated/training/UNET_256wetlandLES2010.tfrecord.gz is different from target path: /tmp/tmpe3whikq9/c51364d3-fc2f-4a51-8dc9-566f591b2c38/UNET_256wetlandLES2010.tfrecord.gz\nDownloaded path: /tmp/tmpe3whikq9/c51364d3-fc2f-4a51-8dc9-566f591b2c38/summerReplicated/training/UNET_256wetlandLES2015.tfrecord.gz is different from target path: /tmp/tmpe3whikq9/c51364d3-fc2f-4a51-8dc9-566f591b2c38/UNET_256wetlandLES2015.tfrecord.gz\nDownloaded path: /tmp/tmpe3whikq9/c51364d3-fc2f-4a51-8dc9-566f591b2c38/summerReplicated/training/UNET_256wetlandLES2020.tfrecord.gz is different from target path: /tmp/tmpe3whikq9/c51364d3-fc2f-4a51-8dc9-566f591b2c38/UNET_256wetlandLES2020.tfrecord.gz\nDownloaded path: /tmp/tmpe3whikq9/c51364d3-fc2f-4a51-8dc9-566f591b2c38/summerReplicated/training/UNET_256wetlandLES2025.tfrecord.gz is different from target path: /tmp/tmpe3whikq9/c51364d3-fc2f-4a51-8dc9-566f591b2c38/UNET_256wetlandLES2025.tfrecord.gz\nDownloaded path: /tmp/tmpe3whikq9/c51364d3-fc2f-4a51-8dc9-566f591b2c38/summerReplicated/training/UNET_256wetlandLES2030.tfrecord.gz is different from target path: /tmp/tmpe3whikq9/c51364d3-fc2f-4a51-8dc9-566f591b2c38/UNET_256wetlandLES2030.tfrecord.gz\nDownloaded path: /tmp/tmpe3whikq9/c51364d3-fc2f-4a51-8dc9-566f591b2c38/summerReplicated/training/UNET_256wetlandLES2035.tfrecord.gz is different from target path: /tmp/tmpe3whikq9/c51364d3-fc2f-4a51-8dc9-566f591b2c38/UNET_256wetlandLES2035.tfrecord.gz\nDownloaded path: /tmp/tmpe3whikq9/c51364d3-fc2f-4a51-8dc9-566f591b2c38/summerReplicated/training/UNET_256wetlandLES2040.tfrecord.gz is different from target path: /tmp/tmpe3whikq9/c51364d3-fc2f-4a51-8dc9-566f591b2c38/UNET_256wetlandLES2040.tfrecord.gz\nDownloaded path: /tmp/tmpe3whikq9/c51364d3-fc2f-4a51-8dc9-566f591b2c38/summerReplicated/training/UNET_256wetlandLES2045.tfrecord.gz is different from target path: /tmp/tmpe3whikq9/c51364d3-fc2f-4a51-8dc9-566f591b2c38/UNET_256wetlandLES2045.tfrecord.gz\nDownloaded path: /tmp/tmpe3whikq9/c51364d3-fc2f-4a51-8dc9-566f591b2c38/summerReplicated/training/UNET_256wetlandLES205.tfrecord.gz is different from target path: /tmp/tmpe3whikq9/c51364d3-fc2f-4a51-8dc9-566f591b2c38/UNET_256wetlandLES205.tfrecord.gz\nDownloaded path: /tmp/tmpe3whikq9/c51364d3-fc2f-4a51-8dc9-566f591b2c38/summerReplicated/training/UNET_256wetlandLES2050.tfrecord.gz is different from target path: /tmp/tmpe3whikq9/c51364d3-fc2f-4a51-8dc9-566f591b2c38/UNET_256wetlandLES2050.tfrecord.gz\nDownloaded path: /tmp/tmpe3whikq9/c51364d3-fc2f-4a51-8dc9-566f591b2c38/summerReplicated/training/UNET_256wetlandLES2055.tfrecord.gz is different from target path: /tmp/tmpe3whikq9/c51364d3-fc2f-4a51-8dc9-566f591b2c38/UNET_256wetlandLES2055.tfrecord.gz\nDownloaded path: /tmp/tmpe3whikq9/c51364d3-fc2f-4a51-8dc9-566f591b2c38/summerReplicated/training/UNET_256wetlandLES2060.tfrecord.gz is different from target path: /tmp/tmpe3whikq9/c51364d3-fc2f-4a51-8dc9-566f591b2c38/UNET_256wetlandLES2060.tfrecord.gz\nDownloaded path: /tmp/tmpe3whikq9/c51364d3-fc2f-4a51-8dc9-566f591b2c38/summerReplicated/training/UNET_256wetlandLES2065.tfrecord.gz is different from target path: /tmp/tmpe3whikq9/c51364d3-fc2f-4a51-8dc9-566f591b2c38/UNET_256wetlandLES2065.tfrecord.gz\nDownloaded path: /tmp/tmpe3whikq9/c51364d3-fc2f-4a51-8dc9-566f591b2c38/summerReplicated/training/UNET_256wetlandLES2070.tfrecord.gz is different from target path: /tmp/tmpe3whikq9/c51364d3-fc2f-4a51-8dc9-566f591b2c38/UNET_256wetlandLES2070.tfrecord.gz\nDownloaded path: /tmp/tmpe3whikq9/c51364d3-fc2f-4a51-8dc9-566f591b2c38/summerReplicated/training/UNET_256wetlandLES2075.tfrecord.gz is different from target path: /tmp/tmpe3whikq9/c51364d3-fc2f-4a51-8dc9-566f591b2c38/UNET_256wetlandLES2075.tfrecord.gz\nDownloaded path: /tmp/tmpe3whikq9/c51364d3-fc2f-4a51-8dc9-566f591b2c38/summerReplicated/training/UNET_256wetlandLES2080.tfrecord.gz is different from target path: /tmp/tmpe3whikq9/c51364d3-fc2f-4a51-8dc9-566f591b2c38/UNET_256wetlandLES2080.tfrecord.gz\nDownloaded path: /tmp/tmpe3whikq9/c51364d3-fc2f-4a51-8dc9-566f591b2c38/summerReplicated/training/UNET_256wetlandLES2085.tfrecord.gz is different from target path: /tmp/tmpe3whikq9/c51364d3-fc2f-4a51-8dc9-566f591b2c38/UNET_256wetlandLES2085.tfrecord.gz\nDownloaded path: /tmp/tmpe3whikq9/c51364d3-fc2f-4a51-8dc9-566f591b2c38/summerReplicated/training/UNET_256wetlandLES2090.tfrecord.gz is different from target path: /tmp/tmpe3whikq9/c51364d3-fc2f-4a51-8dc9-566f591b2c38/UNET_256wetlandLES2090.tfrecord.gz\nDownloaded path: /tmp/tmpe3whikq9/c51364d3-fc2f-4a51-8dc9-566f591b2c38/summerReplicated/training/UNET_256wetlandLES2095.tfrecord.gz is different from target path: /tmp/tmpe3whikq9/c51364d3-fc2f-4a51-8dc9-566f591b2c38/UNET_256wetlandLES2095.tfrecord.gz\nDownloaded path: /tmp/tmpe3whikq9/c51364d3-fc2f-4a51-8dc9-566f591b2c38/summerReplicated/training/UNET_256wetlandLES210.tfrecord.gz is different from target path: /tmp/tmpe3whikq9/c51364d3-fc2f-4a51-8dc9-566f591b2c38/UNET_256wetlandLES210.tfrecord.gz\nDownloaded path: /tmp/tmpe3whikq9/c51364d3-fc2f-4a51-8dc9-566f591b2c38/summerReplicated/training/UNET_256wetlandLES2100.tfrecord.gz is different from target path: /tmp/tmpe3whikq9/c51364d3-fc2f-4a51-8dc9-566f591b2c38/UNET_256wetlandLES2100.tfrecord.gz\nDownloaded path: /tmp/tmpe3whikq9/c51364d3-fc2f-4a51-8dc9-566f591b2c38/summerReplicated/training/UNET_256wetlandLES2105.tfrecord.gz is different from target path: /tmp/tmpe3whikq9/c51364d3-fc2f-4a51-8dc9-566f591b2c38/UNET_256wetlandLES2105.tfrecord.gz\nDownloaded path: /tmp/tmpe3whikq9/c51364d3-fc2f-4a51-8dc9-566f591b2c38/summerReplicated/training/UNET_256wetlandLES2110.tfrecord.gz is different from target path: /tmp/tmpe3whikq9/c51364d3-fc2f-4a51-8dc9-566f591b2c38/UNET_256wetlandLES2110.tfrecord.gz\nDownloaded path: /tmp/tmpe3whikq9/c51364d3-fc2f-4a51-8dc9-566f591b2c38/summerReplicated/training/UNET_256wetlandLES2115.tfrecord.gz is different from target path: /tmp/tmpe3whikq9/c51364d3-fc2f-4a51-8dc9-566f591b2c38/UNET_256wetlandLES2115.tfrecord.gz\nDownloaded path: /tmp/tmpe3whikq9/c51364d3-fc2f-4a51-8dc9-566f591b2c38/summerReplicated/training/UNET_256wetlandLES2120.tfrecord.gz is different from target path: /tmp/tmpe3whikq9/c51364d3-fc2f-4a51-8dc9-566f591b2c38/UNET_256wetlandLES2120.tfrecord.gz\nDownloaded path: /tmp/tmpe3whikq9/c51364d3-fc2f-4a51-8dc9-566f591b2c38/summerReplicated/training/UNET_256wetlandLES2125.tfrecord.gz is different from target path: /tmp/tmpe3whikq9/c51364d3-fc2f-4a51-8dc9-566f591b2c38/UNET_256wetlandLES2125.tfrecord.gz\nDownloaded path: /tmp/tmpe3whikq9/c51364d3-fc2f-4a51-8dc9-566f591b2c38/summerReplicated/training/UNET_256wetlandLES2130.tfrecord.gz is different from target path: /tmp/tmpe3whikq9/c51364d3-fc2f-4a51-8dc9-566f591b2c38/UNET_256wetlandLES2130.tfrecord.gz\nDownloaded path: /tmp/tmpe3whikq9/c51364d3-fc2f-4a51-8dc9-566f591b2c38/summerReplicated/training/UNET_256wetlandLES2135.tfrecord.gz is different from target path: /tmp/tmpe3whikq9/c51364d3-fc2f-4a51-8dc9-566f591b2c38/UNET_256wetlandLES2135.tfrecord.gz\nDownloaded path: /tmp/tmpe3whikq9/c51364d3-fc2f-4a51-8dc9-566f591b2c38/summerReplicated/training/UNET_256wetlandLES2140.tfrecord.gz is different from target path: /tmp/tmpe3whikq9/c51364d3-fc2f-4a51-8dc9-566f591b2c38/UNET_256wetlandLES2140.tfrecord.gz\nDownloaded path: /tmp/tmpe3whikq9/c51364d3-fc2f-4a51-8dc9-566f591b2c38/summerReplicated/training/UNET_256wetlandLES2145.tfrecord.gz is different from target path: /tmp/tmpe3whikq9/c51364d3-fc2f-4a51-8dc9-566f591b2c38/UNET_256wetlandLES2145.tfrecord.gz\nDownloaded path: /tmp/tmpe3whikq9/c51364d3-fc2f-4a51-8dc9-566f591b2c38/summerReplicated/training/UNET_256wetlandLES215.tfrecord.gz is different from target path: /tmp/tmpe3whikq9/c51364d3-fc2f-4a51-8dc9-566f591b2c38/UNET_256wetlandLES215.tfrecord.gz\nDownloaded path: /tmp/tmpe3whikq9/c51364d3-fc2f-4a51-8dc9-566f591b2c38/summerReplicated/training/UNET_256wetlandLES2150.tfrecord.gz is different from target path: /tmp/tmpe3whikq9/c51364d3-fc2f-4a51-8dc9-566f591b2c38/UNET_256wetlandLES2150.tfrecord.gz\nDownloaded path: /tmp/tmpe3whikq9/c51364d3-fc2f-4a51-8dc9-566f591b2c38/summerReplicated/training/UNET_256wetlandLES2155.tfrecord.gz is different from target path: /tmp/tmpe3whikq9/c51364d3-fc2f-4a51-8dc9-566f591b2c38/UNET_256wetlandLES2155.tfrecord.gz\nDownloaded path: /tmp/tmpe3whikq9/c51364d3-fc2f-4a51-8dc9-566f591b2c38/summerReplicated/training/UNET_256wetlandLES2160.tfrecord.gz is different from target path: /tmp/tmpe3whikq9/c51364d3-fc2f-4a51-8dc9-566f591b2c38/UNET_256wetlandLES2160.tfrecord.gz\nDownloaded path: /tmp/tmpe3whikq9/c51364d3-fc2f-4a51-8dc9-566f591b2c38/summerReplicated/training/UNET_256wetlandLES2165.tfrecord.gz is different from target path: /tmp/tmpe3whikq9/c51364d3-fc2f-4a51-8dc9-566f591b2c38/UNET_256wetlandLES2165.tfrecord.gz\nDownloaded path: /tmp/tmpe3whikq9/c51364d3-fc2f-4a51-8dc9-566f591b2c38/summerReplicated/training/UNET_256wetlandLES2170.tfrecord.gz is different from target path: /tmp/tmpe3whikq9/c51364d3-fc2f-4a51-8dc9-566f591b2c38/UNET_256wetlandLES2170.tfrecord.gz\nDownloaded path: /tmp/tmpe3whikq9/c51364d3-fc2f-4a51-8dc9-566f591b2c38/summerReplicated/training/UNET_256wetlandLES2175.tfrecord.gz is different from target path: /tmp/tmpe3whikq9/c51364d3-fc2f-4a51-8dc9-566f591b2c38/UNET_256wetlandLES2175.tfrecord.gz\nDownloaded path: /tmp/tmpe3whikq9/c51364d3-fc2f-4a51-8dc9-566f591b2c38/summerReplicated/training/UNET_256wetlandLES2180.tfrecord.gz is different from target path: /tmp/tmpe3whikq9/c51364d3-fc2f-4a51-8dc9-566f591b2c38/UNET_256wetlandLES2180.tfrecord.gz\nDownloaded path: /tmp/tmpe3whikq9/c51364d3-fc2f-4a51-8dc9-566f591b2c38/summerReplicated/training/UNET_256wetlandLES2185.tfrecord.gz is different from target path: /tmp/tmpe3whikq9/c51364d3-fc2f-4a51-8dc9-566f591b2c38/UNET_256wetlandLES2185.tfrecord.gz\nDownloaded path: /tmp/tmpe3whikq9/c51364d3-fc2f-4a51-8dc9-566f591b2c38/summerReplicated/training/UNET_256wetlandLES2190.tfrecord.gz is different from target path: /tmp/tmpe3whikq9/c51364d3-fc2f-4a51-8dc9-566f591b2c38/UNET_256wetlandLES2190.tfrecord.gz\nDownloaded path: /tmp/tmpe3whikq9/c51364d3-fc2f-4a51-8dc9-566f591b2c38/summerReplicated/training/UNET_256wetlandLES2195.tfrecord.gz is different from target path: /tmp/tmpe3whikq9/c51364d3-fc2f-4a51-8dc9-566f591b2c38/UNET_256wetlandLES2195.tfrecord.gz\nDownloaded path: /tmp/tmpe3whikq9/c51364d3-fc2f-4a51-8dc9-566f591b2c38/summerReplicated/training/UNET_256wetlandLES220.tfrecord.gz is different from target path: /tmp/tmpe3whikq9/c51364d3-fc2f-4a51-8dc9-566f591b2c38/UNET_256wetlandLES220.tfrecord.gz\nDownloaded path: /tmp/tmpe3whikq9/c51364d3-fc2f-4a51-8dc9-566f591b2c38/summerReplicated/training/UNET_256wetlandLES2200.tfrecord.gz is different from target path: /tmp/tmpe3whikq9/c51364d3-fc2f-4a51-8dc9-566f591b2c38/UNET_256wetlandLES2200.tfrecord.gz\nDownloaded path: /tmp/tmpe3whikq9/c51364d3-fc2f-4a51-8dc9-566f591b2c38/summerReplicated/training/UNET_256wetlandLES2205.tfrecord.gz is different from target path: /tmp/tmpe3whikq9/c51364d3-fc2f-4a51-8dc9-566f591b2c38/UNET_256wetlandLES2205.tfrecord.gz\nDownloaded path: /tmp/tmpe3whikq9/c51364d3-fc2f-4a51-8dc9-566f591b2c38/summerReplicated/training/UNET_256wetlandLES2210.tfrecord.gz is different from target path: /tmp/tmpe3whikq9/c51364d3-fc2f-4a51-8dc9-566f591b2c38/UNET_256wetlandLES2210.tfrecord.gz\nDownloaded path: /tmp/tmpe3whikq9/c51364d3-fc2f-4a51-8dc9-566f591b2c38/summerReplicated/training/UNET_256wetlandLES2215.tfrecord.gz is different from target path: /tmp/tmpe3whikq9/c51364d3-fc2f-4a51-8dc9-566f591b2c38/UNET_256wetlandLES2215.tfrecord.gz\nDownloaded path: /tmp/tmpe3whikq9/c51364d3-fc2f-4a51-8dc9-566f591b2c38/summerReplicated/training/UNET_256wetlandLES2220.tfrecord.gz is different from target path: /tmp/tmpe3whikq9/c51364d3-fc2f-4a51-8dc9-566f591b2c38/UNET_256wetlandLES2220.tfrecord.gz\nDownloaded path: /tmp/tmpe3whikq9/c51364d3-fc2f-4a51-8dc9-566f591b2c38/summerReplicated/training/UNET_256wetlandLES2225.tfrecord.gz is different from target path: /tmp/tmpe3whikq9/c51364d3-fc2f-4a51-8dc9-566f591b2c38/UNET_256wetlandLES2225.tfrecord.gz\nDownloaded path: /tmp/tmpe3whikq9/c51364d3-fc2f-4a51-8dc9-566f591b2c38/summerReplicated/training/UNET_256wetlandLES2230.tfrecord.gz is different from target path: /tmp/tmpe3whikq9/c51364d3-fc2f-4a51-8dc9-566f591b2c38/UNET_256wetlandLES2230.tfrecord.gz\nDownloaded path: /tmp/tmpe3whikq9/c51364d3-fc2f-4a51-8dc9-566f591b2c38/summerReplicated/training/UNET_256wetlandLES2235.tfrecord.gz is different from target path: /tmp/tmpe3whikq9/c51364d3-fc2f-4a51-8dc9-566f591b2c38/UNET_256wetlandLES2235.tfrecord.gz\nDownloaded path: /tmp/tmpe3whikq9/c51364d3-fc2f-4a51-8dc9-566f591b2c38/summerReplicated/training/UNET_256wetlandLES2240.tfrecord.gz is different from target path: /tmp/tmpe3whikq9/c51364d3-fc2f-4a51-8dc9-566f591b2c38/UNET_256wetlandLES2240.tfrecord.gz\nDownloaded path: /tmp/tmpe3whikq9/c51364d3-fc2f-4a51-8dc9-566f591b2c38/summerReplicated/training/UNET_256wetlandLES2245.tfrecord.gz is different from target path: /tmp/tmpe3whikq9/c51364d3-fc2f-4a51-8dc9-566f591b2c38/UNET_256wetlandLES2245.tfrecord.gz\nDownloaded path: /tmp/tmpe3whikq9/c51364d3-fc2f-4a51-8dc9-566f591b2c38/summerReplicated/training/UNET_256wetlandLES225.tfrecord.gz is different from target path: /tmp/tmpe3whikq9/c51364d3-fc2f-4a51-8dc9-566f591b2c38/UNET_256wetlandLES225.tfrecord.gz\nDownloaded path: /tmp/tmpe3whikq9/c51364d3-fc2f-4a51-8dc9-566f591b2c38/summerReplicated/training/UNET_256wetlandLES2250.tfrecord.gz is different from target path: /tmp/tmpe3whikq9/c51364d3-fc2f-4a51-8dc9-566f591b2c38/UNET_256wetlandLES2250.tfrecord.gz\nDownloaded path: /tmp/tmpe3whikq9/c51364d3-fc2f-4a51-8dc9-566f591b2c38/summerReplicated/training/UNET_256wetlandLES2255.tfrecord.gz is different from target path: /tmp/tmpe3whikq9/c51364d3-fc2f-4a51-8dc9-566f591b2c38/UNET_256wetlandLES2255.tfrecord.gz\nDownloaded path: /tmp/tmpe3whikq9/c51364d3-fc2f-4a51-8dc9-566f591b2c38/summerReplicated/training/UNET_256wetlandLES2260.tfrecord.gz is different from target path: /tmp/tmpe3whikq9/c51364d3-fc2f-4a51-8dc9-566f591b2c38/UNET_256wetlandLES2260.tfrecord.gz\nDownloaded path: /tmp/tmpe3whikq9/c51364d3-fc2f-4a51-8dc9-566f591b2c38/summerReplicated/training/UNET_256wetlandLES2265.tfrecord.gz is different from target path: /tmp/tmpe3whikq9/c51364d3-fc2f-4a51-8dc9-566f591b2c38/UNET_256wetlandLES2265.tfrecord.gz\nDownloaded path: /tmp/tmpe3whikq9/c51364d3-fc2f-4a51-8dc9-566f591b2c38/summerReplicated/training/UNET_256wetlandLES2270.tfrecord.gz is different from target path: /tmp/tmpe3whikq9/c51364d3-fc2f-4a51-8dc9-566f591b2c38/UNET_256wetlandLES2270.tfrecord.gz\nDownloaded path: /tmp/tmpe3whikq9/c51364d3-fc2f-4a51-8dc9-566f591b2c38/summerReplicated/training/UNET_256wetlandLES2275.tfrecord.gz is different from target path: /tmp/tmpe3whikq9/c51364d3-fc2f-4a51-8dc9-566f591b2c38/UNET_256wetlandLES2275.tfrecord.gz\nDownloaded path: /tmp/tmpe3whikq9/c51364d3-fc2f-4a51-8dc9-566f591b2c38/summerReplicated/training/UNET_256wetlandLES2280.tfrecord.gz is different from target path: /tmp/tmpe3whikq9/c51364d3-fc2f-4a51-8dc9-566f591b2c38/UNET_256wetlandLES2280.tfrecord.gz\nDownloaded path: /tmp/tmpe3whikq9/c51364d3-fc2f-4a51-8dc9-566f591b2c38/summerReplicated/training/UNET_256wetlandLES2285.tfrecord.gz is different from target path: /tmp/tmpe3whikq9/c51364d3-fc2f-4a51-8dc9-566f591b2c38/UNET_256wetlandLES2285.tfrecord.gz\nDownloaded path: /tmp/tmpe3whikq9/c51364d3-fc2f-4a51-8dc9-566f591b2c38/summerReplicated/training/UNET_256wetlandLES2290.tfrecord.gz is different from target path: /tmp/tmpe3whikq9/c51364d3-fc2f-4a51-8dc9-566f591b2c38/UNET_256wetlandLES2290.tfrecord.gz\nDownloaded path: /tmp/tmpe3whikq9/c51364d3-fc2f-4a51-8dc9-566f591b2c38/summerReplicated/training/UNET_256wetlandLES2295.tfrecord.gz is different from target path: /tmp/tmpe3whikq9/c51364d3-fc2f-4a51-8dc9-566f591b2c38/UNET_256wetlandLES2295.tfrecord.gz\nDownloaded path: /tmp/tmpe3whikq9/c51364d3-fc2f-4a51-8dc9-566f591b2c38/summerReplicated/training/UNET_256wetlandLES230.tfrecord.gz is different from target path: /tmp/tmpe3whikq9/c51364d3-fc2f-4a51-8dc9-566f591b2c38/UNET_256wetlandLES230.tfrecord.gz\nDownloaded path: /tmp/tmpe3whikq9/c51364d3-fc2f-4a51-8dc9-566f591b2c38/summerReplicated/training/UNET_256wetlandLES2300.tfrecord.gz is different from target path: /tmp/tmpe3whikq9/c51364d3-fc2f-4a51-8dc9-566f591b2c38/UNET_256wetlandLES2300.tfrecord.gz\nDownloaded path: /tmp/tmpe3whikq9/c51364d3-fc2f-4a51-8dc9-566f591b2c38/summerReplicated/training/UNET_256wetlandLES2305.tfrecord.gz is different from target path: /tmp/tmpe3whikq9/c51364d3-fc2f-4a51-8dc9-566f591b2c38/UNET_256wetlandLES2305.tfrecord.gz\nDownloaded path: /tmp/tmpe3whikq9/c51364d3-fc2f-4a51-8dc9-566f591b2c38/summerReplicated/training/UNET_256wetlandLES2310.tfrecord.gz is different from target path: /tmp/tmpe3whikq9/c51364d3-fc2f-4a51-8dc9-566f591b2c38/UNET_256wetlandLES2310.tfrecord.gz\nDownloaded path: /tmp/tmpe3whikq9/c51364d3-fc2f-4a51-8dc9-566f591b2c38/summerReplicated/training/UNET_256wetlandLES2315.tfrecord.gz is different from target path: /tmp/tmpe3whikq9/c51364d3-fc2f-4a51-8dc9-566f591b2c38/UNET_256wetlandLES2315.tfrecord.gz\nDownloaded path: /tmp/tmpe3whikq9/c51364d3-fc2f-4a51-8dc9-566f591b2c38/summerReplicated/training/UNET_256wetlandLES2320.tfrecord.gz is different from target path: /tmp/tmpe3whikq9/c51364d3-fc2f-4a51-8dc9-566f591b2c38/UNET_256wetlandLES2320.tfrecord.gz\nDownloaded path: /tmp/tmpe3whikq9/c51364d3-fc2f-4a51-8dc9-566f591b2c38/summerReplicated/training/UNET_256wetlandLES2325.tfrecord.gz is different from target path: /tmp/tmpe3whikq9/c51364d3-fc2f-4a51-8dc9-566f591b2c38/UNET_256wetlandLES2325.tfrecord.gz\nDownloaded path: /tmp/tmpe3whikq9/c51364d3-fc2f-4a51-8dc9-566f591b2c38/summerReplicated/training/UNET_256wetlandLES2330.tfrecord.gz is different from target path: /tmp/tmpe3whikq9/c51364d3-fc2f-4a51-8dc9-566f591b2c38/UNET_256wetlandLES2330.tfrecord.gz\nDownloaded path: /tmp/tmpe3whikq9/c51364d3-fc2f-4a51-8dc9-566f591b2c38/summerReplicated/training/UNET_256wetlandLES2335.tfrecord.gz is different from target path: /tmp/tmpe3whikq9/c51364d3-fc2f-4a51-8dc9-566f591b2c38/UNET_256wetlandLES2335.tfrecord.gz\nDownloaded path: /tmp/tmpe3whikq9/c51364d3-fc2f-4a51-8dc9-566f591b2c38/summerReplicated/training/UNET_256wetlandLES2340.tfrecord.gz is different from target path: /tmp/tmpe3whikq9/c51364d3-fc2f-4a51-8dc9-566f591b2c38/UNET_256wetlandLES2340.tfrecord.gz\nDownloaded path: /tmp/tmpe3whikq9/c51364d3-fc2f-4a51-8dc9-566f591b2c38/summerReplicated/training/UNET_256wetlandLES2345.tfrecord.gz is different from target path: /tmp/tmpe3whikq9/c51364d3-fc2f-4a51-8dc9-566f591b2c38/UNET_256wetlandLES2345.tfrecord.gz\nDownloaded path: /tmp/tmpe3whikq9/c51364d3-fc2f-4a51-8dc9-566f591b2c38/summerReplicated/training/UNET_256wetlandLES235.tfrecord.gz is different from target path: /tmp/tmpe3whikq9/c51364d3-fc2f-4a51-8dc9-566f591b2c38/UNET_256wetlandLES235.tfrecord.gz\nDownloaded path: /tmp/tmpe3whikq9/c51364d3-fc2f-4a51-8dc9-566f591b2c38/summerReplicated/training/UNET_256wetlandLES2350.tfrecord.gz is different from target path: /tmp/tmpe3whikq9/c51364d3-fc2f-4a51-8dc9-566f591b2c38/UNET_256wetlandLES2350.tfrecord.gz\nDownloaded path: /tmp/tmpe3whikq9/c51364d3-fc2f-4a51-8dc9-566f591b2c38/summerReplicated/training/UNET_256wetlandLES2355.tfrecord.gz is different from target path: /tmp/tmpe3whikq9/c51364d3-fc2f-4a51-8dc9-566f591b2c38/UNET_256wetlandLES2355.tfrecord.gz\nDownloaded path: /tmp/tmpe3whikq9/c51364d3-fc2f-4a51-8dc9-566f591b2c38/summerReplicated/training/UNET_256wetlandLES2360.tfrecord.gz is different from target path: /tmp/tmpe3whikq9/c51364d3-fc2f-4a51-8dc9-566f591b2c38/UNET_256wetlandLES2360.tfrecord.gz\nDownloaded path: /tmp/tmpe3whikq9/c51364d3-fc2f-4a51-8dc9-566f591b2c38/summerReplicated/training/UNET_256wetlandLES2365.tfrecord.gz is different from target path: /tmp/tmpe3whikq9/c51364d3-fc2f-4a51-8dc9-566f591b2c38/UNET_256wetlandLES2365.tfrecord.gz\nDownloaded path: /tmp/tmpe3whikq9/c51364d3-fc2f-4a51-8dc9-566f591b2c38/summerReplicated/training/UNET_256wetlandLES2370.tfrecord.gz is different from target path: /tmp/tmpe3whikq9/c51364d3-fc2f-4a51-8dc9-566f591b2c38/UNET_256wetlandLES2370.tfrecord.gz\nDownloaded path: /tmp/tmpe3whikq9/c51364d3-fc2f-4a51-8dc9-566f591b2c38/summerReplicated/training/UNET_256wetlandLES2375.tfrecord.gz is different from target path: /tmp/tmpe3whikq9/c51364d3-fc2f-4a51-8dc9-566f591b2c38/UNET_256wetlandLES2375.tfrecord.gz\nDownloaded path: /tmp/tmpe3whikq9/c51364d3-fc2f-4a51-8dc9-566f591b2c38/summerReplicated/training/UNET_256wetlandLES2380.tfrecord.gz is different from target path: /tmp/tmpe3whikq9/c51364d3-fc2f-4a51-8dc9-566f591b2c38/UNET_256wetlandLES2380.tfrecord.gz\nDownloaded path: /tmp/tmpe3whikq9/c51364d3-fc2f-4a51-8dc9-566f591b2c38/summerReplicated/training/UNET_256wetlandLES2385.tfrecord.gz is different from target path: /tmp/tmpe3whikq9/c51364d3-fc2f-4a51-8dc9-566f591b2c38/UNET_256wetlandLES2385.tfrecord.gz\nDownloaded path: /tmp/tmpe3whikq9/c51364d3-fc2f-4a51-8dc9-566f591b2c38/summerReplicated/training/UNET_256wetlandLES2390.tfrecord.gz is different from target path: /tmp/tmpe3whikq9/c51364d3-fc2f-4a51-8dc9-566f591b2c38/UNET_256wetlandLES2390.tfrecord.gz\nDownloaded path: /tmp/tmpe3whikq9/c51364d3-fc2f-4a51-8dc9-566f591b2c38/summerReplicated/training/UNET_256wetlandLES2395.tfrecord.gz is different from target path: /tmp/tmpe3whikq9/c51364d3-fc2f-4a51-8dc9-566f591b2c38/UNET_256wetlandLES2395.tfrecord.gz\nDownloaded path: /tmp/tmpe3whikq9/c51364d3-fc2f-4a51-8dc9-566f591b2c38/summerReplicated/training/UNET_256wetlandLES240.tfrecord.gz is different from target path: /tmp/tmpe3whikq9/c51364d3-fc2f-4a51-8dc9-566f591b2c38/UNET_256wetlandLES240.tfrecord.gz\nDownloaded path: /tmp/tmpe3whikq9/c51364d3-fc2f-4a51-8dc9-566f591b2c38/summerReplicated/training/UNET_256wetlandLES2400.tfrecord.gz is different from target path: /tmp/tmpe3whikq9/c51364d3-fc2f-4a51-8dc9-566f591b2c38/UNET_256wetlandLES2400.tfrecord.gz\nDownloaded path: /tmp/tmpe3whikq9/c51364d3-fc2f-4a51-8dc9-566f591b2c38/summerReplicated/training/UNET_256wetlandLES2405.tfrecord.gz is different from target path: /tmp/tmpe3whikq9/c51364d3-fc2f-4a51-8dc9-566f591b2c38/UNET_256wetlandLES2405.tfrecord.gz\nDownloaded path: /tmp/tmpe3whikq9/c51364d3-fc2f-4a51-8dc9-566f591b2c38/summerReplicated/training/UNET_256wetlandLES2410.tfrecord.gz is different from target path: /tmp/tmpe3whikq9/c51364d3-fc2f-4a51-8dc9-566f591b2c38/UNET_256wetlandLES2410.tfrecord.gz\nDownloaded path: /tmp/tmpe3whikq9/c51364d3-fc2f-4a51-8dc9-566f591b2c38/summerReplicated/training/UNET_256wetlandLES2415.tfrecord.gz is different from target path: /tmp/tmpe3whikq9/c51364d3-fc2f-4a51-8dc9-566f591b2c38/UNET_256wetlandLES2415.tfrecord.gz\nDownloaded path: /tmp/tmpe3whikq9/c51364d3-fc2f-4a51-8dc9-566f591b2c38/summerReplicated/training/UNET_256wetlandLES2420.tfrecord.gz is different from target path: /tmp/tmpe3whikq9/c51364d3-fc2f-4a51-8dc9-566f591b2c38/UNET_256wetlandLES2420.tfrecord.gz\nDownloaded path: /tmp/tmpe3whikq9/c51364d3-fc2f-4a51-8dc9-566f591b2c38/summerReplicated/training/UNET_256wetlandLES2425.tfrecord.gz is different from target path: /tmp/tmpe3whikq9/c51364d3-fc2f-4a51-8dc9-566f591b2c38/UNET_256wetlandLES2425.tfrecord.gz\nDownloaded path: /tmp/tmpe3whikq9/c51364d3-fc2f-4a51-8dc9-566f591b2c38/summerReplicated/training/UNET_256wetlandLES2430.tfrecord.gz is different from target path: /tmp/tmpe3whikq9/c51364d3-fc2f-4a51-8dc9-566f591b2c38/UNET_256wetlandLES2430.tfrecord.gz\nDownloaded path: /tmp/tmpe3whikq9/c51364d3-fc2f-4a51-8dc9-566f591b2c38/summerReplicated/training/UNET_256wetlandLES2435.tfrecord.gz is different from target path: /tmp/tmpe3whikq9/c51364d3-fc2f-4a51-8dc9-566f591b2c38/UNET_256wetlandLES2435.tfrecord.gz\nDownloaded path: /tmp/tmpe3whikq9/c51364d3-fc2f-4a51-8dc9-566f591b2c38/summerReplicated/training/UNET_256wetlandLES2440.tfrecord.gz is different from target path: /tmp/tmpe3whikq9/c51364d3-fc2f-4a51-8dc9-566f591b2c38/UNET_256wetlandLES2440.tfrecord.gz\nDownloaded path: /tmp/tmpe3whikq9/c51364d3-fc2f-4a51-8dc9-566f591b2c38/summerReplicated/training/UNET_256wetlandLES2445.tfrecord.gz is different from target path: /tmp/tmpe3whikq9/c51364d3-fc2f-4a51-8dc9-566f591b2c38/UNET_256wetlandLES2445.tfrecord.gz\nDownloaded path: /tmp/tmpe3whikq9/c51364d3-fc2f-4a51-8dc9-566f591b2c38/summerReplicated/training/UNET_256wetlandLES245.tfrecord.gz is different from target path: /tmp/tmpe3whikq9/c51364d3-fc2f-4a51-8dc9-566f591b2c38/UNET_256wetlandLES245.tfrecord.gz\nDownloaded path: /tmp/tmpe3whikq9/c51364d3-fc2f-4a51-8dc9-566f591b2c38/summerReplicated/training/UNET_256wetlandLES2450.tfrecord.gz is different from target path: /tmp/tmpe3whikq9/c51364d3-fc2f-4a51-8dc9-566f591b2c38/UNET_256wetlandLES2450.tfrecord.gz\nDownloaded path: /tmp/tmpe3whikq9/c51364d3-fc2f-4a51-8dc9-566f591b2c38/summerReplicated/training/UNET_256wetlandLES2455.tfrecord.gz is different from target path: /tmp/tmpe3whikq9/c51364d3-fc2f-4a51-8dc9-566f591b2c38/UNET_256wetlandLES2455.tfrecord.gz\nDownloaded path: /tmp/tmpe3whikq9/c51364d3-fc2f-4a51-8dc9-566f591b2c38/summerReplicated/training/UNET_256wetlandLES2460.tfrecord.gz is different from target path: /tmp/tmpe3whikq9/c51364d3-fc2f-4a51-8dc9-566f591b2c38/UNET_256wetlandLES2460.tfrecord.gz\nDownloaded path: /tmp/tmpe3whikq9/c51364d3-fc2f-4a51-8dc9-566f591b2c38/summerReplicated/training/UNET_256wetlandLES2465.tfrecord.gz is different from target path: /tmp/tmpe3whikq9/c51364d3-fc2f-4a51-8dc9-566f591b2c38/UNET_256wetlandLES2465.tfrecord.gz\nDownloaded path: /tmp/tmpe3whikq9/c51364d3-fc2f-4a51-8dc9-566f591b2c38/summerReplicated/training/UNET_256wetlandLES2470.tfrecord.gz is different from target path: /tmp/tmpe3whikq9/c51364d3-fc2f-4a51-8dc9-566f591b2c38/UNET_256wetlandLES2470.tfrecord.gz\nDownloaded path: /tmp/tmpe3whikq9/c51364d3-fc2f-4a51-8dc9-566f591b2c38/summerReplicated/training/UNET_256wetlandLES2475.tfrecord.gz is different from target path: /tmp/tmpe3whikq9/c51364d3-fc2f-4a51-8dc9-566f591b2c38/UNET_256wetlandLES2475.tfrecord.gz\nDownloaded path: /tmp/tmpe3whikq9/c51364d3-fc2f-4a51-8dc9-566f591b2c38/summerReplicated/training/UNET_256wetlandLES2480.tfrecord.gz is different from target path: /tmp/tmpe3whikq9/c51364d3-fc2f-4a51-8dc9-566f591b2c38/UNET_256wetlandLES2480.tfrecord.gz\nDownloaded path: /tmp/tmpe3whikq9/c51364d3-fc2f-4a51-8dc9-566f591b2c38/summerReplicated/training/UNET_256wetlandLES2485.tfrecord.gz is different from target path: /tmp/tmpe3whikq9/c51364d3-fc2f-4a51-8dc9-566f591b2c38/UNET_256wetlandLES2485.tfrecord.gz\nDownloaded path: /tmp/tmpe3whikq9/c51364d3-fc2f-4a51-8dc9-566f591b2c38/summerReplicated/training/UNET_256wetlandLES2490.tfrecord.gz is different from target path: /tmp/tmpe3whikq9/c51364d3-fc2f-4a51-8dc9-566f591b2c38/UNET_256wetlandLES2490.tfrecord.gz\nDownloaded path: /tmp/tmpe3whikq9/c51364d3-fc2f-4a51-8dc9-566f591b2c38/summerReplicated/training/UNET_256wetlandLES2495.tfrecord.gz is different from target path: /tmp/tmpe3whikq9/c51364d3-fc2f-4a51-8dc9-566f591b2c38/UNET_256wetlandLES2495.tfrecord.gz\nDownloaded path: /tmp/tmpe3whikq9/c51364d3-fc2f-4a51-8dc9-566f591b2c38/summerReplicated/training/UNET_256wetlandLES25.tfrecord.gz is different from target path: /tmp/tmpe3whikq9/c51364d3-fc2f-4a51-8dc9-566f591b2c38/UNET_256wetlandLES25.tfrecord.gz\nDownloaded path: /tmp/tmpe3whikq9/c51364d3-fc2f-4a51-8dc9-566f591b2c38/summerReplicated/training/UNET_256wetlandLES250.tfrecord.gz is different from target path: /tmp/tmpe3whikq9/c51364d3-fc2f-4a51-8dc9-566f591b2c38/UNET_256wetlandLES250.tfrecord.gz\nDownloaded path: /tmp/tmpe3whikq9/c51364d3-fc2f-4a51-8dc9-566f591b2c38/summerReplicated/training/UNET_256wetlandLES2500.tfrecord.gz is different from target path: /tmp/tmpe3whikq9/c51364d3-fc2f-4a51-8dc9-566f591b2c38/UNET_256wetlandLES2500.tfrecord.gz\nDownloaded path: /tmp/tmpe3whikq9/c51364d3-fc2f-4a51-8dc9-566f591b2c38/summerReplicated/training/UNET_256wetlandLES2505.tfrecord.gz is different from target path: /tmp/tmpe3whikq9/c51364d3-fc2f-4a51-8dc9-566f591b2c38/UNET_256wetlandLES2505.tfrecord.gz\nDownloaded path: /tmp/tmpe3whikq9/c51364d3-fc2f-4a51-8dc9-566f591b2c38/summerReplicated/training/UNET_256wetlandLES2510.tfrecord.gz is different from target path: /tmp/tmpe3whikq9/c51364d3-fc2f-4a51-8dc9-566f591b2c38/UNET_256wetlandLES2510.tfrecord.gz\nDownloaded path: /tmp/tmpe3whikq9/c51364d3-fc2f-4a51-8dc9-566f591b2c38/summerReplicated/training/UNET_256wetlandLES2515.tfrecord.gz is different from target path: /tmp/tmpe3whikq9/c51364d3-fc2f-4a51-8dc9-566f591b2c38/UNET_256wetlandLES2515.tfrecord.gz\nDownloaded path: /tmp/tmpe3whikq9/c51364d3-fc2f-4a51-8dc9-566f591b2c38/summerReplicated/training/UNET_256wetlandLES2520.tfrecord.gz is different from target path: /tmp/tmpe3whikq9/c51364d3-fc2f-4a51-8dc9-566f591b2c38/UNET_256wetlandLES2520.tfrecord.gz\nDownloaded path: /tmp/tmpe3whikq9/c51364d3-fc2f-4a51-8dc9-566f591b2c38/summerReplicated/training/UNET_256wetlandLES2525.tfrecord.gz is different from target path: /tmp/tmpe3whikq9/c51364d3-fc2f-4a51-8dc9-566f591b2c38/UNET_256wetlandLES2525.tfrecord.gz\nDownloaded path: /tmp/tmpe3whikq9/c51364d3-fc2f-4a51-8dc9-566f591b2c38/summerReplicated/training/UNET_256wetlandLES2530.tfrecord.gz is different from target path: /tmp/tmpe3whikq9/c51364d3-fc2f-4a51-8dc9-566f591b2c38/UNET_256wetlandLES2530.tfrecord.gz\nDownloaded path: /tmp/tmpe3whikq9/c51364d3-fc2f-4a51-8dc9-566f591b2c38/summerReplicated/training/UNET_256wetlandLES2535.tfrecord.gz is different from target path: /tmp/tmpe3whikq9/c51364d3-fc2f-4a51-8dc9-566f591b2c38/UNET_256wetlandLES2535.tfrecord.gz\nDownloaded path: /tmp/tmpe3whikq9/c51364d3-fc2f-4a51-8dc9-566f591b2c38/summerReplicated/training/UNET_256wetlandLES2540.tfrecord.gz is different from target path: /tmp/tmpe3whikq9/c51364d3-fc2f-4a51-8dc9-566f591b2c38/UNET_256wetlandLES2540.tfrecord.gz\nDownloaded path: /tmp/tmpe3whikq9/c51364d3-fc2f-4a51-8dc9-566f591b2c38/summerReplicated/training/UNET_256wetlandLES2545.tfrecord.gz is different from target path: /tmp/tmpe3whikq9/c51364d3-fc2f-4a51-8dc9-566f591b2c38/UNET_256wetlandLES2545.tfrecord.gz\nDownloaded path: /tmp/tmpe3whikq9/c51364d3-fc2f-4a51-8dc9-566f591b2c38/summerReplicated/training/UNET_256wetlandLES255.tfrecord.gz is different from target path: /tmp/tmpe3whikq9/c51364d3-fc2f-4a51-8dc9-566f591b2c38/UNET_256wetlandLES255.tfrecord.gz\nDownloaded path: /tmp/tmpe3whikq9/c51364d3-fc2f-4a51-8dc9-566f591b2c38/summerReplicated/training/UNET_256wetlandLES2550.tfrecord.gz is different from target path: /tmp/tmpe3whikq9/c51364d3-fc2f-4a51-8dc9-566f591b2c38/UNET_256wetlandLES2550.tfrecord.gz\nDownloaded path: /tmp/tmpe3whikq9/c51364d3-fc2f-4a51-8dc9-566f591b2c38/summerReplicated/training/UNET_256wetlandLES2555.tfrecord.gz is different from target path: /tmp/tmpe3whikq9/c51364d3-fc2f-4a51-8dc9-566f591b2c38/UNET_256wetlandLES2555.tfrecord.gz\nDownloaded path: /tmp/tmpe3whikq9/c51364d3-fc2f-4a51-8dc9-566f591b2c38/summerReplicated/training/UNET_256wetlandLES2560.tfrecord.gz is different from target path: /tmp/tmpe3whikq9/c51364d3-fc2f-4a51-8dc9-566f591b2c38/UNET_256wetlandLES2560.tfrecord.gz\nDownloaded path: /tmp/tmpe3whikq9/c51364d3-fc2f-4a51-8dc9-566f591b2c38/summerReplicated/training/UNET_256wetlandLES2565.tfrecord.gz is different from target path: /tmp/tmpe3whikq9/c51364d3-fc2f-4a51-8dc9-566f591b2c38/UNET_256wetlandLES2565.tfrecord.gz\nDownloaded path: /tmp/tmpe3whikq9/c51364d3-fc2f-4a51-8dc9-566f591b2c38/summerReplicated/training/UNET_256wetlandLES2570.tfrecord.gz is different from target path: /tmp/tmpe3whikq9/c51364d3-fc2f-4a51-8dc9-566f591b2c38/UNET_256wetlandLES2570.tfrecord.gz\nDownloaded path: /tmp/tmpe3whikq9/c51364d3-fc2f-4a51-8dc9-566f591b2c38/summerReplicated/training/UNET_256wetlandLES2575.tfrecord.gz is different from target path: /tmp/tmpe3whikq9/c51364d3-fc2f-4a51-8dc9-566f591b2c38/UNET_256wetlandLES2575.tfrecord.gz\nDownloaded path: /tmp/tmpe3whikq9/c51364d3-fc2f-4a51-8dc9-566f591b2c38/summerReplicated/training/UNET_256wetlandLES2580.tfrecord.gz is different from target path: /tmp/tmpe3whikq9/c51364d3-fc2f-4a51-8dc9-566f591b2c38/UNET_256wetlandLES2580.tfrecord.gz\nDownloaded path: /tmp/tmpe3whikq9/c51364d3-fc2f-4a51-8dc9-566f591b2c38/summerReplicated/training/UNET_256wetlandLES2585.tfrecord.gz is different from target path: /tmp/tmpe3whikq9/c51364d3-fc2f-4a51-8dc9-566f591b2c38/UNET_256wetlandLES2585.tfrecord.gz\nDownloaded path: /tmp/tmpe3whikq9/c51364d3-fc2f-4a51-8dc9-566f591b2c38/summerReplicated/training/UNET_256wetlandLES2590.tfrecord.gz is different from target path: /tmp/tmpe3whikq9/c51364d3-fc2f-4a51-8dc9-566f591b2c38/UNET_256wetlandLES2590.tfrecord.gz\nDownloaded path: /tmp/tmpe3whikq9/c51364d3-fc2f-4a51-8dc9-566f591b2c38/summerReplicated/training/UNET_256wetlandLES2595.tfrecord.gz is different from target path: /tmp/tmpe3whikq9/c51364d3-fc2f-4a51-8dc9-566f591b2c38/UNET_256wetlandLES2595.tfrecord.gz\nDownloaded path: /tmp/tmpe3whikq9/c51364d3-fc2f-4a51-8dc9-566f591b2c38/summerReplicated/training/UNET_256wetlandLES260.tfrecord.gz is different from target path: /tmp/tmpe3whikq9/c51364d3-fc2f-4a51-8dc9-566f591b2c38/UNET_256wetlandLES260.tfrecord.gz\nDownloaded path: /tmp/tmpe3whikq9/c51364d3-fc2f-4a51-8dc9-566f591b2c38/summerReplicated/training/UNET_256wetlandLES2600.tfrecord.gz is different from target path: /tmp/tmpe3whikq9/c51364d3-fc2f-4a51-8dc9-566f591b2c38/UNET_256wetlandLES2600.tfrecord.gz\nDownloaded path: /tmp/tmpe3whikq9/c51364d3-fc2f-4a51-8dc9-566f591b2c38/summerReplicated/training/UNET_256wetlandLES2605.tfrecord.gz is different from target path: /tmp/tmpe3whikq9/c51364d3-fc2f-4a51-8dc9-566f591b2c38/UNET_256wetlandLES2605.tfrecord.gz\nDownloaded path: /tmp/tmpe3whikq9/c51364d3-fc2f-4a51-8dc9-566f591b2c38/summerReplicated/training/UNET_256wetlandLES2610.tfrecord.gz is different from target path: /tmp/tmpe3whikq9/c51364d3-fc2f-4a51-8dc9-566f591b2c38/UNET_256wetlandLES2610.tfrecord.gz\nDownloaded path: /tmp/tmpe3whikq9/c51364d3-fc2f-4a51-8dc9-566f591b2c38/summerReplicated/training/UNET_256wetlandLES2615.tfrecord.gz is different from target path: /tmp/tmpe3whikq9/c51364d3-fc2f-4a51-8dc9-566f591b2c38/UNET_256wetlandLES2615.tfrecord.gz\nDownloaded path: /tmp/tmpe3whikq9/c51364d3-fc2f-4a51-8dc9-566f591b2c38/summerReplicated/training/UNET_256wetlandLES2620.tfrecord.gz is different from target path: /tmp/tmpe3whikq9/c51364d3-fc2f-4a51-8dc9-566f591b2c38/UNET_256wetlandLES2620.tfrecord.gz\nDownloaded path: /tmp/tmpe3whikq9/c51364d3-fc2f-4a51-8dc9-566f591b2c38/summerReplicated/training/UNET_256wetlandLES2625.tfrecord.gz is different from target path: /tmp/tmpe3whikq9/c51364d3-fc2f-4a51-8dc9-566f591b2c38/UNET_256wetlandLES2625.tfrecord.gz\nDownloaded path: /tmp/tmpe3whikq9/c51364d3-fc2f-4a51-8dc9-566f591b2c38/summerReplicated/training/UNET_256wetlandLES265.tfrecord.gz is different from target path: /tmp/tmpe3whikq9/c51364d3-fc2f-4a51-8dc9-566f591b2c38/UNET_256wetlandLES265.tfrecord.gz\nDownloaded path: /tmp/tmpe3whikq9/c51364d3-fc2f-4a51-8dc9-566f591b2c38/summerReplicated/training/UNET_256wetlandLES270.tfrecord.gz is different from target path: /tmp/tmpe3whikq9/c51364d3-fc2f-4a51-8dc9-566f591b2c38/UNET_256wetlandLES270.tfrecord.gz\nDownloaded path: /tmp/tmpe3whikq9/c51364d3-fc2f-4a51-8dc9-566f591b2c38/summerReplicated/training/UNET_256wetlandLES275.tfrecord.gz is different from target path: /tmp/tmpe3whikq9/c51364d3-fc2f-4a51-8dc9-566f591b2c38/UNET_256wetlandLES275.tfrecord.gz\nDownloaded path: /tmp/tmpe3whikq9/c51364d3-fc2f-4a51-8dc9-566f591b2c38/summerReplicated/training/UNET_256wetlandLES280.tfrecord.gz is different from target path: /tmp/tmpe3whikq9/c51364d3-fc2f-4a51-8dc9-566f591b2c38/UNET_256wetlandLES280.tfrecord.gz\nDownloaded path: /tmp/tmpe3whikq9/c51364d3-fc2f-4a51-8dc9-566f591b2c38/summerReplicated/training/UNET_256wetlandLES285.tfrecord.gz is different from target path: /tmp/tmpe3whikq9/c51364d3-fc2f-4a51-8dc9-566f591b2c38/UNET_256wetlandLES285.tfrecord.gz\nDownloaded path: /tmp/tmpe3whikq9/c51364d3-fc2f-4a51-8dc9-566f591b2c38/summerReplicated/training/UNET_256wetlandLES290.tfrecord.gz is different from target path: /tmp/tmpe3whikq9/c51364d3-fc2f-4a51-8dc9-566f591b2c38/UNET_256wetlandLES290.tfrecord.gz\nDownloaded path: /tmp/tmpe3whikq9/c51364d3-fc2f-4a51-8dc9-566f591b2c38/summerReplicated/training/UNET_256wetlandLES295.tfrecord.gz is different from target path: /tmp/tmpe3whikq9/c51364d3-fc2f-4a51-8dc9-566f591b2c38/UNET_256wetlandLES295.tfrecord.gz\nDownloaded path: /tmp/tmpe3whikq9/c51364d3-fc2f-4a51-8dc9-566f591b2c38/summerReplicated/training/UNET_256wetlandLES30.tfrecord.gz is different from target path: /tmp/tmpe3whikq9/c51364d3-fc2f-4a51-8dc9-566f591b2c38/UNET_256wetlandLES30.tfrecord.gz\nDownloaded path: /tmp/tmpe3whikq9/c51364d3-fc2f-4a51-8dc9-566f591b2c38/summerReplicated/training/UNET_256wetlandLES300.tfrecord.gz is different from target path: /tmp/tmpe3whikq9/c51364d3-fc2f-4a51-8dc9-566f591b2c38/UNET_256wetlandLES300.tfrecord.gz\nDownloaded path: /tmp/tmpe3whikq9/c51364d3-fc2f-4a51-8dc9-566f591b2c38/summerReplicated/training/UNET_256wetlandLES305.tfrecord.gz is different from target path: /tmp/tmpe3whikq9/c51364d3-fc2f-4a51-8dc9-566f591b2c38/UNET_256wetlandLES305.tfrecord.gz\nDownloaded path: /tmp/tmpe3whikq9/c51364d3-fc2f-4a51-8dc9-566f591b2c38/summerReplicated/training/UNET_256wetlandLES310.tfrecord.gz is different from target path: /tmp/tmpe3whikq9/c51364d3-fc2f-4a51-8dc9-566f591b2c38/UNET_256wetlandLES310.tfrecord.gz\nDownloaded path: /tmp/tmpe3whikq9/c51364d3-fc2f-4a51-8dc9-566f591b2c38/summerReplicated/training/UNET_256wetlandLES315.tfrecord.gz is different from target path: /tmp/tmpe3whikq9/c51364d3-fc2f-4a51-8dc9-566f591b2c38/UNET_256wetlandLES315.tfrecord.gz\nDownloaded path: /tmp/tmpe3whikq9/c51364d3-fc2f-4a51-8dc9-566f591b2c38/summerReplicated/training/UNET_256wetlandLES320.tfrecord.gz is different from target path: /tmp/tmpe3whikq9/c51364d3-fc2f-4a51-8dc9-566f591b2c38/UNET_256wetlandLES320.tfrecord.gz\nDownloaded path: /tmp/tmpe3whikq9/c51364d3-fc2f-4a51-8dc9-566f591b2c38/summerReplicated/training/UNET_256wetlandLES325.tfrecord.gz is different from target path: /tmp/tmpe3whikq9/c51364d3-fc2f-4a51-8dc9-566f591b2c38/UNET_256wetlandLES325.tfrecord.gz\nDownloaded path: /tmp/tmpe3whikq9/c51364d3-fc2f-4a51-8dc9-566f591b2c38/summerReplicated/training/UNET_256wetlandLES330.tfrecord.gz is different from target path: /tmp/tmpe3whikq9/c51364d3-fc2f-4a51-8dc9-566f591b2c38/UNET_256wetlandLES330.tfrecord.gz\nDownloaded path: /tmp/tmpe3whikq9/c51364d3-fc2f-4a51-8dc9-566f591b2c38/summerReplicated/training/UNET_256wetlandLES335.tfrecord.gz is different from target path: /tmp/tmpe3whikq9/c51364d3-fc2f-4a51-8dc9-566f591b2c38/UNET_256wetlandLES335.tfrecord.gz\nDownloaded path: /tmp/tmpe3whikq9/c51364d3-fc2f-4a51-8dc9-566f591b2c38/summerReplicated/training/UNET_256wetlandLES340.tfrecord.gz is different from target path: /tmp/tmpe3whikq9/c51364d3-fc2f-4a51-8dc9-566f591b2c38/UNET_256wetlandLES340.tfrecord.gz\nDownloaded path: /tmp/tmpe3whikq9/c51364d3-fc2f-4a51-8dc9-566f591b2c38/summerReplicated/training/UNET_256wetlandLES345.tfrecord.gz is different from target path: /tmp/tmpe3whikq9/c51364d3-fc2f-4a51-8dc9-566f591b2c38/UNET_256wetlandLES345.tfrecord.gz\nDownloaded path: /tmp/tmpe3whikq9/c51364d3-fc2f-4a51-8dc9-566f591b2c38/summerReplicated/training/UNET_256wetlandLES35.tfrecord.gz is different from target path: /tmp/tmpe3whikq9/c51364d3-fc2f-4a51-8dc9-566f591b2c38/UNET_256wetlandLES35.tfrecord.gz\nDownloaded path: /tmp/tmpe3whikq9/c51364d3-fc2f-4a51-8dc9-566f591b2c38/summerReplicated/training/UNET_256wetlandLES350.tfrecord.gz is different from target path: /tmp/tmpe3whikq9/c51364d3-fc2f-4a51-8dc9-566f591b2c38/UNET_256wetlandLES350.tfrecord.gz\nDownloaded path: /tmp/tmpe3whikq9/c51364d3-fc2f-4a51-8dc9-566f591b2c38/summerReplicated/training/UNET_256wetlandLES355.tfrecord.gz is different from target path: /tmp/tmpe3whikq9/c51364d3-fc2f-4a51-8dc9-566f591b2c38/UNET_256wetlandLES355.tfrecord.gz\nDownloaded path: /tmp/tmpe3whikq9/c51364d3-fc2f-4a51-8dc9-566f591b2c38/summerReplicated/training/UNET_256wetlandLES360.tfrecord.gz is different from target path: /tmp/tmpe3whikq9/c51364d3-fc2f-4a51-8dc9-566f591b2c38/UNET_256wetlandLES360.tfrecord.gz\nDownloaded path: /tmp/tmpe3whikq9/c51364d3-fc2f-4a51-8dc9-566f591b2c38/summerReplicated/training/UNET_256wetlandLES365.tfrecord.gz is different from target path: /tmp/tmpe3whikq9/c51364d3-fc2f-4a51-8dc9-566f591b2c38/UNET_256wetlandLES365.tfrecord.gz\nDownloaded path: /tmp/tmpe3whikq9/c51364d3-fc2f-4a51-8dc9-566f591b2c38/summerReplicated/training/UNET_256wetlandLES370.tfrecord.gz is different from target path: /tmp/tmpe3whikq9/c51364d3-fc2f-4a51-8dc9-566f591b2c38/UNET_256wetlandLES370.tfrecord.gz\nDownloaded path: /tmp/tmpe3whikq9/c51364d3-fc2f-4a51-8dc9-566f591b2c38/summerReplicated/training/UNET_256wetlandLES375.tfrecord.gz is different from target path: /tmp/tmpe3whikq9/c51364d3-fc2f-4a51-8dc9-566f591b2c38/UNET_256wetlandLES375.tfrecord.gz\nDownloaded path: /tmp/tmpe3whikq9/c51364d3-fc2f-4a51-8dc9-566f591b2c38/summerReplicated/training/UNET_256wetlandLES380.tfrecord.gz is different from target path: /tmp/tmpe3whikq9/c51364d3-fc2f-4a51-8dc9-566f591b2c38/UNET_256wetlandLES380.tfrecord.gz\nDownloaded path: /tmp/tmpe3whikq9/c51364d3-fc2f-4a51-8dc9-566f591b2c38/summerReplicated/training/UNET_256wetlandLES385.tfrecord.gz is different from target path: /tmp/tmpe3whikq9/c51364d3-fc2f-4a51-8dc9-566f591b2c38/UNET_256wetlandLES385.tfrecord.gz\nDownloaded path: /tmp/tmpe3whikq9/c51364d3-fc2f-4a51-8dc9-566f591b2c38/summerReplicated/training/UNET_256wetlandLES390.tfrecord.gz is different from target path: /tmp/tmpe3whikq9/c51364d3-fc2f-4a51-8dc9-566f591b2c38/UNET_256wetlandLES390.tfrecord.gz\nDownloaded path: /tmp/tmpe3whikq9/c51364d3-fc2f-4a51-8dc9-566f591b2c38/summerReplicated/training/UNET_256wetlandLES395.tfrecord.gz is different from target path: /tmp/tmpe3whikq9/c51364d3-fc2f-4a51-8dc9-566f591b2c38/UNET_256wetlandLES395.tfrecord.gz\nDownloaded path: /tmp/tmpe3whikq9/c51364d3-fc2f-4a51-8dc9-566f591b2c38/summerReplicated/training/UNET_256wetlandLES40.tfrecord.gz is different from target path: /tmp/tmpe3whikq9/c51364d3-fc2f-4a51-8dc9-566f591b2c38/UNET_256wetlandLES40.tfrecord.gz\nDownloaded path: /tmp/tmpe3whikq9/c51364d3-fc2f-4a51-8dc9-566f591b2c38/summerReplicated/training/UNET_256wetlandLES400.tfrecord.gz is different from target path: /tmp/tmpe3whikq9/c51364d3-fc2f-4a51-8dc9-566f591b2c38/UNET_256wetlandLES400.tfrecord.gz\nDownloaded path: /tmp/tmpe3whikq9/c51364d3-fc2f-4a51-8dc9-566f591b2c38/summerReplicated/training/UNET_256wetlandLES405.tfrecord.gz is different from target path: /tmp/tmpe3whikq9/c51364d3-fc2f-4a51-8dc9-566f591b2c38/UNET_256wetlandLES405.tfrecord.gz\nDownloaded path: /tmp/tmpe3whikq9/c51364d3-fc2f-4a51-8dc9-566f591b2c38/summerReplicated/training/UNET_256wetlandLES410.tfrecord.gz is different from target path: /tmp/tmpe3whikq9/c51364d3-fc2f-4a51-8dc9-566f591b2c38/UNET_256wetlandLES410.tfrecord.gz\nDownloaded path: /tmp/tmpe3whikq9/c51364d3-fc2f-4a51-8dc9-566f591b2c38/summerReplicated/training/UNET_256wetlandLES415.tfrecord.gz is different from target path: /tmp/tmpe3whikq9/c51364d3-fc2f-4a51-8dc9-566f591b2c38/UNET_256wetlandLES415.tfrecord.gz\nDownloaded path: /tmp/tmpe3whikq9/c51364d3-fc2f-4a51-8dc9-566f591b2c38/summerReplicated/training/UNET_256wetlandLES420.tfrecord.gz is different from target path: /tmp/tmpe3whikq9/c51364d3-fc2f-4a51-8dc9-566f591b2c38/UNET_256wetlandLES420.tfrecord.gz\nDownloaded path: /tmp/tmpe3whikq9/c51364d3-fc2f-4a51-8dc9-566f591b2c38/summerReplicated/training/UNET_256wetlandLES425.tfrecord.gz is different from target path: /tmp/tmpe3whikq9/c51364d3-fc2f-4a51-8dc9-566f591b2c38/UNET_256wetlandLES425.tfrecord.gz\nDownloaded path: /tmp/tmpe3whikq9/c51364d3-fc2f-4a51-8dc9-566f591b2c38/summerReplicated/training/UNET_256wetlandLES430.tfrecord.gz is different from target path: /tmp/tmpe3whikq9/c51364d3-fc2f-4a51-8dc9-566f591b2c38/UNET_256wetlandLES430.tfrecord.gz\nDownloaded path: /tmp/tmpe3whikq9/c51364d3-fc2f-4a51-8dc9-566f591b2c38/summerReplicated/training/UNET_256wetlandLES435.tfrecord.gz is different from target path: /tmp/tmpe3whikq9/c51364d3-fc2f-4a51-8dc9-566f591b2c38/UNET_256wetlandLES435.tfrecord.gz\nDownloaded path: /tmp/tmpe3whikq9/c51364d3-fc2f-4a51-8dc9-566f591b2c38/summerReplicated/training/UNET_256wetlandLES440.tfrecord.gz is different from target path: /tmp/tmpe3whikq9/c51364d3-fc2f-4a51-8dc9-566f591b2c38/UNET_256wetlandLES440.tfrecord.gz\nDownloaded path: /tmp/tmpe3whikq9/c51364d3-fc2f-4a51-8dc9-566f591b2c38/summerReplicated/training/UNET_256wetlandLES445.tfrecord.gz is different from target path: /tmp/tmpe3whikq9/c51364d3-fc2f-4a51-8dc9-566f591b2c38/UNET_256wetlandLES445.tfrecord.gz\nDownloaded path: /tmp/tmpe3whikq9/c51364d3-fc2f-4a51-8dc9-566f591b2c38/summerReplicated/training/UNET_256wetlandLES45.tfrecord.gz is different from target path: /tmp/tmpe3whikq9/c51364d3-fc2f-4a51-8dc9-566f591b2c38/UNET_256wetlandLES45.tfrecord.gz\nDownloaded path: /tmp/tmpe3whikq9/c51364d3-fc2f-4a51-8dc9-566f591b2c38/summerReplicated/training/UNET_256wetlandLES450.tfrecord.gz is different from target path: /tmp/tmpe3whikq9/c51364d3-fc2f-4a51-8dc9-566f591b2c38/UNET_256wetlandLES450.tfrecord.gz\nDownloaded path: /tmp/tmpe3whikq9/c51364d3-fc2f-4a51-8dc9-566f591b2c38/summerReplicated/training/UNET_256wetlandLES455.tfrecord.gz is different from target path: /tmp/tmpe3whikq9/c51364d3-fc2f-4a51-8dc9-566f591b2c38/UNET_256wetlandLES455.tfrecord.gz\nDownloaded path: /tmp/tmpe3whikq9/c51364d3-fc2f-4a51-8dc9-566f591b2c38/summerReplicated/training/UNET_256wetlandLES460.tfrecord.gz is different from target path: /tmp/tmpe3whikq9/c51364d3-fc2f-4a51-8dc9-566f591b2c38/UNET_256wetlandLES460.tfrecord.gz\nDownloaded path: /tmp/tmpe3whikq9/c51364d3-fc2f-4a51-8dc9-566f591b2c38/summerReplicated/training/UNET_256wetlandLES465.tfrecord.gz is different from target path: /tmp/tmpe3whikq9/c51364d3-fc2f-4a51-8dc9-566f591b2c38/UNET_256wetlandLES465.tfrecord.gz\nDownloaded path: /tmp/tmpe3whikq9/c51364d3-fc2f-4a51-8dc9-566f591b2c38/summerReplicated/training/UNET_256wetlandLES470.tfrecord.gz is different from target path: /tmp/tmpe3whikq9/c51364d3-fc2f-4a51-8dc9-566f591b2c38/UNET_256wetlandLES470.tfrecord.gz\nDownloaded path: /tmp/tmpe3whikq9/c51364d3-fc2f-4a51-8dc9-566f591b2c38/summerReplicated/training/UNET_256wetlandLES475.tfrecord.gz is different from target path: /tmp/tmpe3whikq9/c51364d3-fc2f-4a51-8dc9-566f591b2c38/UNET_256wetlandLES475.tfrecord.gz\nDownloaded path: /tmp/tmpe3whikq9/c51364d3-fc2f-4a51-8dc9-566f591b2c38/summerReplicated/training/UNET_256wetlandLES480.tfrecord.gz is different from target path: /tmp/tmpe3whikq9/c51364d3-fc2f-4a51-8dc9-566f591b2c38/UNET_256wetlandLES480.tfrecord.gz\nDownloaded path: /tmp/tmpe3whikq9/c51364d3-fc2f-4a51-8dc9-566f591b2c38/summerReplicated/training/UNET_256wetlandLES485.tfrecord.gz is different from target path: /tmp/tmpe3whikq9/c51364d3-fc2f-4a51-8dc9-566f591b2c38/UNET_256wetlandLES485.tfrecord.gz\nDownloaded path: /tmp/tmpe3whikq9/c51364d3-fc2f-4a51-8dc9-566f591b2c38/summerReplicated/training/UNET_256wetlandLES490.tfrecord.gz is different from target path: /tmp/tmpe3whikq9/c51364d3-fc2f-4a51-8dc9-566f591b2c38/UNET_256wetlandLES490.tfrecord.gz\nDownloaded path: /tmp/tmpe3whikq9/c51364d3-fc2f-4a51-8dc9-566f591b2c38/summerReplicated/training/UNET_256wetlandLES495.tfrecord.gz is different from target path: /tmp/tmpe3whikq9/c51364d3-fc2f-4a51-8dc9-566f591b2c38/UNET_256wetlandLES495.tfrecord.gz\nDownloaded path: /tmp/tmpe3whikq9/c51364d3-fc2f-4a51-8dc9-566f591b2c38/summerReplicated/training/UNET_256wetlandLES5.tfrecord.gz is different from target path: /tmp/tmpe3whikq9/c51364d3-fc2f-4a51-8dc9-566f591b2c38/UNET_256wetlandLES5.tfrecord.gz\nDownloaded path: /tmp/tmpe3whikq9/c51364d3-fc2f-4a51-8dc9-566f591b2c38/summerReplicated/training/UNET_256wetlandLES50.tfrecord.gz is different from target path: /tmp/tmpe3whikq9/c51364d3-fc2f-4a51-8dc9-566f591b2c38/UNET_256wetlandLES50.tfrecord.gz\nDownloaded path: /tmp/tmpe3whikq9/c51364d3-fc2f-4a51-8dc9-566f591b2c38/summerReplicated/training/UNET_256wetlandLES500.tfrecord.gz is different from target path: /tmp/tmpe3whikq9/c51364d3-fc2f-4a51-8dc9-566f591b2c38/UNET_256wetlandLES500.tfrecord.gz\nDownloaded path: /tmp/tmpe3whikq9/c51364d3-fc2f-4a51-8dc9-566f591b2c38/summerReplicated/training/UNET_256wetlandLES505.tfrecord.gz is different from target path: /tmp/tmpe3whikq9/c51364d3-fc2f-4a51-8dc9-566f591b2c38/UNET_256wetlandLES505.tfrecord.gz\nDownloaded path: /tmp/tmpe3whikq9/c51364d3-fc2f-4a51-8dc9-566f591b2c38/summerReplicated/training/UNET_256wetlandLES510.tfrecord.gz is different from target path: /tmp/tmpe3whikq9/c51364d3-fc2f-4a51-8dc9-566f591b2c38/UNET_256wetlandLES510.tfrecord.gz\nDownloaded path: /tmp/tmpe3whikq9/c51364d3-fc2f-4a51-8dc9-566f591b2c38/summerReplicated/training/UNET_256wetlandLES515.tfrecord.gz is different from target path: /tmp/tmpe3whikq9/c51364d3-fc2f-4a51-8dc9-566f591b2c38/UNET_256wetlandLES515.tfrecord.gz\nDownloaded path: /tmp/tmpe3whikq9/c51364d3-fc2f-4a51-8dc9-566f591b2c38/summerReplicated/training/UNET_256wetlandLES520.tfrecord.gz is different from target path: /tmp/tmpe3whikq9/c51364d3-fc2f-4a51-8dc9-566f591b2c38/UNET_256wetlandLES520.tfrecord.gz\nDownloaded path: /tmp/tmpe3whikq9/c51364d3-fc2f-4a51-8dc9-566f591b2c38/summerReplicated/training/UNET_256wetlandLES525.tfrecord.gz is different from target path: /tmp/tmpe3whikq9/c51364d3-fc2f-4a51-8dc9-566f591b2c38/UNET_256wetlandLES525.tfrecord.gz\nDownloaded path: /tmp/tmpe3whikq9/c51364d3-fc2f-4a51-8dc9-566f591b2c38/summerReplicated/training/UNET_256wetlandLES530.tfrecord.gz is different from target path: /tmp/tmpe3whikq9/c51364d3-fc2f-4a51-8dc9-566f591b2c38/UNET_256wetlandLES530.tfrecord.gz\nDownloaded path: /tmp/tmpe3whikq9/c51364d3-fc2f-4a51-8dc9-566f591b2c38/summerReplicated/training/UNET_256wetlandLES535.tfrecord.gz is different from target path: /tmp/tmpe3whikq9/c51364d3-fc2f-4a51-8dc9-566f591b2c38/UNET_256wetlandLES535.tfrecord.gz\nDownloaded path: /tmp/tmpe3whikq9/c51364d3-fc2f-4a51-8dc9-566f591b2c38/summerReplicated/training/UNET_256wetlandLES540.tfrecord.gz is different from target path: /tmp/tmpe3whikq9/c51364d3-fc2f-4a51-8dc9-566f591b2c38/UNET_256wetlandLES540.tfrecord.gz\nDownloaded path: /tmp/tmpe3whikq9/c51364d3-fc2f-4a51-8dc9-566f591b2c38/summerReplicated/training/UNET_256wetlandLES545.tfrecord.gz is different from target path: /tmp/tmpe3whikq9/c51364d3-fc2f-4a51-8dc9-566f591b2c38/UNET_256wetlandLES545.tfrecord.gz\nDownloaded path: /tmp/tmpe3whikq9/c51364d3-fc2f-4a51-8dc9-566f591b2c38/summerReplicated/training/UNET_256wetlandLES55.tfrecord.gz is different from target path: /tmp/tmpe3whikq9/c51364d3-fc2f-4a51-8dc9-566f591b2c38/UNET_256wetlandLES55.tfrecord.gz\nDownloaded path: /tmp/tmpe3whikq9/c51364d3-fc2f-4a51-8dc9-566f591b2c38/summerReplicated/training/UNET_256wetlandLES550.tfrecord.gz is different from target path: /tmp/tmpe3whikq9/c51364d3-fc2f-4a51-8dc9-566f591b2c38/UNET_256wetlandLES550.tfrecord.gz\nDownloaded path: /tmp/tmpe3whikq9/c51364d3-fc2f-4a51-8dc9-566f591b2c38/summerReplicated/training/UNET_256wetlandLES555.tfrecord.gz is different from target path: /tmp/tmpe3whikq9/c51364d3-fc2f-4a51-8dc9-566f591b2c38/UNET_256wetlandLES555.tfrecord.gz\nDownloaded path: /tmp/tmpe3whikq9/c51364d3-fc2f-4a51-8dc9-566f591b2c38/summerReplicated/training/UNET_256wetlandLES560.tfrecord.gz is different from target path: /tmp/tmpe3whikq9/c51364d3-fc2f-4a51-8dc9-566f591b2c38/UNET_256wetlandLES560.tfrecord.gz\nDownloaded path: /tmp/tmpe3whikq9/c51364d3-fc2f-4a51-8dc9-566f591b2c38/summerReplicated/training/UNET_256wetlandLES565.tfrecord.gz is different from target path: /tmp/tmpe3whikq9/c51364d3-fc2f-4a51-8dc9-566f591b2c38/UNET_256wetlandLES565.tfrecord.gz\nDownloaded path: /tmp/tmpe3whikq9/c51364d3-fc2f-4a51-8dc9-566f591b2c38/summerReplicated/training/UNET_256wetlandLES570.tfrecord.gz is different from target path: /tmp/tmpe3whikq9/c51364d3-fc2f-4a51-8dc9-566f591b2c38/UNET_256wetlandLES570.tfrecord.gz\nDownloaded path: /tmp/tmpe3whikq9/c51364d3-fc2f-4a51-8dc9-566f591b2c38/summerReplicated/training/UNET_256wetlandLES575.tfrecord.gz is different from target path: /tmp/tmpe3whikq9/c51364d3-fc2f-4a51-8dc9-566f591b2c38/UNET_256wetlandLES575.tfrecord.gz\nDownloaded path: /tmp/tmpe3whikq9/c51364d3-fc2f-4a51-8dc9-566f591b2c38/summerReplicated/training/UNET_256wetlandLES580.tfrecord.gz is different from target path: /tmp/tmpe3whikq9/c51364d3-fc2f-4a51-8dc9-566f591b2c38/UNET_256wetlandLES580.tfrecord.gz\nDownloaded path: /tmp/tmpe3whikq9/c51364d3-fc2f-4a51-8dc9-566f591b2c38/summerReplicated/training/UNET_256wetlandLES585.tfrecord.gz is different from target path: /tmp/tmpe3whikq9/c51364d3-fc2f-4a51-8dc9-566f591b2c38/UNET_256wetlandLES585.tfrecord.gz\nDownloaded path: /tmp/tmpe3whikq9/c51364d3-fc2f-4a51-8dc9-566f591b2c38/summerReplicated/training/UNET_256wetlandLES590.tfrecord.gz is different from target path: /tmp/tmpe3whikq9/c51364d3-fc2f-4a51-8dc9-566f591b2c38/UNET_256wetlandLES590.tfrecord.gz\nDownloaded path: /tmp/tmpe3whikq9/c51364d3-fc2f-4a51-8dc9-566f591b2c38/summerReplicated/training/UNET_256wetlandLES595.tfrecord.gz is different from target path: /tmp/tmpe3whikq9/c51364d3-fc2f-4a51-8dc9-566f591b2c38/UNET_256wetlandLES595.tfrecord.gz\nDownloaded path: /tmp/tmpe3whikq9/c51364d3-fc2f-4a51-8dc9-566f591b2c38/summerReplicated/training/UNET_256wetlandLES60.tfrecord.gz is different from target path: /tmp/tmpe3whikq9/c51364d3-fc2f-4a51-8dc9-566f591b2c38/UNET_256wetlandLES60.tfrecord.gz\nDownloaded path: /tmp/tmpe3whikq9/c51364d3-fc2f-4a51-8dc9-566f591b2c38/summerReplicated/training/UNET_256wetlandLES600.tfrecord.gz is different from target path: /tmp/tmpe3whikq9/c51364d3-fc2f-4a51-8dc9-566f591b2c38/UNET_256wetlandLES600.tfrecord.gz\nDownloaded path: /tmp/tmpe3whikq9/c51364d3-fc2f-4a51-8dc9-566f591b2c38/summerReplicated/training/UNET_256wetlandLES605.tfrecord.gz is different from target path: /tmp/tmpe3whikq9/c51364d3-fc2f-4a51-8dc9-566f591b2c38/UNET_256wetlandLES605.tfrecord.gz\nDownloaded path: /tmp/tmpe3whikq9/c51364d3-fc2f-4a51-8dc9-566f591b2c38/summerReplicated/training/UNET_256wetlandLES610.tfrecord.gz is different from target path: /tmp/tmpe3whikq9/c51364d3-fc2f-4a51-8dc9-566f591b2c38/UNET_256wetlandLES610.tfrecord.gz\nDownloaded path: /tmp/tmpe3whikq9/c51364d3-fc2f-4a51-8dc9-566f591b2c38/summerReplicated/training/UNET_256wetlandLES615.tfrecord.gz is different from target path: /tmp/tmpe3whikq9/c51364d3-fc2f-4a51-8dc9-566f591b2c38/UNET_256wetlandLES615.tfrecord.gz\nDownloaded path: /tmp/tmpe3whikq9/c51364d3-fc2f-4a51-8dc9-566f591b2c38/summerReplicated/training/UNET_256wetlandLES620.tfrecord.gz is different from target path: /tmp/tmpe3whikq9/c51364d3-fc2f-4a51-8dc9-566f591b2c38/UNET_256wetlandLES620.tfrecord.gz\nDownloaded path: /tmp/tmpe3whikq9/c51364d3-fc2f-4a51-8dc9-566f591b2c38/summerReplicated/training/UNET_256wetlandLES625.tfrecord.gz is different from target path: /tmp/tmpe3whikq9/c51364d3-fc2f-4a51-8dc9-566f591b2c38/UNET_256wetlandLES625.tfrecord.gz\nDownloaded path: /tmp/tmpe3whikq9/c51364d3-fc2f-4a51-8dc9-566f591b2c38/summerReplicated/training/UNET_256wetlandLES630.tfrecord.gz is different from target path: /tmp/tmpe3whikq9/c51364d3-fc2f-4a51-8dc9-566f591b2c38/UNET_256wetlandLES630.tfrecord.gz\nDownloaded path: /tmp/tmpe3whikq9/c51364d3-fc2f-4a51-8dc9-566f591b2c38/summerReplicated/training/UNET_256wetlandLES635.tfrecord.gz is different from target path: /tmp/tmpe3whikq9/c51364d3-fc2f-4a51-8dc9-566f591b2c38/UNET_256wetlandLES635.tfrecord.gz\nDownloaded path: /tmp/tmpe3whikq9/c51364d3-fc2f-4a51-8dc9-566f591b2c38/summerReplicated/training/UNET_256wetlandLES640.tfrecord.gz is different from target path: /tmp/tmpe3whikq9/c51364d3-fc2f-4a51-8dc9-566f591b2c38/UNET_256wetlandLES640.tfrecord.gz\nDownloaded path: /tmp/tmpe3whikq9/c51364d3-fc2f-4a51-8dc9-566f591b2c38/summerReplicated/training/UNET_256wetlandLES645.tfrecord.gz is different from target path: /tmp/tmpe3whikq9/c51364d3-fc2f-4a51-8dc9-566f591b2c38/UNET_256wetlandLES645.tfrecord.gz\nDownloaded path: /tmp/tmpe3whikq9/c51364d3-fc2f-4a51-8dc9-566f591b2c38/summerReplicated/training/UNET_256wetlandLES65.tfrecord.gz is different from target path: /tmp/tmpe3whikq9/c51364d3-fc2f-4a51-8dc9-566f591b2c38/UNET_256wetlandLES65.tfrecord.gz\nDownloaded path: /tmp/tmpe3whikq9/c51364d3-fc2f-4a51-8dc9-566f591b2c38/summerReplicated/training/UNET_256wetlandLES650.tfrecord.gz is different from target path: /tmp/tmpe3whikq9/c51364d3-fc2f-4a51-8dc9-566f591b2c38/UNET_256wetlandLES650.tfrecord.gz\nDownloaded path: /tmp/tmpe3whikq9/c51364d3-fc2f-4a51-8dc9-566f591b2c38/summerReplicated/training/UNET_256wetlandLES655.tfrecord.gz is different from target path: /tmp/tmpe3whikq9/c51364d3-fc2f-4a51-8dc9-566f591b2c38/UNET_256wetlandLES655.tfrecord.gz\nDownloaded path: /tmp/tmpe3whikq9/c51364d3-fc2f-4a51-8dc9-566f591b2c38/summerReplicated/training/UNET_256wetlandLES660.tfrecord.gz is different from target path: /tmp/tmpe3whikq9/c51364d3-fc2f-4a51-8dc9-566f591b2c38/UNET_256wetlandLES660.tfrecord.gz\nDownloaded path: /tmp/tmpe3whikq9/c51364d3-fc2f-4a51-8dc9-566f591b2c38/summerReplicated/training/UNET_256wetlandLES665.tfrecord.gz is different from target path: /tmp/tmpe3whikq9/c51364d3-fc2f-4a51-8dc9-566f591b2c38/UNET_256wetlandLES665.tfrecord.gz\nDownloaded path: /tmp/tmpe3whikq9/c51364d3-fc2f-4a51-8dc9-566f591b2c38/summerReplicated/training/UNET_256wetlandLES670.tfrecord.gz is different from target path: /tmp/tmpe3whikq9/c51364d3-fc2f-4a51-8dc9-566f591b2c38/UNET_256wetlandLES670.tfrecord.gz\nDownloaded path: /tmp/tmpe3whikq9/c51364d3-fc2f-4a51-8dc9-566f591b2c38/summerReplicated/training/UNET_256wetlandLES675.tfrecord.gz is different from target path: /tmp/tmpe3whikq9/c51364d3-fc2f-4a51-8dc9-566f591b2c38/UNET_256wetlandLES675.tfrecord.gz\nDownloaded path: /tmp/tmpe3whikq9/c51364d3-fc2f-4a51-8dc9-566f591b2c38/summerReplicated/training/UNET_256wetlandLES680.tfrecord.gz is different from target path: /tmp/tmpe3whikq9/c51364d3-fc2f-4a51-8dc9-566f591b2c38/UNET_256wetlandLES680.tfrecord.gz\nDownloaded path: /tmp/tmpe3whikq9/c51364d3-fc2f-4a51-8dc9-566f591b2c38/summerReplicated/training/UNET_256wetlandLES685.tfrecord.gz is different from target path: /tmp/tmpe3whikq9/c51364d3-fc2f-4a51-8dc9-566f591b2c38/UNET_256wetlandLES685.tfrecord.gz\nDownloaded path: /tmp/tmpe3whikq9/c51364d3-fc2f-4a51-8dc9-566f591b2c38/summerReplicated/training/UNET_256wetlandLES690.tfrecord.gz is different from target path: /tmp/tmpe3whikq9/c51364d3-fc2f-4a51-8dc9-566f591b2c38/UNET_256wetlandLES690.tfrecord.gz\nDownloaded path: /tmp/tmpe3whikq9/c51364d3-fc2f-4a51-8dc9-566f591b2c38/summerReplicated/training/UNET_256wetlandLES695.tfrecord.gz is different from target path: /tmp/tmpe3whikq9/c51364d3-fc2f-4a51-8dc9-566f591b2c38/UNET_256wetlandLES695.tfrecord.gz\nDownloaded path: /tmp/tmpe3whikq9/c51364d3-fc2f-4a51-8dc9-566f591b2c38/summerReplicated/training/UNET_256wetlandLES70.tfrecord.gz is different from target path: /tmp/tmpe3whikq9/c51364d3-fc2f-4a51-8dc9-566f591b2c38/UNET_256wetlandLES70.tfrecord.gz\nDownloaded path: /tmp/tmpe3whikq9/c51364d3-fc2f-4a51-8dc9-566f591b2c38/summerReplicated/training/UNET_256wetlandLES700.tfrecord.gz is different from target path: /tmp/tmpe3whikq9/c51364d3-fc2f-4a51-8dc9-566f591b2c38/UNET_256wetlandLES700.tfrecord.gz\nDownloaded path: /tmp/tmpe3whikq9/c51364d3-fc2f-4a51-8dc9-566f591b2c38/summerReplicated/training/UNET_256wetlandLES705.tfrecord.gz is different from target path: /tmp/tmpe3whikq9/c51364d3-fc2f-4a51-8dc9-566f591b2c38/UNET_256wetlandLES705.tfrecord.gz\nDownloaded path: /tmp/tmpe3whikq9/c51364d3-fc2f-4a51-8dc9-566f591b2c38/summerReplicated/training/UNET_256wetlandLES710.tfrecord.gz is different from target path: /tmp/tmpe3whikq9/c51364d3-fc2f-4a51-8dc9-566f591b2c38/UNET_256wetlandLES710.tfrecord.gz\nDownloaded path: /tmp/tmpe3whikq9/c51364d3-fc2f-4a51-8dc9-566f591b2c38/summerReplicated/training/UNET_256wetlandLES715.tfrecord.gz is different from target path: /tmp/tmpe3whikq9/c51364d3-fc2f-4a51-8dc9-566f591b2c38/UNET_256wetlandLES715.tfrecord.gz\nDownloaded path: /tmp/tmpe3whikq9/c51364d3-fc2f-4a51-8dc9-566f591b2c38/summerReplicated/training/UNET_256wetlandLES720.tfrecord.gz is different from target path: /tmp/tmpe3whikq9/c51364d3-fc2f-4a51-8dc9-566f591b2c38/UNET_256wetlandLES720.tfrecord.gz\nDownloaded path: /tmp/tmpe3whikq9/c51364d3-fc2f-4a51-8dc9-566f591b2c38/summerReplicated/training/UNET_256wetlandLES725.tfrecord.gz is different from target path: /tmp/tmpe3whikq9/c51364d3-fc2f-4a51-8dc9-566f591b2c38/UNET_256wetlandLES725.tfrecord.gz\nDownloaded path: /tmp/tmpe3whikq9/c51364d3-fc2f-4a51-8dc9-566f591b2c38/summerReplicated/training/UNET_256wetlandLES730.tfrecord.gz is different from target path: /tmp/tmpe3whikq9/c51364d3-fc2f-4a51-8dc9-566f591b2c38/UNET_256wetlandLES730.tfrecord.gz\nDownloaded path: /tmp/tmpe3whikq9/c51364d3-fc2f-4a51-8dc9-566f591b2c38/summerReplicated/training/UNET_256wetlandLES735.tfrecord.gz is different from target path: /tmp/tmpe3whikq9/c51364d3-fc2f-4a51-8dc9-566f591b2c38/UNET_256wetlandLES735.tfrecord.gz\nDownloaded path: /tmp/tmpe3whikq9/c51364d3-fc2f-4a51-8dc9-566f591b2c38/summerReplicated/training/UNET_256wetlandLES740.tfrecord.gz is different from target path: /tmp/tmpe3whikq9/c51364d3-fc2f-4a51-8dc9-566f591b2c38/UNET_256wetlandLES740.tfrecord.gz\nDownloaded path: /tmp/tmpe3whikq9/c51364d3-fc2f-4a51-8dc9-566f591b2c38/summerReplicated/training/UNET_256wetlandLES745.tfrecord.gz is different from target path: /tmp/tmpe3whikq9/c51364d3-fc2f-4a51-8dc9-566f591b2c38/UNET_256wetlandLES745.tfrecord.gz\nDownloaded path: /tmp/tmpe3whikq9/c51364d3-fc2f-4a51-8dc9-566f591b2c38/summerReplicated/training/UNET_256wetlandLES75.tfrecord.gz is different from target path: /tmp/tmpe3whikq9/c51364d3-fc2f-4a51-8dc9-566f591b2c38/UNET_256wetlandLES75.tfrecord.gz\nDownloaded path: /tmp/tmpe3whikq9/c51364d3-fc2f-4a51-8dc9-566f591b2c38/summerReplicated/training/UNET_256wetlandLES750.tfrecord.gz is different from target path: /tmp/tmpe3whikq9/c51364d3-fc2f-4a51-8dc9-566f591b2c38/UNET_256wetlandLES750.tfrecord.gz\nDownloaded path: /tmp/tmpe3whikq9/c51364d3-fc2f-4a51-8dc9-566f591b2c38/summerReplicated/training/UNET_256wetlandLES755.tfrecord.gz is different from target path: /tmp/tmpe3whikq9/c51364d3-fc2f-4a51-8dc9-566f591b2c38/UNET_256wetlandLES755.tfrecord.gz\nDownloaded path: /tmp/tmpe3whikq9/c51364d3-fc2f-4a51-8dc9-566f591b2c38/summerReplicated/training/UNET_256wetlandLES760.tfrecord.gz is different from target path: /tmp/tmpe3whikq9/c51364d3-fc2f-4a51-8dc9-566f591b2c38/UNET_256wetlandLES760.tfrecord.gz\nDownloaded path: /tmp/tmpe3whikq9/c51364d3-fc2f-4a51-8dc9-566f591b2c38/summerReplicated/training/UNET_256wetlandLES765.tfrecord.gz is different from target path: /tmp/tmpe3whikq9/c51364d3-fc2f-4a51-8dc9-566f591b2c38/UNET_256wetlandLES765.tfrecord.gz\nDownloaded path: /tmp/tmpe3whikq9/c51364d3-fc2f-4a51-8dc9-566f591b2c38/summerReplicated/training/UNET_256wetlandLES770.tfrecord.gz is different from target path: /tmp/tmpe3whikq9/c51364d3-fc2f-4a51-8dc9-566f591b2c38/UNET_256wetlandLES770.tfrecord.gz\nDownloaded path: /tmp/tmpe3whikq9/c51364d3-fc2f-4a51-8dc9-566f591b2c38/summerReplicated/training/UNET_256wetlandLES775.tfrecord.gz is different from target path: /tmp/tmpe3whikq9/c51364d3-fc2f-4a51-8dc9-566f591b2c38/UNET_256wetlandLES775.tfrecord.gz\nDownloaded path: /tmp/tmpe3whikq9/c51364d3-fc2f-4a51-8dc9-566f591b2c38/summerReplicated/training/UNET_256wetlandLES780.tfrecord.gz is different from target path: /tmp/tmpe3whikq9/c51364d3-fc2f-4a51-8dc9-566f591b2c38/UNET_256wetlandLES780.tfrecord.gz\nDownloaded path: /tmp/tmpe3whikq9/c51364d3-fc2f-4a51-8dc9-566f591b2c38/summerReplicated/training/UNET_256wetlandLES785.tfrecord.gz is different from target path: /tmp/tmpe3whikq9/c51364d3-fc2f-4a51-8dc9-566f591b2c38/UNET_256wetlandLES785.tfrecord.gz\nDownloaded path: /tmp/tmpe3whikq9/c51364d3-fc2f-4a51-8dc9-566f591b2c38/summerReplicated/training/UNET_256wetlandLES790.tfrecord.gz is different from target path: /tmp/tmpe3whikq9/c51364d3-fc2f-4a51-8dc9-566f591b2c38/UNET_256wetlandLES790.tfrecord.gz\nDownloaded path: /tmp/tmpe3whikq9/c51364d3-fc2f-4a51-8dc9-566f591b2c38/summerReplicated/training/UNET_256wetlandLES795.tfrecord.gz is different from target path: /tmp/tmpe3whikq9/c51364d3-fc2f-4a51-8dc9-566f591b2c38/UNET_256wetlandLES795.tfrecord.gz\nDownloaded path: /tmp/tmpe3whikq9/c51364d3-fc2f-4a51-8dc9-566f591b2c38/summerReplicated/training/UNET_256wetlandLES80.tfrecord.gz is different from target path: /tmp/tmpe3whikq9/c51364d3-fc2f-4a51-8dc9-566f591b2c38/UNET_256wetlandLES80.tfrecord.gz\nDownloaded path: /tmp/tmpe3whikq9/c51364d3-fc2f-4a51-8dc9-566f591b2c38/summerReplicated/training/UNET_256wetlandLES800.tfrecord.gz is different from target path: /tmp/tmpe3whikq9/c51364d3-fc2f-4a51-8dc9-566f591b2c38/UNET_256wetlandLES800.tfrecord.gz\nDownloaded path: /tmp/tmpe3whikq9/c51364d3-fc2f-4a51-8dc9-566f591b2c38/summerReplicated/training/UNET_256wetlandLES805.tfrecord.gz is different from target path: /tmp/tmpe3whikq9/c51364d3-fc2f-4a51-8dc9-566f591b2c38/UNET_256wetlandLES805.tfrecord.gz\nDownloaded path: /tmp/tmpe3whikq9/c51364d3-fc2f-4a51-8dc9-566f591b2c38/summerReplicated/training/UNET_256wetlandLES810.tfrecord.gz is different from target path: /tmp/tmpe3whikq9/c51364d3-fc2f-4a51-8dc9-566f591b2c38/UNET_256wetlandLES810.tfrecord.gz\nDownloaded path: /tmp/tmpe3whikq9/c51364d3-fc2f-4a51-8dc9-566f591b2c38/summerReplicated/training/UNET_256wetlandLES815.tfrecord.gz is different from target path: /tmp/tmpe3whikq9/c51364d3-fc2f-4a51-8dc9-566f591b2c38/UNET_256wetlandLES815.tfrecord.gz\nDownloaded path: /tmp/tmpe3whikq9/c51364d3-fc2f-4a51-8dc9-566f591b2c38/summerReplicated/training/UNET_256wetlandLES820.tfrecord.gz is different from target path: /tmp/tmpe3whikq9/c51364d3-fc2f-4a51-8dc9-566f591b2c38/UNET_256wetlandLES820.tfrecord.gz\nDownloaded path: /tmp/tmpe3whikq9/c51364d3-fc2f-4a51-8dc9-566f591b2c38/summerReplicated/training/UNET_256wetlandLES825.tfrecord.gz is different from target path: /tmp/tmpe3whikq9/c51364d3-fc2f-4a51-8dc9-566f591b2c38/UNET_256wetlandLES825.tfrecord.gz\nDownloaded path: /tmp/tmpe3whikq9/c51364d3-fc2f-4a51-8dc9-566f591b2c38/summerReplicated/training/UNET_256wetlandLES830.tfrecord.gz is different from target path: /tmp/tmpe3whikq9/c51364d3-fc2f-4a51-8dc9-566f591b2c38/UNET_256wetlandLES830.tfrecord.gz\nDownloaded path: /tmp/tmpe3whikq9/c51364d3-fc2f-4a51-8dc9-566f591b2c38/summerReplicated/training/UNET_256wetlandLES835.tfrecord.gz is different from target path: /tmp/tmpe3whikq9/c51364d3-fc2f-4a51-8dc9-566f591b2c38/UNET_256wetlandLES835.tfrecord.gz\nDownloaded path: /tmp/tmpe3whikq9/c51364d3-fc2f-4a51-8dc9-566f591b2c38/summerReplicated/training/UNET_256wetlandLES840.tfrecord.gz is different from target path: /tmp/tmpe3whikq9/c51364d3-fc2f-4a51-8dc9-566f591b2c38/UNET_256wetlandLES840.tfrecord.gz\nDownloaded path: /tmp/tmpe3whikq9/c51364d3-fc2f-4a51-8dc9-566f591b2c38/summerReplicated/training/UNET_256wetlandLES845.tfrecord.gz is different from target path: /tmp/tmpe3whikq9/c51364d3-fc2f-4a51-8dc9-566f591b2c38/UNET_256wetlandLES845.tfrecord.gz\nDownloaded path: /tmp/tmpe3whikq9/c51364d3-fc2f-4a51-8dc9-566f591b2c38/summerReplicated/training/UNET_256wetlandLES85.tfrecord.gz is different from target path: /tmp/tmpe3whikq9/c51364d3-fc2f-4a51-8dc9-566f591b2c38/UNET_256wetlandLES85.tfrecord.gz\nDownloaded path: /tmp/tmpe3whikq9/c51364d3-fc2f-4a51-8dc9-566f591b2c38/summerReplicated/training/UNET_256wetlandLES850.tfrecord.gz is different from target path: /tmp/tmpe3whikq9/c51364d3-fc2f-4a51-8dc9-566f591b2c38/UNET_256wetlandLES850.tfrecord.gz\nDownloaded path: /tmp/tmpe3whikq9/c51364d3-fc2f-4a51-8dc9-566f591b2c38/summerReplicated/training/UNET_256wetlandLES855.tfrecord.gz is different from target path: /tmp/tmpe3whikq9/c51364d3-fc2f-4a51-8dc9-566f591b2c38/UNET_256wetlandLES855.tfrecord.gz\nDownloaded path: /tmp/tmpe3whikq9/c51364d3-fc2f-4a51-8dc9-566f591b2c38/summerReplicated/training/UNET_256wetlandLES860.tfrecord.gz is different from target path: /tmp/tmpe3whikq9/c51364d3-fc2f-4a51-8dc9-566f591b2c38/UNET_256wetlandLES860.tfrecord.gz\nDownloaded path: /tmp/tmpe3whikq9/c51364d3-fc2f-4a51-8dc9-566f591b2c38/summerReplicated/training/UNET_256wetlandLES865.tfrecord.gz is different from target path: /tmp/tmpe3whikq9/c51364d3-fc2f-4a51-8dc9-566f591b2c38/UNET_256wetlandLES865.tfrecord.gz\nDownloaded path: /tmp/tmpe3whikq9/c51364d3-fc2f-4a51-8dc9-566f591b2c38/summerReplicated/training/UNET_256wetlandLES870.tfrecord.gz is different from target path: /tmp/tmpe3whikq9/c51364d3-fc2f-4a51-8dc9-566f591b2c38/UNET_256wetlandLES870.tfrecord.gz\nDownloaded path: /tmp/tmpe3whikq9/c51364d3-fc2f-4a51-8dc9-566f591b2c38/summerReplicated/training/UNET_256wetlandLES875.tfrecord.gz is different from target path: /tmp/tmpe3whikq9/c51364d3-fc2f-4a51-8dc9-566f591b2c38/UNET_256wetlandLES875.tfrecord.gz\nDownloaded path: /tmp/tmpe3whikq9/c51364d3-fc2f-4a51-8dc9-566f591b2c38/summerReplicated/training/UNET_256wetlandLES880.tfrecord.gz is different from target path: /tmp/tmpe3whikq9/c51364d3-fc2f-4a51-8dc9-566f591b2c38/UNET_256wetlandLES880.tfrecord.gz\nDownloaded path: /tmp/tmpe3whikq9/c51364d3-fc2f-4a51-8dc9-566f591b2c38/summerReplicated/training/UNET_256wetlandLES885.tfrecord.gz is different from target path: /tmp/tmpe3whikq9/c51364d3-fc2f-4a51-8dc9-566f591b2c38/UNET_256wetlandLES885.tfrecord.gz\nDownloaded path: /tmp/tmpe3whikq9/c51364d3-fc2f-4a51-8dc9-566f591b2c38/summerReplicated/training/UNET_256wetlandLES890.tfrecord.gz is different from target path: /tmp/tmpe3whikq9/c51364d3-fc2f-4a51-8dc9-566f591b2c38/UNET_256wetlandLES890.tfrecord.gz\nDownloaded path: /tmp/tmpe3whikq9/c51364d3-fc2f-4a51-8dc9-566f591b2c38/summerReplicated/training/UNET_256wetlandLES895.tfrecord.gz is different from target path: /tmp/tmpe3whikq9/c51364d3-fc2f-4a51-8dc9-566f591b2c38/UNET_256wetlandLES895.tfrecord.gz\nDownloaded path: /tmp/tmpe3whikq9/c51364d3-fc2f-4a51-8dc9-566f591b2c38/summerReplicated/training/UNET_256wetlandLES90.tfrecord.gz is different from target path: /tmp/tmpe3whikq9/c51364d3-fc2f-4a51-8dc9-566f591b2c38/UNET_256wetlandLES90.tfrecord.gz\nDownloaded path: /tmp/tmpe3whikq9/c51364d3-fc2f-4a51-8dc9-566f591b2c38/summerReplicated/training/UNET_256wetlandLES900.tfrecord.gz is different from target path: /tmp/tmpe3whikq9/c51364d3-fc2f-4a51-8dc9-566f591b2c38/UNET_256wetlandLES900.tfrecord.gz\nDownloaded path: /tmp/tmpe3whikq9/c51364d3-fc2f-4a51-8dc9-566f591b2c38/summerReplicated/training/UNET_256wetlandLES905.tfrecord.gz is different from target path: /tmp/tmpe3whikq9/c51364d3-fc2f-4a51-8dc9-566f591b2c38/UNET_256wetlandLES905.tfrecord.gz\nDownloaded path: /tmp/tmpe3whikq9/c51364d3-fc2f-4a51-8dc9-566f591b2c38/summerReplicated/training/UNET_256wetlandLES910.tfrecord.gz is different from target path: /tmp/tmpe3whikq9/c51364d3-fc2f-4a51-8dc9-566f591b2c38/UNET_256wetlandLES910.tfrecord.gz\nDownloaded path: /tmp/tmpe3whikq9/c51364d3-fc2f-4a51-8dc9-566f591b2c38/summerReplicated/training/UNET_256wetlandLES915.tfrecord.gz is different from target path: /tmp/tmpe3whikq9/c51364d3-fc2f-4a51-8dc9-566f591b2c38/UNET_256wetlandLES915.tfrecord.gz\nDownloaded path: /tmp/tmpe3whikq9/c51364d3-fc2f-4a51-8dc9-566f591b2c38/summerReplicated/training/UNET_256wetlandLES920.tfrecord.gz is different from target path: /tmp/tmpe3whikq9/c51364d3-fc2f-4a51-8dc9-566f591b2c38/UNET_256wetlandLES920.tfrecord.gz\nDownloaded path: /tmp/tmpe3whikq9/c51364d3-fc2f-4a51-8dc9-566f591b2c38/summerReplicated/training/UNET_256wetlandLES925.tfrecord.gz is different from target path: /tmp/tmpe3whikq9/c51364d3-fc2f-4a51-8dc9-566f591b2c38/UNET_256wetlandLES925.tfrecord.gz\nDownloaded path: /tmp/tmpe3whikq9/c51364d3-fc2f-4a51-8dc9-566f591b2c38/summerReplicated/training/UNET_256wetlandLES930.tfrecord.gz is different from target path: /tmp/tmpe3whikq9/c51364d3-fc2f-4a51-8dc9-566f591b2c38/UNET_256wetlandLES930.tfrecord.gz\nDownloaded path: /tmp/tmpe3whikq9/c51364d3-fc2f-4a51-8dc9-566f591b2c38/summerReplicated/training/UNET_256wetlandLES935.tfrecord.gz is different from target path: /tmp/tmpe3whikq9/c51364d3-fc2f-4a51-8dc9-566f591b2c38/UNET_256wetlandLES935.tfrecord.gz\nDownloaded path: /tmp/tmpe3whikq9/c51364d3-fc2f-4a51-8dc9-566f591b2c38/summerReplicated/training/UNET_256wetlandLES940.tfrecord.gz is different from target path: /tmp/tmpe3whikq9/c51364d3-fc2f-4a51-8dc9-566f591b2c38/UNET_256wetlandLES940.tfrecord.gz\nDownloaded path: /tmp/tmpe3whikq9/c51364d3-fc2f-4a51-8dc9-566f591b2c38/summerReplicated/training/UNET_256wetlandLES945.tfrecord.gz is different from target path: /tmp/tmpe3whikq9/c51364d3-fc2f-4a51-8dc9-566f591b2c38/UNET_256wetlandLES945.tfrecord.gz\nDownloaded path: /tmp/tmpe3whikq9/c51364d3-fc2f-4a51-8dc9-566f591b2c38/summerReplicated/training/UNET_256wetlandLES95.tfrecord.gz is different from target path: /tmp/tmpe3whikq9/c51364d3-fc2f-4a51-8dc9-566f591b2c38/UNET_256wetlandLES95.tfrecord.gz\nDownloaded path: /tmp/tmpe3whikq9/c51364d3-fc2f-4a51-8dc9-566f591b2c38/summerReplicated/training/UNET_256wetlandLES950.tfrecord.gz is different from target path: /tmp/tmpe3whikq9/c51364d3-fc2f-4a51-8dc9-566f591b2c38/UNET_256wetlandLES950.tfrecord.gz\nDownloaded path: /tmp/tmpe3whikq9/c51364d3-fc2f-4a51-8dc9-566f591b2c38/summerReplicated/training/UNET_256wetlandLES955.tfrecord.gz is different from target path: /tmp/tmpe3whikq9/c51364d3-fc2f-4a51-8dc9-566f591b2c38/UNET_256wetlandLES955.tfrecord.gz\nDownloaded path: /tmp/tmpe3whikq9/c51364d3-fc2f-4a51-8dc9-566f591b2c38/summerReplicated/training/UNET_256wetlandLES960.tfrecord.gz is different from target path: /tmp/tmpe3whikq9/c51364d3-fc2f-4a51-8dc9-566f591b2c38/UNET_256wetlandLES960.tfrecord.gz\nDownloaded path: /tmp/tmpe3whikq9/c51364d3-fc2f-4a51-8dc9-566f591b2c38/summerReplicated/training/UNET_256wetlandLES965.tfrecord.gz is different from target path: /tmp/tmpe3whikq9/c51364d3-fc2f-4a51-8dc9-566f591b2c38/UNET_256wetlandLES965.tfrecord.gz\nDownloaded path: /tmp/tmpe3whikq9/c51364d3-fc2f-4a51-8dc9-566f591b2c38/summerReplicated/training/UNET_256wetlandLES970.tfrecord.gz is different from target path: /tmp/tmpe3whikq9/c51364d3-fc2f-4a51-8dc9-566f591b2c38/UNET_256wetlandLES970.tfrecord.gz\nDownloaded path: /tmp/tmpe3whikq9/c51364d3-fc2f-4a51-8dc9-566f591b2c38/summerReplicated/training/UNET_256wetlandLES975.tfrecord.gz is different from target path: /tmp/tmpe3whikq9/c51364d3-fc2f-4a51-8dc9-566f591b2c38/UNET_256wetlandLES975.tfrecord.gz\nDownloaded path: /tmp/tmpe3whikq9/c51364d3-fc2f-4a51-8dc9-566f591b2c38/summerReplicated/training/UNET_256wetlandLES980.tfrecord.gz is different from target path: /tmp/tmpe3whikq9/c51364d3-fc2f-4a51-8dc9-566f591b2c38/UNET_256wetlandLES980.tfrecord.gz\nDownloaded path: /tmp/tmpe3whikq9/c51364d3-fc2f-4a51-8dc9-566f591b2c38/summerReplicated/training/UNET_256wetlandLES985.tfrecord.gz is different from target path: /tmp/tmpe3whikq9/c51364d3-fc2f-4a51-8dc9-566f591b2c38/UNET_256wetlandLES985.tfrecord.gz\nDownloaded path: /tmp/tmpe3whikq9/c51364d3-fc2f-4a51-8dc9-566f591b2c38/summerReplicated/training/UNET_256wetlandLES990.tfrecord.gz is different from target path: /tmp/tmpe3whikq9/c51364d3-fc2f-4a51-8dc9-566f591b2c38/UNET_256wetlandLES990.tfrecord.gz\nDownloaded path: /tmp/tmpe3whikq9/c51364d3-fc2f-4a51-8dc9-566f591b2c38/summerReplicated/training/UNET_256wetlandLES995.tfrecord.gz is different from target path: /tmp/tmpe3whikq9/c51364d3-fc2f-4a51-8dc9-566f591b2c38/UNET_256wetlandLES995.tfrecord.gz\n1788\n"
        }
      ],
      "execution_count": 102,
      "metadata": {
        "jupyter": {
          "source_hidden": false,
          "outputs_hidden": false
        },
        "nteract": {
          "transient": {
            "deleting": false
          }
        },
        "gather": {
          "logged": 1648501110126
        }
      }
    },
    {
      "cell_type": "code",
      "source": [
        "WEIGHT = nonPix/wetlandPix\r\n",
        "WEIGHT"
      ],
      "outputs": [
        {
          "output_type": "execute_result",
          "execution_count": 109,
          "data": {
            "text/plain": "<tf.Tensor: shape=(), dtype=float32, numpy=20.2953>"
          },
          "metadata": {}
        }
      ],
      "execution_count": 109,
      "metadata": {
        "jupyter": {
          "source_hidden": false,
          "outputs_hidden": false
        },
        "nteract": {
          "transient": {
            "deleting": false
          }
        },
        "gather": {
          "logged": 1648501272756
        }
      }
    },
    {
      "cell_type": "code",
      "source": [
        "tf.reduce_min(example[0][:, 0:256, 0:256, 36])"
      ],
      "outputs": [
        {
          "output_type": "execute_result",
          "execution_count": 58,
          "data": {
            "text/plain": "<tf.Tensor: shape=(), dtype=float32, numpy=0.0>"
          },
          "metadata": {}
        }
      ],
      "execution_count": 58,
      "metadata": {
        "jupyter": {
          "source_hidden": false,
          "outputs_hidden": false
        },
        "nteract": {
          "transient": {
            "deleting": false
          }
        },
        "gather": {
          "logged": 1648490084878
        }
      }
    },
    {
      "cell_type": "markdown",
      "source": [
        "## Experiment Setup"
      ],
      "metadata": {
        "nteract": {
          "transient": {
            "deleting": false
          }
        }
      }
    },
    {
      "cell_type": "code",
      "source": [
        "# define the compute target\n",
        "ws.compute_targets\n",
        "wetlandGPU = ws.compute_targets['wetlandsGPU']\n",
        "wetlandDSVM = ws.compute_targets['wetland-dsvm']\n",
        "wetlandDSVM2 = ws.compute_targets['wetland-dsvm2']"
      ],
      "outputs": [],
      "execution_count": 11,
      "metadata": {
        "collapsed": true,
        "jupyter": {
          "source_hidden": false,
          "outputs_hidden": false
        },
        "nteract": {
          "transient": {
            "deleting": false
          }
        },
        "gather": {
          "logged": 1648748252444
        }
      }
    },
    {
      "cell_type": "code",
      "source": [
        "# define the command line arguments to our training sript\n",
        "weight = 2\n",
        "args = [\n",
        "    '--train_data', train_dataset.as_mount(),\n",
        "    '--eval_data', eval_dataset.as_mount(),\n",
        "    '--subset', '256wetlandLES',\n",
        "    '--test_data', test_dataset.as_mount(),\n",
        "    '--model_id', model_id,\n",
        "    '--weight', weight, \n",
        "    '--bias', 0,\n",
        "    '-lr', 0.0005,\n",
        "    '--epochs', 50,\n",
        "    '--batch', 16,\n",
        "    '--size', 1788,#7207, #14225,\n",
        "    '--kernel_size', 256,\n",
        "    '--response', 'wetland']"
      ],
      "outputs": [],
      "execution_count": 12,
      "metadata": {
        "collapsed": true,
        "jupyter": {
          "source_hidden": false,
          "outputs_hidden": false
        },
        "nteract": {
          "transient": {
            "deleting": false
          }
        },
        "gather": {
          "logged": 1648748255509
        }
      }
    },
    {
      "cell_type": "code",
      "source": [
        "#  run the training job\n",
        "features = 'full'\n",
        "src = ScriptRunConfig(source_directory=script_folder,\n",
        "                      script=script_file, \n",
        "                      arguments=args,\n",
        "                      compute_target=wetlandDSVM2,\n",
        "                      environment=env)\n",
        "run = exp.submit(config=src, tags = dict({'splits':'None', 'one_hot':'geomorphons', 'model':'Unet', 'normalization':'pixel', 'features':f'{features}', 'epochs':'200-250', 'weight':f'{weight}'}))\n",
        "run"
      ],
      "outputs": [
        {
          "output_type": "execute_result",
          "execution_count": 15,
          "data": {
            "text/plain": "Run(Experiment: wetland-unet-les,\nId: wetland-unet-les_1648748275_776a08c2,\nType: azureml.scriptrun,\nStatus: Starting)",
            "text/html": "<table style=\"width:100%\"><tr><th>Experiment</th><th>Id</th><th>Type</th><th>Status</th><th>Details Page</th><th>Docs Page</th></tr><tr><td>wetland-unet-les</td><td>wetland-unet-les_1648748275_776a08c2</td><td>azureml.scriptrun</td><td>Starting</td><td><a href=\"https://ml.azure.com/runs/wetland-unet-les_1648748275_776a08c2?wsid=/subscriptions/d54a5b4d-fd0c-4790-9898-ad1092502ab5/resourcegroups/cic_ai/workspaces/wetlands&amp;tid=2a55ee5f-4b13-43bb-b2d8-0c693229ec8a\" target=\"_blank\" rel=\"noopener\">Link to Azure Machine Learning studio</a></td><td><a href=\"https://docs.microsoft.com/en-us/python/api/azureml-core/azureml.core.script_run.ScriptRun?view=azure-ml-py\" target=\"_blank\" rel=\"noopener\">Link to Documentation</a></td></tr></table>"
          },
          "metadata": {}
        }
      ],
      "execution_count": 15,
      "metadata": {
        "collapsed": true,
        "jupyter": {
          "source_hidden": false,
          "outputs_hidden": false
        },
        "nteract": {
          "transient": {
            "deleting": false
          }
        },
        "gather": {
          "logged": 1648748279149
        }
      }
    },
    {
      "cell_type": "code",
      "source": [
        "#  run the training job\n",
        "features = 'basic'\n",
        "src = ScriptRunConfig(source_directory=script_folder,\n",
        "                      script=script_file.format(features), \n",
        "                      arguments=args,\n",
        "                      compute_target= wetlandGPU,\n",
        "                      environment=env)\n",
        "run = exp.submit(config=src, tags = dict({'splits':'None', 'one_hot':'none', 'model':'Unet', 'normalization':'pixel', 'features':f'{features}', 'epochs':'150-200', 'weight':'2'}))\n",
        "run"
      ],
      "outputs": [
        {
          "output_type": "execute_result",
          "execution_count": 16,
          "data": {
            "text/plain": "Run(Experiment: wetland-unet-les,\nId: wetland-unet-les_1648737274_0520f70d,\nType: azureml.scriptrun,\nStatus: Preparing)",
            "text/html": "<table style=\"width:100%\"><tr><th>Experiment</th><th>Id</th><th>Type</th><th>Status</th><th>Details Page</th><th>Docs Page</th></tr><tr><td>wetland-unet-les</td><td>wetland-unet-les_1648737274_0520f70d</td><td>azureml.scriptrun</td><td>Preparing</td><td><a href=\"https://ml.azure.com/runs/wetland-unet-les_1648737274_0520f70d?wsid=/subscriptions/d54a5b4d-fd0c-4790-9898-ad1092502ab5/resourcegroups/cic_ai/workspaces/wetlands&amp;tid=2a55ee5f-4b13-43bb-b2d8-0c693229ec8a\" target=\"_blank\" rel=\"noopener\">Link to Azure Machine Learning studio</a></td><td><a href=\"https://docs.microsoft.com/en-us/python/api/azureml-core/azureml.core.script_run.ScriptRun?view=azure-ml-py\" target=\"_blank\" rel=\"noopener\">Link to Documentation</a></td></tr></table>"
          },
          "metadata": {}
        }
      ],
      "execution_count": 16,
      "metadata": {
        "collapsed": true,
        "jupyter": {
          "source_hidden": false,
          "outputs_hidden": false
        },
        "nteract": {
          "transient": {
            "deleting": false
          }
        },
        "gather": {
          "logged": 1648737279538
        }
      }
    }
  ],
  "metadata": {
    "kernelspec": {
      "name": "python3-azureml",
      "language": "python",
      "display_name": "Python 3.6 - AzureML"
    },
    "language_info": {
      "name": "python",
      "version": "3.6.9",
      "mimetype": "text/x-python",
      "codemirror_mode": {
        "name": "ipython",
        "version": 3
      },
      "pygments_lexer": "ipython3",
      "nbconvert_exporter": "python",
      "file_extension": ".py"
    },
    "microsoft": {
      "host": {
        "AzureML": {
          "notebookHasBeenCompleted": true
        }
      }
    },
    "nteract": {
      "version": "nteract-front-end@1.0.0"
    },
    "kernel_info": {
      "name": "python3-azureml"
    }
  },
  "nbformat": 4,
  "nbformat_minor": 2
}